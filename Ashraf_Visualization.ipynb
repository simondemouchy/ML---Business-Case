{
 "cells": [
  {
   "cell_type": "markdown",
   "metadata": {},
   "source": [
    "## Data Analysis"
   ]
  },
  {
   "cell_type": "markdown",
   "metadata": {},
   "source": [
    "### Importing libraries"
   ]
  },
  {
   "cell_type": "code",
   "execution_count": 263,
   "metadata": {},
   "outputs": [],
   "source": [
    "import pandas as pd\n",
    "import seaborn as sns\n",
    "import numpy as np\n",
    "import matplotlib.pyplot as plt"
   ]
  },
  {
   "cell_type": "markdown",
   "metadata": {},
   "source": [
    "### Reading data"
   ]
  },
  {
   "cell_type": "code",
   "execution_count": 264,
   "metadata": {},
   "outputs": [
    {
     "name": "stderr",
     "output_type": "stream",
     "text": [
      "/home/ghiye/.local/lib/python3.8/site-packages/IPython/core/interactiveshell.py:3146: DtypeWarning: Columns (8) have mixed types.Specify dtype option on import or set low_memory=False.\n",
      "  has_raised = await self.run_ast_nodes(code_ast.body, cell_name,\n"
     ]
    },
    {
     "name": "stdout",
     "output_type": "stream",
     "text": [
      "store :  (1115, 10)\n",
      "train :  (1017209, 9)\n",
      "test :  (41088, 8)\n"
     ]
    }
   ],
   "source": [
    "store = pd.read_csv('Data/store.csv');\n",
    "train_1 = pd.read_csv('Data/train_1.csv');\n",
    "train_2 = pd.read_csv('Data/train_2.csv');\n",
    "train = pd.concat([train_1, train_2], axis=0);\n",
    "train= train.drop(columns=['Unnamed: 0'])\n",
    "test = pd.read_csv('Data/test.csv')\n",
    "\n",
    "print('store : ',store.shape)\n",
    "print('train : ',train.shape)\n",
    "print('test : ',test.shape)"
   ]
  },
  {
   "cell_type": "markdown",
   "metadata": {},
   "source": [
    "### Data Description"
   ]
  },
  {
   "cell_type": "markdown",
   "metadata": {},
   "source": [
    "In this section, we will get to know the features of our dataset.\n",
    "\n",
    "Our data is split in two seperate datasets, `Store` and `Train`. \n",
    "\n",
    "- `Store`: contains features that describe the stores, e.g. store type or competition distance.\n",
    "\n",
    "- `Train`: contains informations about the sales, number of customers, etc.. of each stores."
   ]
  },
  {
   "cell_type": "markdown",
   "metadata": {},
   "source": [
    "Most of the fields are self-explanatory. The following are descriptions for those that aren't.\n",
    "\n",
    "- **Id**: an Id that represents a (Store, Date) tuple within the test set.\n",
    "\n",
    "\n",
    "- **Store**: a unique Id for each store.\n",
    "\n",
    "\n",
    "- **Sales**: the turnover for any given day.\n",
    "\n",
    "\n",
    "- **Customers**: the number of customers on a given day.\n",
    "\n",
    "\n",
    "- **Open**: an indicator for whether the store was open: 0 = closed, 1 = open.\n",
    "\n",
    "\n",
    "- **StateHoliday**: indicates a state holiday. Normally all stores, with few exceptions, are closed on state holidays. \n",
    "Note that all schools are closed on public holidays and weekends. a = public holiday, b = Easter holiday, c = Christmas, 0 = None\n",
    "\n",
    "\n",
    "- **SchoolHoliday**: indicates if the (Store, Date) was affected by the closure of public schools.\n",
    "\n",
    "\n",
    "- **StoreType**: differentiates between 4 different store models: a, b, c, d.\n",
    "\n",
    "\n",
    "- **Assortment**: describes an assortment level: a = basic, b = extra, c = extended.\n",
    "\n",
    "\n",
    "- **CompetitionDistance**: distance in meters to the nearest competitor store.\n",
    "\n",
    "\n",
    "- **CompetitionOpenSince[Month/Year]**: gives the approximate year and month of the time the nearest competitor was opened.\n",
    "\n",
    "\n",
    "- **Promo**: indicates whether a store is running a promo on that day.\n",
    "\n",
    "\n",
    "- **Promo2**: Promo2 is a continuing and consecutive promotion for some stores: 0 = store is not participating, 1 = store is participating.\n",
    "\n",
    "\n",
    "- **Promo2Since[Year/Week]**: describes the year and calendar week when the store started participating in Promo2.\n",
    "\n",
    "\n",
    "- **PromoInterval**: describes the consecutive intervals Promo2 is started, naming the months the promotion is started anew. E.g. \"Feb,May,Aug,Nov\" means each round starts in February, May, August, November of any given year for that store."
   ]
  },
  {
   "cell_type": "code",
   "execution_count": 265,
   "metadata": {},
   "outputs": [],
   "source": [
    "def missing_data(df) : \n",
    "    \"\"\"\n",
    "    Explore the % of NaN values in dataframe df.\n",
    "    \"\"\"\n",
    "    #caculate the total number of Null values for each variable\n",
    "    total = df.isnull().sum()\n",
    "    #caculate the percent of missing values\n",
    "    percent_1 = df.isnull().sum()/df.shape[0]*100\n",
    "    percent_2 = (round(percent_1, 1))\n",
    "    missing_data = pd.concat([total, percent_2], axis=1, keys=['Total', '%'])\n",
    "    return missing_data.sort_values(by=\"%\",ascending=False)"
   ]
  },
  {
   "cell_type": "markdown",
   "metadata": {},
   "source": [
    "### Store"
   ]
  },
  {
   "cell_type": "code",
   "execution_count": 266,
   "metadata": {},
   "outputs": [
    {
     "data": {
      "text/html": [
       "<div>\n",
       "<style scoped>\n",
       "    .dataframe tbody tr th:only-of-type {\n",
       "        vertical-align: middle;\n",
       "    }\n",
       "\n",
       "    .dataframe tbody tr th {\n",
       "        vertical-align: top;\n",
       "    }\n",
       "\n",
       "    .dataframe thead th {\n",
       "        text-align: right;\n",
       "    }\n",
       "</style>\n",
       "<table border=\"1\" class=\"dataframe\">\n",
       "  <thead>\n",
       "    <tr style=\"text-align: right;\">\n",
       "      <th></th>\n",
       "      <th>Store</th>\n",
       "      <th>StoreType</th>\n",
       "      <th>Assortment</th>\n",
       "      <th>CompetitionDistance</th>\n",
       "      <th>CompetitionOpenSinceMonth</th>\n",
       "      <th>CompetitionOpenSinceYear</th>\n",
       "      <th>Promo2</th>\n",
       "      <th>Promo2SinceWeek</th>\n",
       "      <th>Promo2SinceYear</th>\n",
       "      <th>PromoInterval</th>\n",
       "    </tr>\n",
       "  </thead>\n",
       "  <tbody>\n",
       "    <tr>\n",
       "      <th>0</th>\n",
       "      <td>1</td>\n",
       "      <td>c</td>\n",
       "      <td>a</td>\n",
       "      <td>1270.0</td>\n",
       "      <td>9.0</td>\n",
       "      <td>2008.0</td>\n",
       "      <td>0</td>\n",
       "      <td>NaN</td>\n",
       "      <td>NaN</td>\n",
       "      <td>NaN</td>\n",
       "    </tr>\n",
       "    <tr>\n",
       "      <th>1</th>\n",
       "      <td>2</td>\n",
       "      <td>a</td>\n",
       "      <td>a</td>\n",
       "      <td>570.0</td>\n",
       "      <td>11.0</td>\n",
       "      <td>2007.0</td>\n",
       "      <td>1</td>\n",
       "      <td>13.0</td>\n",
       "      <td>2010.0</td>\n",
       "      <td>Jan,Apr,Jul,Oct</td>\n",
       "    </tr>\n",
       "    <tr>\n",
       "      <th>2</th>\n",
       "      <td>3</td>\n",
       "      <td>a</td>\n",
       "      <td>a</td>\n",
       "      <td>14130.0</td>\n",
       "      <td>12.0</td>\n",
       "      <td>2006.0</td>\n",
       "      <td>1</td>\n",
       "      <td>14.0</td>\n",
       "      <td>2011.0</td>\n",
       "      <td>Jan,Apr,Jul,Oct</td>\n",
       "    </tr>\n",
       "    <tr>\n",
       "      <th>3</th>\n",
       "      <td>4</td>\n",
       "      <td>c</td>\n",
       "      <td>c</td>\n",
       "      <td>620.0</td>\n",
       "      <td>9.0</td>\n",
       "      <td>2009.0</td>\n",
       "      <td>0</td>\n",
       "      <td>NaN</td>\n",
       "      <td>NaN</td>\n",
       "      <td>NaN</td>\n",
       "    </tr>\n",
       "    <tr>\n",
       "      <th>4</th>\n",
       "      <td>5</td>\n",
       "      <td>a</td>\n",
       "      <td>a</td>\n",
       "      <td>29910.0</td>\n",
       "      <td>4.0</td>\n",
       "      <td>2015.0</td>\n",
       "      <td>0</td>\n",
       "      <td>NaN</td>\n",
       "      <td>NaN</td>\n",
       "      <td>NaN</td>\n",
       "    </tr>\n",
       "  </tbody>\n",
       "</table>\n",
       "</div>"
      ],
      "text/plain": [
       "   Store StoreType Assortment  CompetitionDistance  CompetitionOpenSinceMonth  \\\n",
       "0      1         c          a               1270.0                        9.0   \n",
       "1      2         a          a                570.0                       11.0   \n",
       "2      3         a          a              14130.0                       12.0   \n",
       "3      4         c          c                620.0                        9.0   \n",
       "4      5         a          a              29910.0                        4.0   \n",
       "\n",
       "   CompetitionOpenSinceYear  Promo2  Promo2SinceWeek  Promo2SinceYear  \\\n",
       "0                    2008.0       0              NaN              NaN   \n",
       "1                    2007.0       1             13.0           2010.0   \n",
       "2                    2006.0       1             14.0           2011.0   \n",
       "3                    2009.0       0              NaN              NaN   \n",
       "4                    2015.0       0              NaN              NaN   \n",
       "\n",
       "     PromoInterval  \n",
       "0              NaN  \n",
       "1  Jan,Apr,Jul,Oct  \n",
       "2  Jan,Apr,Jul,Oct  \n",
       "3              NaN  \n",
       "4              NaN  "
      ]
     },
     "execution_count": 266,
     "metadata": {},
     "output_type": "execute_result"
    }
   ],
   "source": [
    "store.head(5)"
   ]
  },
  {
   "cell_type": "code",
   "execution_count": 267,
   "metadata": {},
   "outputs": [
    {
     "name": "stdout",
     "output_type": "stream",
     "text": [
      "<class 'pandas.core.frame.DataFrame'>\n",
      "RangeIndex: 1115 entries, 0 to 1114\n",
      "Data columns (total 10 columns):\n",
      " #   Column                     Non-Null Count  Dtype  \n",
      "---  ------                     --------------  -----  \n",
      " 0   Store                      1115 non-null   int64  \n",
      " 1   StoreType                  1115 non-null   object \n",
      " 2   Assortment                 1115 non-null   object \n",
      " 3   CompetitionDistance        1112 non-null   float64\n",
      " 4   CompetitionOpenSinceMonth  761 non-null    float64\n",
      " 5   CompetitionOpenSinceYear   761 non-null    float64\n",
      " 6   Promo2                     1115 non-null   int64  \n",
      " 7   Promo2SinceWeek            571 non-null    float64\n",
      " 8   Promo2SinceYear            571 non-null    float64\n",
      " 9   PromoInterval              571 non-null    object \n",
      "dtypes: float64(5), int64(2), object(3)\n",
      "memory usage: 87.2+ KB\n"
     ]
    }
   ],
   "source": [
    "store.info()"
   ]
  },
  {
   "cell_type": "code",
   "execution_count": 268,
   "metadata": {},
   "outputs": [
    {
     "data": {
      "text/html": [
       "<div>\n",
       "<style scoped>\n",
       "    .dataframe tbody tr th:only-of-type {\n",
       "        vertical-align: middle;\n",
       "    }\n",
       "\n",
       "    .dataframe tbody tr th {\n",
       "        vertical-align: top;\n",
       "    }\n",
       "\n",
       "    .dataframe thead th {\n",
       "        text-align: right;\n",
       "    }\n",
       "</style>\n",
       "<table border=\"1\" class=\"dataframe\">\n",
       "  <thead>\n",
       "    <tr style=\"text-align: right;\">\n",
       "      <th></th>\n",
       "      <th>Total</th>\n",
       "      <th>%</th>\n",
       "    </tr>\n",
       "  </thead>\n",
       "  <tbody>\n",
       "    <tr>\n",
       "      <th>Promo2SinceWeek</th>\n",
       "      <td>544</td>\n",
       "      <td>48.8</td>\n",
       "    </tr>\n",
       "    <tr>\n",
       "      <th>Promo2SinceYear</th>\n",
       "      <td>544</td>\n",
       "      <td>48.8</td>\n",
       "    </tr>\n",
       "    <tr>\n",
       "      <th>PromoInterval</th>\n",
       "      <td>544</td>\n",
       "      <td>48.8</td>\n",
       "    </tr>\n",
       "    <tr>\n",
       "      <th>CompetitionOpenSinceMonth</th>\n",
       "      <td>354</td>\n",
       "      <td>31.7</td>\n",
       "    </tr>\n",
       "    <tr>\n",
       "      <th>CompetitionOpenSinceYear</th>\n",
       "      <td>354</td>\n",
       "      <td>31.7</td>\n",
       "    </tr>\n",
       "    <tr>\n",
       "      <th>CompetitionDistance</th>\n",
       "      <td>3</td>\n",
       "      <td>0.3</td>\n",
       "    </tr>\n",
       "    <tr>\n",
       "      <th>Store</th>\n",
       "      <td>0</td>\n",
       "      <td>0.0</td>\n",
       "    </tr>\n",
       "    <tr>\n",
       "      <th>StoreType</th>\n",
       "      <td>0</td>\n",
       "      <td>0.0</td>\n",
       "    </tr>\n",
       "    <tr>\n",
       "      <th>Assortment</th>\n",
       "      <td>0</td>\n",
       "      <td>0.0</td>\n",
       "    </tr>\n",
       "    <tr>\n",
       "      <th>Promo2</th>\n",
       "      <td>0</td>\n",
       "      <td>0.0</td>\n",
       "    </tr>\n",
       "  </tbody>\n",
       "</table>\n",
       "</div>"
      ],
      "text/plain": [
       "                           Total     %\n",
       "Promo2SinceWeek              544  48.8\n",
       "Promo2SinceYear              544  48.8\n",
       "PromoInterval                544  48.8\n",
       "CompetitionOpenSinceMonth    354  31.7\n",
       "CompetitionOpenSinceYear     354  31.7\n",
       "CompetitionDistance            3   0.3\n",
       "Store                          0   0.0\n",
       "StoreType                      0   0.0\n",
       "Assortment                     0   0.0\n",
       "Promo2                         0   0.0"
      ]
     },
     "execution_count": 268,
     "metadata": {},
     "output_type": "execute_result"
    }
   ],
   "source": [
    "missing_data(store)"
   ]
  },
  {
   "cell_type": "markdown",
   "metadata": {},
   "source": [
    "As we can see above, the missing values of the first 5 features are imortant ($\\approx 50\\%$), thus they might not be useful in our case, and probably we will drop them."
   ]
  },
  {
   "cell_type": "code",
   "execution_count": 269,
   "metadata": {},
   "outputs": [
    {
     "data": {
      "text/plain": [
       "Store                        1115\n",
       "StoreType                       4\n",
       "Assortment                      3\n",
       "CompetitionDistance           654\n",
       "CompetitionOpenSinceMonth      12\n",
       "CompetitionOpenSinceYear       23\n",
       "Promo2                          2\n",
       "Promo2SinceWeek                24\n",
       "Promo2SinceYear                 7\n",
       "PromoInterval                   3\n",
       "dtype: int64"
      ]
     },
     "execution_count": 269,
     "metadata": {},
     "output_type": "execute_result"
    }
   ],
   "source": [
    "store.nunique()"
   ]
  },
  {
   "cell_type": "markdown",
   "metadata": {},
   "source": [
    "Mostly, all of the features are categorical. we can use for example `pd.get_dummies` to get the OneHot encoding of these features and to eliminate orders between features."
   ]
  },
  {
   "cell_type": "markdown",
   "metadata": {},
   "source": [
    "### Train"
   ]
  },
  {
   "cell_type": "code",
   "execution_count": 270,
   "metadata": {},
   "outputs": [
    {
     "data": {
      "text/html": [
       "<div>\n",
       "<style scoped>\n",
       "    .dataframe tbody tr th:only-of-type {\n",
       "        vertical-align: middle;\n",
       "    }\n",
       "\n",
       "    .dataframe tbody tr th {\n",
       "        vertical-align: top;\n",
       "    }\n",
       "\n",
       "    .dataframe thead th {\n",
       "        text-align: right;\n",
       "    }\n",
       "</style>\n",
       "<table border=\"1\" class=\"dataframe\">\n",
       "  <thead>\n",
       "    <tr style=\"text-align: right;\">\n",
       "      <th></th>\n",
       "      <th>Store</th>\n",
       "      <th>DayOfWeek</th>\n",
       "      <th>Date</th>\n",
       "      <th>Sales</th>\n",
       "      <th>Customers</th>\n",
       "      <th>Open</th>\n",
       "      <th>Promo</th>\n",
       "      <th>StateHoliday</th>\n",
       "      <th>SchoolHoliday</th>\n",
       "    </tr>\n",
       "  </thead>\n",
       "  <tbody>\n",
       "    <tr>\n",
       "      <th>0</th>\n",
       "      <td>1</td>\n",
       "      <td>5</td>\n",
       "      <td>2015-07-31</td>\n",
       "      <td>5263</td>\n",
       "      <td>555</td>\n",
       "      <td>1</td>\n",
       "      <td>1</td>\n",
       "      <td>0</td>\n",
       "      <td>1</td>\n",
       "    </tr>\n",
       "    <tr>\n",
       "      <th>1</th>\n",
       "      <td>2</td>\n",
       "      <td>5</td>\n",
       "      <td>2015-07-31</td>\n",
       "      <td>6064</td>\n",
       "      <td>625</td>\n",
       "      <td>1</td>\n",
       "      <td>1</td>\n",
       "      <td>0</td>\n",
       "      <td>1</td>\n",
       "    </tr>\n",
       "    <tr>\n",
       "      <th>2</th>\n",
       "      <td>3</td>\n",
       "      <td>5</td>\n",
       "      <td>2015-07-31</td>\n",
       "      <td>8314</td>\n",
       "      <td>821</td>\n",
       "      <td>1</td>\n",
       "      <td>1</td>\n",
       "      <td>0</td>\n",
       "      <td>1</td>\n",
       "    </tr>\n",
       "    <tr>\n",
       "      <th>3</th>\n",
       "      <td>4</td>\n",
       "      <td>5</td>\n",
       "      <td>2015-07-31</td>\n",
       "      <td>13995</td>\n",
       "      <td>1498</td>\n",
       "      <td>1</td>\n",
       "      <td>1</td>\n",
       "      <td>0</td>\n",
       "      <td>1</td>\n",
       "    </tr>\n",
       "    <tr>\n",
       "      <th>4</th>\n",
       "      <td>5</td>\n",
       "      <td>5</td>\n",
       "      <td>2015-07-31</td>\n",
       "      <td>4822</td>\n",
       "      <td>559</td>\n",
       "      <td>1</td>\n",
       "      <td>1</td>\n",
       "      <td>0</td>\n",
       "      <td>1</td>\n",
       "    </tr>\n",
       "  </tbody>\n",
       "</table>\n",
       "</div>"
      ],
      "text/plain": [
       "   Store  DayOfWeek        Date  Sales  Customers  Open  Promo StateHoliday  \\\n",
       "0      1          5  2015-07-31   5263        555     1      1            0   \n",
       "1      2          5  2015-07-31   6064        625     1      1            0   \n",
       "2      3          5  2015-07-31   8314        821     1      1            0   \n",
       "3      4          5  2015-07-31  13995       1498     1      1            0   \n",
       "4      5          5  2015-07-31   4822        559     1      1            0   \n",
       "\n",
       "   SchoolHoliday  \n",
       "0              1  \n",
       "1              1  \n",
       "2              1  \n",
       "3              1  \n",
       "4              1  "
      ]
     },
     "execution_count": 270,
     "metadata": {},
     "output_type": "execute_result"
    }
   ],
   "source": [
    "train.head(5)"
   ]
  },
  {
   "cell_type": "code",
   "execution_count": 271,
   "metadata": {},
   "outputs": [
    {
     "name": "stdout",
     "output_type": "stream",
     "text": [
      "<class 'pandas.core.frame.DataFrame'>\n",
      "Int64Index: 1017209 entries, 0 to 508604\n",
      "Data columns (total 9 columns):\n",
      " #   Column         Non-Null Count    Dtype \n",
      "---  ------         --------------    ----- \n",
      " 0   Store          1017209 non-null  int64 \n",
      " 1   DayOfWeek      1017209 non-null  int64 \n",
      " 2   Date           1017209 non-null  object\n",
      " 3   Sales          1017209 non-null  int64 \n",
      " 4   Customers      1017209 non-null  int64 \n",
      " 5   Open           1017209 non-null  int64 \n",
      " 6   Promo          1017209 non-null  int64 \n",
      " 7   StateHoliday   1017209 non-null  object\n",
      " 8   SchoolHoliday  1017209 non-null  int64 \n",
      "dtypes: int64(7), object(2)\n",
      "memory usage: 77.6+ MB\n"
     ]
    }
   ],
   "source": [
    "train.info()"
   ]
  },
  {
   "cell_type": "code",
   "execution_count": 272,
   "metadata": {},
   "outputs": [
    {
     "data": {
      "text/html": [
       "<div>\n",
       "<style scoped>\n",
       "    .dataframe tbody tr th:only-of-type {\n",
       "        vertical-align: middle;\n",
       "    }\n",
       "\n",
       "    .dataframe tbody tr th {\n",
       "        vertical-align: top;\n",
       "    }\n",
       "\n",
       "    .dataframe thead th {\n",
       "        text-align: right;\n",
       "    }\n",
       "</style>\n",
       "<table border=\"1\" class=\"dataframe\">\n",
       "  <thead>\n",
       "    <tr style=\"text-align: right;\">\n",
       "      <th></th>\n",
       "      <th>Total</th>\n",
       "      <th>%</th>\n",
       "    </tr>\n",
       "  </thead>\n",
       "  <tbody>\n",
       "    <tr>\n",
       "      <th>Store</th>\n",
       "      <td>0</td>\n",
       "      <td>0.0</td>\n",
       "    </tr>\n",
       "    <tr>\n",
       "      <th>DayOfWeek</th>\n",
       "      <td>0</td>\n",
       "      <td>0.0</td>\n",
       "    </tr>\n",
       "    <tr>\n",
       "      <th>Date</th>\n",
       "      <td>0</td>\n",
       "      <td>0.0</td>\n",
       "    </tr>\n",
       "    <tr>\n",
       "      <th>Sales</th>\n",
       "      <td>0</td>\n",
       "      <td>0.0</td>\n",
       "    </tr>\n",
       "    <tr>\n",
       "      <th>Customers</th>\n",
       "      <td>0</td>\n",
       "      <td>0.0</td>\n",
       "    </tr>\n",
       "    <tr>\n",
       "      <th>Open</th>\n",
       "      <td>0</td>\n",
       "      <td>0.0</td>\n",
       "    </tr>\n",
       "    <tr>\n",
       "      <th>Promo</th>\n",
       "      <td>0</td>\n",
       "      <td>0.0</td>\n",
       "    </tr>\n",
       "    <tr>\n",
       "      <th>StateHoliday</th>\n",
       "      <td>0</td>\n",
       "      <td>0.0</td>\n",
       "    </tr>\n",
       "    <tr>\n",
       "      <th>SchoolHoliday</th>\n",
       "      <td>0</td>\n",
       "      <td>0.0</td>\n",
       "    </tr>\n",
       "  </tbody>\n",
       "</table>\n",
       "</div>"
      ],
      "text/plain": [
       "               Total    %\n",
       "Store              0  0.0\n",
       "DayOfWeek          0  0.0\n",
       "Date               0  0.0\n",
       "Sales              0  0.0\n",
       "Customers          0  0.0\n",
       "Open               0  0.0\n",
       "Promo              0  0.0\n",
       "StateHoliday       0  0.0\n",
       "SchoolHoliday      0  0.0"
      ]
     },
     "execution_count": 272,
     "metadata": {},
     "output_type": "execute_result"
    }
   ],
   "source": [
    "missing_data(train)"
   ]
  },
  {
   "cell_type": "markdown",
   "metadata": {},
   "source": [
    "There is no missing values in `train.csv`, thus all features can be used for prediction."
   ]
  },
  {
   "cell_type": "code",
   "execution_count": 273,
   "metadata": {},
   "outputs": [
    {
     "data": {
      "text/plain": [
       "Store             1115\n",
       "DayOfWeek            7\n",
       "Date               942\n",
       "Sales            21734\n",
       "Customers         4086\n",
       "Open                 2\n",
       "Promo                2\n",
       "StateHoliday         5\n",
       "SchoolHoliday        2\n",
       "dtype: int64"
      ]
     },
     "execution_count": 273,
     "metadata": {},
     "output_type": "execute_result"
    }
   ],
   "source": [
    "train.nunique()"
   ]
  },
  {
   "cell_type": "markdown",
   "metadata": {},
   "source": [
    "## Data Exploration"
   ]
  },
  {
   "cell_type": "markdown",
   "metadata": {},
   "source": [
    "#### Day of the week"
   ]
  },
  {
   "cell_type": "markdown",
   "metadata": {},
   "source": [
    "First, we want to see the change in sales during the 7 days of the week, for that we will simply take the daily average of sales for each day of the week."
   ]
  },
  {
   "cell_type": "code",
   "execution_count": 274,
   "metadata": {},
   "outputs": [
    {
     "data": {
      "image/png": "[encoded data removed]",
      "text/plain": [
       "<Figure size 432x288 with 1 Axes>"
      ]
     },
     "metadata": {},
     "output_type": "display_data"
    }
   ],
   "source": [
    "plt.figure()\n",
    "plt.title('Sales by Day of the week.')\n",
    "labels = ['Monday', 'Tuesday', 'Wenesday', 'Thursday', 'Friday', 'Saturday', 'Sunday']\n",
    "ax = sns.barplot(x='DayOfWeek', y='Sales', data=train)\n",
    "ax.set_xlabel(labels)\n",
    "plt.show()"
   ]
  },
  {
   "cell_type": "markdown",
   "metadata": {},
   "source": [
    "From the plot above, we can notice that, on average, the most sales occurs during Mondays. It decreases during the week with a slight peak again in Friday.\n",
    "\n",
    "Also, we notice that sales drop on Sundays. This is expected, since in general the stores are normally closed during that day."
   ]
  },
  {
   "cell_type": "markdown",
   "metadata": {},
   "source": [
    "Let us verify our hypothesis based and validate if it is indeed the case that the stores are closed during Sundays."
   ]
  },
  {
   "cell_type": "code",
   "execution_count": 275,
   "metadata": {},
   "outputs": [
    {
     "data": {
      "text/plain": [
       "0    141137\n",
       "1      3593\n",
       "Name: Open, dtype: int64"
      ]
     },
     "execution_count": 275,
     "metadata": {},
     "output_type": "execute_result"
    }
   ],
   "source": [
    "sundays_close = train.iloc[np.where(train['DayOfWeek']==7)]['Open'].value_counts()\n",
    "sundays_close"
   ]
  },
  {
   "cell_type": "code",
   "execution_count": 276,
   "metadata": {},
   "outputs": [
    {
     "name": "stdout",
     "output_type": "stream",
     "text": [
      "97.52% of the time, the stores are closed on Sundays\n"
     ]
    }
   ],
   "source": [
    "print(\"{0:.2f}% of the time, the stores are closed on Sundays\".format(100*sundays_close[0]/sundays_close.sum()))"
   ]
  },
  {
   "cell_type": "markdown",
   "metadata": {},
   "source": [
    "We can see that most of Sundays, the store is closed. This is why the sales drop during this day."
   ]
  },
  {
   "cell_type": "markdown",
   "metadata": {},
   "source": [
    "#### Open/Closed days"
   ]
  },
  {
   "cell_type": "markdown",
   "metadata": {},
   "source": [
    "Next we will examin the `Open` feature which is the indicator weither the store is open or not.\n",
    "\n",
    "For example, we want to make sure that no sales occur during closed days (e.g. e-commerce sites can still have sales during closed days)."
   ]
  },
  {
   "cell_type": "code",
   "execution_count": 277,
   "metadata": {},
   "outputs": [
    {
     "name": "stdout",
     "output_type": "stream",
     "text": [
      "0 sales during closed days: True\n"
     ]
    }
   ],
   "source": [
    "not_open = train[(train['Open'] == 0) & (train['Sales'] != 0)]\n",
    "print(\"0 sales during closed days: \" + str(not_open.size == 0))"
   ]
  },
  {
   "cell_type": "code",
   "execution_count": 278,
   "metadata": {},
   "outputs": [
    {
     "data": {
      "text/plain": [
       "Open\n",
       "0       0.000000\n",
       "1    6955.514291\n",
       "Name: Sales, dtype: float64"
      ]
     },
     "execution_count": 278,
     "metadata": {},
     "output_type": "execute_result"
    }
   ],
   "source": [
    "train.groupby('Open')['Sales'].mean()"
   ]
  },
  {
   "cell_type": "markdown",
   "metadata": {},
   "source": [
    "Since our goal is to estimate the sales of each store, we won't be interested in closed days were sales are zero.\n",
    "\n",
    "Thus, we can eliminate the days when the stores where closed to not affect our prediction."
   ]
  },
  {
   "cell_type": "markdown",
   "metadata": {},
   "source": [
    "#### Customers"
   ]
  },
  {
   "cell_type": "markdown",
   "metadata": {},
   "source": [
    "We will examine the average number of customers per days of the week."
   ]
  },
  {
   "cell_type": "code",
   "execution_count": 279,
   "metadata": {},
   "outputs": [
    {
     "data": {
      "image/png": "[encoded data removed]",
      "text/plain": [
       "<Figure size 432x288 with 1 Axes>"
      ]
     },
     "metadata": {},
     "output_type": "display_data"
    }
   ],
   "source": [
    "plt.figure()\n",
    "plt.title('Sales by Day of the week.')\n",
    "labels = ['Monday', 'Tuesday', 'Wenesday', 'Thursday', 'Friday', 'Saturday', 'Sunday']\n",
    "ax = sns.barplot(x='DayOfWeek', y='Customers', data=train)\n",
    "ax.set_xlabel(labels)\n",
    "plt.show()"
   ]
  },
  {
   "cell_type": "markdown",
   "metadata": {},
   "source": [
    "It shows similar results to Sales per day of weeks, and this is expected again, since the number of customers is positively correlated with sales growth."
   ]
  },
  {
   "cell_type": "markdown",
   "metadata": {},
   "source": [
    "#### Customers & Sales"
   ]
  },
  {
   "cell_type": "markdown",
   "metadata": {},
   "source": [
    "Let's verify this correlation between `Customers` and `Sales`."
   ]
  },
  {
   "cell_type": "code",
   "execution_count": 280,
   "metadata": {},
   "outputs": [
    {
     "data": {
      "image/png": "[encoded data removed]",
      "text/plain": [
       "<Figure size 720x720 with 1 Axes>"
      ]
     },
     "metadata": {},
     "output_type": "display_data"
    }
   ],
   "source": [
    "f, ax = plt.subplots(figsize=(10, 10))\n",
    "ax.set(xscale=\"log\", yscale=\"log\")\n",
    "\n",
    "sns.scatterplot(x=\"Customers\", y=\"Sales\",ax=ax, data=train[train.Sales != 0 & train.Customers]);"
   ]
  },
  {
   "cell_type": "markdown",
   "metadata": {},
   "source": [
    "It is normal that Sales will grow with Customers. hence a positive linear correlation exist between these two variables."
   ]
  },
  {
   "cell_type": "markdown",
   "metadata": {},
   "source": [
    "#### Promo Days"
   ]
  },
  {
   "cell_type": "markdown",
   "metadata": {},
   "source": [
    "Now, we will examine more the average sales in function of promo days."
   ]
  },
  {
   "cell_type": "code",
   "execution_count": 281,
   "metadata": {},
   "outputs": [],
   "source": [
    "sales_by_promo = train.groupby('Promo')[\"Sales\"].mean()"
   ]
  },
  {
   "cell_type": "code",
   "execution_count": 282,
   "metadata": {},
   "outputs": [
    {
     "data": {
      "image/png": "[encoded data removed]",
      "text/plain": [
       "<Figure size 720x432 with 1 Axes>"
      ]
     },
     "metadata": {},
     "output_type": "display_data"
    }
   ],
   "source": [
    "pie, ax = plt.subplots(figsize=[10,6])\n",
    "labels = ['Normal days', 'Promo days']\n",
    "plt.pie(x=sales_by_promo, autopct=\"%.1f%%\", explode=[0.05]*2, labels=labels, pctdistance=0.5)\n",
    "plt.title(\"Sales by Promo days\", fontsize=14);"
   ]
  },
  {
   "cell_type": "markdown",
   "metadata": {},
   "source": [
    "#### School holidays"
   ]
  },
  {
   "cell_type": "code",
   "execution_count": 283,
   "metadata": {},
   "outputs": [
    {
     "data": {
      "image/png": "[encoded data removed]",
      "text/plain": [
       "<Figure size 720x432 with 1 Axes>"
      ]
     },
     "metadata": {},
     "output_type": "display_data"
    }
   ],
   "source": [
    "sales_by_schoolh = train.groupby('SchoolHoliday')[\"Sales\"].mean()\n",
    "pie, ax = plt.subplots(figsize=[10,6])\n",
    "labels = ['Normal days', 'School holidays']\n",
    "plt.pie(x=sales_by_schoolh, autopct=\"%.1f%%\", explode=[0.05]*2, labels=labels, pctdistance=0.5)\n",
    "plt.title(\"Sales by School holidays\", fontsize=14);"
   ]
  },
  {
   "cell_type": "markdown",
   "metadata": {},
   "source": [
    "#### State Holidays"
   ]
  },
  {
   "cell_type": "code",
   "execution_count": 284,
   "metadata": {},
   "outputs": [],
   "source": [
    "sales_by_stateh = train.groupby('StateHoliday')[\"Sales\"].mean()\n",
    "sales_by_stateh[0] += sales_by_stateh['0']\n",
    "sales_by_stateh.drop(['0'], inplace=True)"
   ]
  },
  {
   "cell_type": "code",
   "execution_count": 285,
   "metadata": {},
   "outputs": [],
   "source": [
    "labels = ['Normal Days', 'Public holiday', 'Easter holiday', 'Christmas']"
   ]
  },
  {
   "cell_type": "code",
   "execution_count": 286,
   "metadata": {},
   "outputs": [
    {
     "data": {
      "image/png": "[encoded data removed]",
      "text/plain": [
       "<Figure size 720x432 with 1 Axes>"
      ]
     },
     "metadata": {},
     "output_type": "display_data"
    }
   ],
   "source": [
    "sns.set_style(\"whitegrid\")\n",
    "bar,ax = plt.subplots(figsize=(10,6))\n",
    "ax = sns.barplot(x=labels, y=sales_by_stateh, data=sales_by_stateh, ci=None, palette=\"muted\",orient='v', )\n",
    "ax.set_title(\"Sales by State Holidays\", fontsize=15)\n",
    "ax.set_xlabel (\"State Holidays\")\n",
    "ax.set_ylabel (\"Total sales\")\n",
    "# calculate the percentages and annotate the sns barplot\n",
    "for rect in ax.patches:\n",
    "    ax.text (rect.get_x() + rect.get_width() / 2,rect.get_height(),\"%.1f\"% rect.get_height(), weight='bold' )"
   ]
  },
  {
   "cell_type": "markdown",
   "metadata": {},
   "source": [
    "#### Sales growth in function of time"
   ]
  },
  {
   "cell_type": "code",
   "execution_count": 142,
   "metadata": {},
   "outputs": [
    {
     "data": {
      "image/png": "[encoded data removed]",
      "text/plain": [
       "<Figure size 1440x720 with 1 Axes>"
      ]
     },
     "metadata": {},
     "output_type": "display_data"
    }
   ],
   "source": [
    "fig, ax = plt.subplots(figsize=(20, 10))\n",
    "df1 = train[train.Store == 1].iloc[:200]\n",
    "df1 = df1[df1.Sales != 0]\n",
    "plt.plot(df1['Date'], df1['Sales'])\n",
    "plt.show()"
   ]
  },
  {
   "cell_type": "code",
   "execution_count": null,
   "metadata": {},
   "outputs": [],
   "source": []
  },
  {
   "cell_type": "markdown",
   "metadata": {},
   "source": [
    "## Model"
   ]
  },
  {
   "cell_type": "markdown",
   "metadata": {},
   "source": [
    "### Reading the data"
   ]
  },
  {
   "cell_type": "code",
   "execution_count": 244,
   "metadata": {},
   "outputs": [
    {
     "name": "stderr",
     "output_type": "stream",
     "text": [
      "/home/ghiye/.local/lib/python3.8/site-packages/IPython/core/interactiveshell.py:3146: DtypeWarning: Columns (8) have mixed types.Specify dtype option on import or set low_memory=False.\n",
      "  has_raised = await self.run_ast_nodes(code_ast.body, cell_name,\n"
     ]
    },
    {
     "name": "stdout",
     "output_type": "stream",
     "text": [
      "store :  (1115, 10)\n",
      "train :  (1017209, 9)\n",
      "test :  (41088, 8)\n"
     ]
    }
   ],
   "source": [
    "store = pd.read_csv('Data/store.csv');\n",
    "train_1 = pd.read_csv('Data/train_1.csv');\n",
    "train_2 = pd.read_csv('Data/train_2.csv');\n",
    "train = pd.concat([train_1, train_2], axis=0);\n",
    "train= train.drop(columns=['Unnamed: 0']);\n",
    "test = pd.read_csv('Data/test.csv');\n",
    "\n",
    "print('store : ',store.shape)\n",
    "print('train : ',train.shape)\n",
    "print('test : ',test.shape)"
   ]
  },
  {
   "cell_type": "markdown",
   "metadata": {},
   "source": [
    "## Merge the databases"
   ]
  },
  {
   "cell_type": "code",
   "execution_count": 245,
   "metadata": {},
   "outputs": [],
   "source": [
    "df = pd.merge(train, store, how = 'inner', on = 'Store')"
   ]
  },
  {
   "cell_type": "code",
   "execution_count": 246,
   "metadata": {},
   "outputs": [
    {
     "data": {
      "text/html": [
       "<div>\n",
       "<style scoped>\n",
       "    .dataframe tbody tr th:only-of-type {\n",
       "        vertical-align: middle;\n",
       "    }\n",
       "\n",
       "    .dataframe tbody tr th {\n",
       "        vertical-align: top;\n",
       "    }\n",
       "\n",
       "    .dataframe thead th {\n",
       "        text-align: right;\n",
       "    }\n",
       "</style>\n",
       "<table border=\"1\" class=\"dataframe\">\n",
       "  <thead>\n",
       "    <tr style=\"text-align: right;\">\n",
       "      <th></th>\n",
       "      <th>Total</th>\n",
       "      <th>%</th>\n",
       "    </tr>\n",
       "  </thead>\n",
       "  <tbody>\n",
       "    <tr>\n",
       "      <th>PromoInterval</th>\n",
       "      <td>508031</td>\n",
       "      <td>49.9</td>\n",
       "    </tr>\n",
       "    <tr>\n",
       "      <th>Promo2SinceYear</th>\n",
       "      <td>508031</td>\n",
       "      <td>49.9</td>\n",
       "    </tr>\n",
       "    <tr>\n",
       "      <th>Promo2SinceWeek</th>\n",
       "      <td>508031</td>\n",
       "      <td>49.9</td>\n",
       "    </tr>\n",
       "    <tr>\n",
       "      <th>CompetitionOpenSinceYear</th>\n",
       "      <td>323348</td>\n",
       "      <td>31.8</td>\n",
       "    </tr>\n",
       "    <tr>\n",
       "      <th>CompetitionOpenSinceMonth</th>\n",
       "      <td>323348</td>\n",
       "      <td>31.8</td>\n",
       "    </tr>\n",
       "    <tr>\n",
       "      <th>CompetitionDistance</th>\n",
       "      <td>2642</td>\n",
       "      <td>0.3</td>\n",
       "    </tr>\n",
       "    <tr>\n",
       "      <th>DayOfWeek</th>\n",
       "      <td>0</td>\n",
       "      <td>0.0</td>\n",
       "    </tr>\n",
       "    <tr>\n",
       "      <th>Promo2</th>\n",
       "      <td>0</td>\n",
       "      <td>0.0</td>\n",
       "    </tr>\n",
       "    <tr>\n",
       "      <th>Assortment</th>\n",
       "      <td>0</td>\n",
       "      <td>0.0</td>\n",
       "    </tr>\n",
       "    <tr>\n",
       "      <th>Store</th>\n",
       "      <td>0</td>\n",
       "      <td>0.0</td>\n",
       "    </tr>\n",
       "    <tr>\n",
       "      <th>SchoolHoliday</th>\n",
       "      <td>0</td>\n",
       "      <td>0.0</td>\n",
       "    </tr>\n",
       "    <tr>\n",
       "      <th>StateHoliday</th>\n",
       "      <td>0</td>\n",
       "      <td>0.0</td>\n",
       "    </tr>\n",
       "    <tr>\n",
       "      <th>Promo</th>\n",
       "      <td>0</td>\n",
       "      <td>0.0</td>\n",
       "    </tr>\n",
       "    <tr>\n",
       "      <th>Open</th>\n",
       "      <td>0</td>\n",
       "      <td>0.0</td>\n",
       "    </tr>\n",
       "    <tr>\n",
       "      <th>Customers</th>\n",
       "      <td>0</td>\n",
       "      <td>0.0</td>\n",
       "    </tr>\n",
       "    <tr>\n",
       "      <th>Sales</th>\n",
       "      <td>0</td>\n",
       "      <td>0.0</td>\n",
       "    </tr>\n",
       "    <tr>\n",
       "      <th>Date</th>\n",
       "      <td>0</td>\n",
       "      <td>0.0</td>\n",
       "    </tr>\n",
       "    <tr>\n",
       "      <th>StoreType</th>\n",
       "      <td>0</td>\n",
       "      <td>0.0</td>\n",
       "    </tr>\n",
       "  </tbody>\n",
       "</table>\n",
       "</div>"
      ],
      "text/plain": [
       "                            Total     %\n",
       "PromoInterval              508031  49.9\n",
       "Promo2SinceYear            508031  49.9\n",
       "Promo2SinceWeek            508031  49.9\n",
       "CompetitionOpenSinceYear   323348  31.8\n",
       "CompetitionOpenSinceMonth  323348  31.8\n",
       "CompetitionDistance          2642   0.3\n",
       "DayOfWeek                       0   0.0\n",
       "Promo2                          0   0.0\n",
       "Assortment                      0   0.0\n",
       "Store                           0   0.0\n",
       "SchoolHoliday                   0   0.0\n",
       "StateHoliday                    0   0.0\n",
       "Promo                           0   0.0\n",
       "Open                            0   0.0\n",
       "Customers                       0   0.0\n",
       "Sales                           0   0.0\n",
       "Date                            0   0.0\n",
       "StoreType                       0   0.0"
      ]
     },
     "execution_count": 246,
     "metadata": {},
     "output_type": "execute_result"
    }
   ],
   "source": [
    "missing_data(df)"
   ]
  },
  {
   "cell_type": "code",
   "execution_count": 247,
   "metadata": {},
   "outputs": [],
   "source": [
    "df = df.drop(['PromoInterval', 'Promo2SinceYear', 'Promo2SinceWeek', 'CompetitionOpenSinceYear',\n",
    "              'CompetitionOpenSinceMonth', 'CompetitionDistance'], axis=1)"
   ]
  },
  {
   "cell_type": "code",
   "execution_count": 248,
   "metadata": {},
   "outputs": [
    {
     "name": "stdout",
     "output_type": "stream",
     "text": [
      "<class 'pandas.core.frame.DataFrame'>\n",
      "Int64Index: 1017209 entries, 0 to 1017208\n",
      "Data columns (total 12 columns):\n",
      " #   Column         Non-Null Count    Dtype \n",
      "---  ------         --------------    ----- \n",
      " 0   Store          1017209 non-null  int64 \n",
      " 1   DayOfWeek      1017209 non-null  int64 \n",
      " 2   Date           1017209 non-null  object\n",
      " 3   Sales          1017209 non-null  int64 \n",
      " 4   Customers      1017209 non-null  int64 \n",
      " 5   Open           1017209 non-null  int64 \n",
      " 6   Promo          1017209 non-null  int64 \n",
      " 7   StateHoliday   1017209 non-null  object\n",
      " 8   SchoolHoliday  1017209 non-null  int64 \n",
      " 9   StoreType      1017209 non-null  object\n",
      " 10  Assortment     1017209 non-null  object\n",
      " 11  Promo2         1017209 non-null  int64 \n",
      "dtypes: int64(8), object(4)\n",
      "memory usage: 100.9+ MB\n"
     ]
    }
   ],
   "source": [
    "df.info()"
   ]
  },
  {
   "cell_type": "code",
   "execution_count": 249,
   "metadata": {},
   "outputs": [],
   "source": [
    "df = df.dropna()"
   ]
  },
  {
   "cell_type": "markdown",
   "metadata": {},
   "source": [
    "### Feature Engineering"
   ]
  },
  {
   "cell_type": "markdown",
   "metadata": {},
   "source": [
    "We noticed that each store can be distinguished by its average sales, average customers and on average how much each customer pay.\n",
    "\n",
    "Therefore, in order to give the model more powerful features that have discriminative power, we decided to add some hand-crafted features that can caracterise the store and helps the model learn to predict its next sales."
   ]
  },
  {
   "cell_type": "markdown",
   "metadata": {},
   "source": [
    "We will add three variables:\n",
    "\n",
    "- Average sales per store.\n",
    "- Average customers per store.\n",
    "- Average sales per customer per store."
   ]
  },
  {
   "cell_type": "code",
   "execution_count": 250,
   "metadata": {},
   "outputs": [],
   "source": [
    "avg_sales_store = df.groupby('StoreType')['Sales'].mean()"
   ]
  },
  {
   "cell_type": "code",
   "execution_count": 251,
   "metadata": {},
   "outputs": [],
   "source": [
    "avg_sales = df[['Sales', 'Store']].groupby([\"Store\"]).mean()\n",
    "avg_sales.rename(columns=lambda x: 'avg_' + x, inplace=True)\n",
    "\n",
    "avg_customers = df[['Customers', 'Store']].groupby([\"Store\"]).mean()\n",
    "avg_customers.rename(columns=lambda x: 'avg_' + x, inplace=True)\n",
    "\n",
    "df = pd.merge(avg_sales.reset_index(), df, on='Store')\n",
    "df = pd.merge(avg_customers.reset_index(), df, on='Store')\n",
    "\n",
    "df['avg_sales_c'] = df['avg_Sales'] / df['avg_Customers']"
   ]
  },
  {
   "cell_type": "code",
   "execution_count": 252,
   "metadata": {},
   "outputs": [],
   "source": [
    "df = pd.get_dummies(df, columns=['StoreType','Assortment','StateHoliday', 'DayOfWeek'])"
   ]
  },
  {
   "cell_type": "code",
   "execution_count": 253,
   "metadata": {},
   "outputs": [
    {
     "name": "stderr",
     "output_type": "stream",
     "text": [
      "<ipython-input-253-2ea91380e0c4>:7: FutureWarning: Series.dt.weekofyear and Series.dt.week have been deprecated.  Please use Series.dt.isocalendar().week instead.\n",
      "  df['WeekOfYear'] = df.Date.dt.weekofyear;\n"
     ]
    }
   ],
   "source": [
    "df['Date'] = pd.to_datetime(df['Date'], infer_datetime_format=True)\n",
    "\n",
    "# data extraction\n",
    "df['Year'] = df.Date.dt.year;\n",
    "df['Month'] = df.Date.dt.month;\n",
    "df['Day'] = df.Date.dt.day;\n",
    "df['WeekOfYear'] = df.Date.dt.weekofyear;"
   ]
  },
  {
   "cell_type": "code",
   "execution_count": null,
   "metadata": {},
   "outputs": [],
   "source": []
  },
  {
   "cell_type": "markdown",
   "metadata": {},
   "source": [
    "### Training the model"
   ]
  },
  {
   "cell_type": "code",
   "execution_count": 254,
   "metadata": {},
   "outputs": [],
   "source": [
    "import xgboost as xgb\n",
    "from sklearn.model_selection import train_test_split"
   ]
  },
  {
   "cell_type": "code",
   "execution_count": 261,
   "metadata": {},
   "outputs": [],
   "source": [
    "df[\"Date\"] = pd.to_datetime(df[\"Date\"], format=\"%Y-%m-%d\")\n",
    "\n",
    "date_threshold = df[\"Date\"].max() - pd.DateOffset(weeks=6)\n",
    "X_train = df.loc[df[\"Date\"] < date_threshold].drop(columns=[\"Sales\", \"Date\"]).reset_index(drop=True)\n",
    "y_train = df.loc[df[\"Date\"] < date_threshold, \"Sales\"].reset_index(drop=True)\n",
    "X_test = df.loc[df[\"Date\"] >= date_threshold].drop(columns=[\"Sales\", \"Date\"]).reset_index(drop=True)\n",
    "y_test = df.loc[df[\"Date\"] >= date_threshold, \"Sales\"].reset_index(drop=True)"
   ]
  },
  {
   "cell_type": "code",
   "execution_count": 258,
   "metadata": {},
   "outputs": [],
   "source": [
    "X_train = np.array(X_train)\n",
    "X_test = np.array(X_test)\n",
    "y_train = np.array(y_train)\n",
    "y_test = np.array(y_test)"
   ]
  },
  {
   "cell_type": "code",
   "execution_count": 262,
   "metadata": {},
   "outputs": [
    {
     "name": "stdout",
     "output_type": "stream",
     "text": [
      "[0]\tvalidation_0-rmse:5.27254\tvalidation_1-rmse:5.39932\n",
      "[1]\tvalidation_0-rmse:3.69623\tvalidation_1-rmse:3.79533\n",
      "[2]\tvalidation_0-rmse:2.59399\tvalidation_1-rmse:2.67158\n",
      "[3]\tvalidation_0-rmse:1.82429\tvalidation_1-rmse:1.88572\n",
      "[4]\tvalidation_0-rmse:1.28775\tvalidation_1-rmse:1.34032\n",
      "[5]\tvalidation_0-rmse:0.91434\tvalidation_1-rmse:0.95920\n",
      "[6]\tvalidation_0-rmse:0.65589\tvalidation_1-rmse:0.69463\n",
      "[7]\tvalidation_0-rmse:0.47850\tvalidation_1-rmse:0.51109\n",
      "[8]\tvalidation_0-rmse:0.35797\tvalidation_1-rmse:0.38777\n",
      "[9]\tvalidation_0-rmse:0.27831\tvalidation_1-rmse:0.30312\n",
      "[10]\tvalidation_0-rmse:0.22738\tvalidation_1-rmse:0.24792\n",
      "[11]\tvalidation_0-rmse:0.19344\tvalidation_1-rmse:0.21121\n",
      "[12]\tvalidation_0-rmse:0.17183\tvalidation_1-rmse:0.18499\n",
      "[13]\tvalidation_0-rmse:0.15453\tvalidation_1-rmse:0.16670\n",
      "[14]\tvalidation_0-rmse:0.14433\tvalidation_1-rmse:0.15417\n",
      "[15]\tvalidation_0-rmse:0.13589\tvalidation_1-rmse:0.14359\n",
      "[16]\tvalidation_0-rmse:0.12917\tvalidation_1-rmse:0.13633\n",
      "[17]\tvalidation_0-rmse:0.12386\tvalidation_1-rmse:0.13059\n",
      "[18]\tvalidation_0-rmse:0.11989\tvalidation_1-rmse:0.12629\n",
      "[19]\tvalidation_0-rmse:0.11468\tvalidation_1-rmse:0.12031\n",
      "[20]\tvalidation_0-rmse:0.11199\tvalidation_1-rmse:0.11890\n",
      "[21]\tvalidation_0-rmse:0.10941\tvalidation_1-rmse:0.11589\n",
      "[22]\tvalidation_0-rmse:0.10685\tvalidation_1-rmse:0.11287\n",
      "[23]\tvalidation_0-rmse:0.10421\tvalidation_1-rmse:0.10946\n",
      "[24]\tvalidation_0-rmse:0.10257\tvalidation_1-rmse:0.10931\n",
      "[25]\tvalidation_0-rmse:0.10151\tvalidation_1-rmse:0.10739\n",
      "[26]\tvalidation_0-rmse:0.10052\tvalidation_1-rmse:0.10649\n",
      "[27]\tvalidation_0-rmse:0.09871\tvalidation_1-rmse:0.10467\n",
      "[28]\tvalidation_0-rmse:0.09766\tvalidation_1-rmse:0.10250\n",
      "[29]\tvalidation_0-rmse:0.09674\tvalidation_1-rmse:0.10177\n",
      "[30]\tvalidation_0-rmse:0.09540\tvalidation_1-rmse:0.09990\n",
      "[31]\tvalidation_0-rmse:0.09386\tvalidation_1-rmse:0.09875\n",
      "[32]\tvalidation_0-rmse:0.09314\tvalidation_1-rmse:0.09817\n",
      "[33]\tvalidation_0-rmse:0.09163\tvalidation_1-rmse:0.09693\n",
      "[34]\tvalidation_0-rmse:0.09078\tvalidation_1-rmse:0.09630\n",
      "[35]\tvalidation_0-rmse:0.09026\tvalidation_1-rmse:0.09543\n",
      "[36]\tvalidation_0-rmse:0.08967\tvalidation_1-rmse:0.09496\n",
      "[37]\tvalidation_0-rmse:0.08906\tvalidation_1-rmse:0.09458\n",
      "[38]\tvalidation_0-rmse:0.08834\tvalidation_1-rmse:0.09368\n",
      "[39]\tvalidation_0-rmse:0.08774\tvalidation_1-rmse:0.09300\n",
      "[40]\tvalidation_0-rmse:0.08674\tvalidation_1-rmse:0.09209\n",
      "[41]\tvalidation_0-rmse:0.08593\tvalidation_1-rmse:0.09163\n",
      "[42]\tvalidation_0-rmse:0.08541\tvalidation_1-rmse:0.09121\n",
      "[43]\tvalidation_0-rmse:0.08505\tvalidation_1-rmse:0.08979\n",
      "[44]\tvalidation_0-rmse:0.08470\tvalidation_1-rmse:0.08955\n",
      "[45]\tvalidation_0-rmse:0.08436\tvalidation_1-rmse:0.08923\n",
      "[46]\tvalidation_0-rmse:0.08400\tvalidation_1-rmse:0.08908\n",
      "[47]\tvalidation_0-rmse:0.08364\tvalidation_1-rmse:0.08879\n",
      "[48]\tvalidation_0-rmse:0.08316\tvalidation_1-rmse:0.08834\n",
      "[49]\tvalidation_0-rmse:0.08211\tvalidation_1-rmse:0.08740\n",
      "[50]\tvalidation_0-rmse:0.08158\tvalidation_1-rmse:0.08705\n",
      "[51]\tvalidation_0-rmse:0.08089\tvalidation_1-rmse:0.08655\n",
      "[52]\tvalidation_0-rmse:0.08045\tvalidation_1-rmse:0.08607\n",
      "[53]\tvalidation_0-rmse:0.08022\tvalidation_1-rmse:0.08587\n",
      "[54]\tvalidation_0-rmse:0.07988\tvalidation_1-rmse:0.08557\n",
      "[55]\tvalidation_0-rmse:0.07923\tvalidation_1-rmse:0.08512\n",
      "[56]\tvalidation_0-rmse:0.07897\tvalidation_1-rmse:0.08500\n",
      "[57]\tvalidation_0-rmse:0.07844\tvalidation_1-rmse:0.08457\n",
      "[58]\tvalidation_0-rmse:0.07823\tvalidation_1-rmse:0.08421\n",
      "[59]\tvalidation_0-rmse:0.07765\tvalidation_1-rmse:0.08368\n",
      "[60]\tvalidation_0-rmse:0.07731\tvalidation_1-rmse:0.08325\n",
      "[61]\tvalidation_0-rmse:0.07699\tvalidation_1-rmse:0.08303\n",
      "[62]\tvalidation_0-rmse:0.07658\tvalidation_1-rmse:0.08269\n",
      "[63]\tvalidation_0-rmse:0.07637\tvalidation_1-rmse:0.08112\n",
      "[64]\tvalidation_0-rmse:0.07619\tvalidation_1-rmse:0.08102\n",
      "[65]\tvalidation_0-rmse:0.07584\tvalidation_1-rmse:0.08091\n",
      "[66]\tvalidation_0-rmse:0.07544\tvalidation_1-rmse:0.08048\n",
      "[67]\tvalidation_0-rmse:0.07504\tvalidation_1-rmse:0.08004\n",
      "[68]\tvalidation_0-rmse:0.07473\tvalidation_1-rmse:0.07984\n",
      "[69]\tvalidation_0-rmse:0.07458\tvalidation_1-rmse:0.07980\n",
      "[70]\tvalidation_0-rmse:0.07424\tvalidation_1-rmse:0.07947\n",
      "[71]\tvalidation_0-rmse:0.07407\tvalidation_1-rmse:0.07892\n",
      "[72]\tvalidation_0-rmse:0.07388\tvalidation_1-rmse:0.07859\n",
      "[73]\tvalidation_0-rmse:0.07375\tvalidation_1-rmse:0.07848\n",
      "[74]\tvalidation_0-rmse:0.07366\tvalidation_1-rmse:0.07836\n",
      "[75]\tvalidation_0-rmse:0.07348\tvalidation_1-rmse:0.07819\n",
      "[76]\tvalidation_0-rmse:0.07330\tvalidation_1-rmse:0.07812\n",
      "[77]\tvalidation_0-rmse:0.07309\tvalidation_1-rmse:0.07817\n",
      "[78]\tvalidation_0-rmse:0.07279\tvalidation_1-rmse:0.07783\n",
      "[79]\tvalidation_0-rmse:0.07245\tvalidation_1-rmse:0.07750\n",
      "[80]\tvalidation_0-rmse:0.07228\tvalidation_1-rmse:0.07732\n",
      "[81]\tvalidation_0-rmse:0.07215\tvalidation_1-rmse:0.07711\n",
      "[82]\tvalidation_0-rmse:0.07201\tvalidation_1-rmse:0.07698\n",
      "[83]\tvalidation_0-rmse:0.07185\tvalidation_1-rmse:0.07686\n",
      "[84]\tvalidation_0-rmse:0.07172\tvalidation_1-rmse:0.07676\n",
      "[85]\tvalidation_0-rmse:0.07164\tvalidation_1-rmse:0.07661\n",
      "[86]\tvalidation_0-rmse:0.07140\tvalidation_1-rmse:0.07644\n",
      "[87]\tvalidation_0-rmse:0.07127\tvalidation_1-rmse:0.07560\n",
      "[88]\tvalidation_0-rmse:0.07117\tvalidation_1-rmse:0.07549\n",
      "[89]\tvalidation_0-rmse:0.07097\tvalidation_1-rmse:0.07533\n",
      "[90]\tvalidation_0-rmse:0.07078\tvalidation_1-rmse:0.07513\n",
      "[91]\tvalidation_0-rmse:0.07057\tvalidation_1-rmse:0.07494\n",
      "[92]\tvalidation_0-rmse:0.07046\tvalidation_1-rmse:0.07479\n",
      "[93]\tvalidation_0-rmse:0.07038\tvalidation_1-rmse:0.07467\n",
      "[94]\tvalidation_0-rmse:0.07029\tvalidation_1-rmse:0.07457\n",
      "[95]\tvalidation_0-rmse:0.07016\tvalidation_1-rmse:0.07443\n",
      "[96]\tvalidation_0-rmse:0.07004\tvalidation_1-rmse:0.07402\n",
      "[97]\tvalidation_0-rmse:0.06991\tvalidation_1-rmse:0.07393\n",
      "[98]\tvalidation_0-rmse:0.06978\tvalidation_1-rmse:0.07390\n",
      "[99]\tvalidation_0-rmse:0.06968\tvalidation_1-rmse:0.07388\n",
      "[100]\tvalidation_0-rmse:0.06955\tvalidation_1-rmse:0.07380\n",
      "[101]\tvalidation_0-rmse:0.06937\tvalidation_1-rmse:0.07362\n",
      "[102]\tvalidation_0-rmse:0.06921\tvalidation_1-rmse:0.07349\n",
      "[103]\tvalidation_0-rmse:0.06910\tvalidation_1-rmse:0.07349\n",
      "[104]\tvalidation_0-rmse:0.06904\tvalidation_1-rmse:0.07343\n",
      "[105]\tvalidation_0-rmse:0.06894\tvalidation_1-rmse:0.07319\n",
      "[106]\tvalidation_0-rmse:0.06866\tvalidation_1-rmse:0.07287\n",
      "[107]\tvalidation_0-rmse:0.06857\tvalidation_1-rmse:0.07270\n",
      "[108]\tvalidation_0-rmse:0.06825\tvalidation_1-rmse:0.07244\n",
      "[109]\tvalidation_0-rmse:0.06819\tvalidation_1-rmse:0.07242\n",
      "[110]\tvalidation_0-rmse:0.06799\tvalidation_1-rmse:0.07215\n",
      "[111]\tvalidation_0-rmse:0.06789\tvalidation_1-rmse:0.07196\n",
      "[112]\tvalidation_0-rmse:0.06766\tvalidation_1-rmse:0.07187\n",
      "[113]\tvalidation_0-rmse:0.06756\tvalidation_1-rmse:0.07191\n",
      "[114]\tvalidation_0-rmse:0.06745\tvalidation_1-rmse:0.07173\n",
      "[115]\tvalidation_0-rmse:0.06735\tvalidation_1-rmse:0.07166\n",
      "[116]\tvalidation_0-rmse:0.06730\tvalidation_1-rmse:0.07165\n",
      "[117]\tvalidation_0-rmse:0.06716\tvalidation_1-rmse:0.07149\n",
      "[118]\tvalidation_0-rmse:0.06711\tvalidation_1-rmse:0.07141\n",
      "[119]\tvalidation_0-rmse:0.06702\tvalidation_1-rmse:0.07136\n",
      "[120]\tvalidation_0-rmse:0.06697\tvalidation_1-rmse:0.07133\n",
      "[121]\tvalidation_0-rmse:0.06690\tvalidation_1-rmse:0.07129\n",
      "[122]\tvalidation_0-rmse:0.06675\tvalidation_1-rmse:0.07118\n",
      "[123]\tvalidation_0-rmse:0.06667\tvalidation_1-rmse:0.07104\n",
      "[124]\tvalidation_0-rmse:0.06662\tvalidation_1-rmse:0.07100\n",
      "[125]\tvalidation_0-rmse:0.06655\tvalidation_1-rmse:0.07088\n",
      "[126]\tvalidation_0-rmse:0.06652\tvalidation_1-rmse:0.07085\n",
      "[127]\tvalidation_0-rmse:0.06645\tvalidation_1-rmse:0.07051\n",
      "[128]\tvalidation_0-rmse:0.06630\tvalidation_1-rmse:0.07040\n",
      "[129]\tvalidation_0-rmse:0.06623\tvalidation_1-rmse:0.07033\n",
      "[130]\tvalidation_0-rmse:0.06618\tvalidation_1-rmse:0.07027\n",
      "[131]\tvalidation_0-rmse:0.06603\tvalidation_1-rmse:0.07007\n",
      "[132]\tvalidation_0-rmse:0.06597\tvalidation_1-rmse:0.07000\n",
      "[133]\tvalidation_0-rmse:0.06586\tvalidation_1-rmse:0.06993\n",
      "[134]\tvalidation_0-rmse:0.06583\tvalidation_1-rmse:0.06984\n",
      "[135]\tvalidation_0-rmse:0.06578\tvalidation_1-rmse:0.06982\n",
      "[136]\tvalidation_0-rmse:0.06568\tvalidation_1-rmse:0.06976\n",
      "[137]\tvalidation_0-rmse:0.06562\tvalidation_1-rmse:0.06963\n",
      "[138]\tvalidation_0-rmse:0.06556\tvalidation_1-rmse:0.06965\n",
      "[139]\tvalidation_0-rmse:0.06545\tvalidation_1-rmse:0.06954\n",
      "[140]\tvalidation_0-rmse:0.06539\tvalidation_1-rmse:0.06952\n",
      "[141]\tvalidation_0-rmse:0.06535\tvalidation_1-rmse:0.06949\n",
      "[142]\tvalidation_0-rmse:0.06514\tvalidation_1-rmse:0.06928\n",
      "[143]\tvalidation_0-rmse:0.06507\tvalidation_1-rmse:0.06920\n"
     ]
    },
    {
     "name": "stdout",
     "output_type": "stream",
     "text": [
      "[144]\tvalidation_0-rmse:0.06502\tvalidation_1-rmse:0.06910\n",
      "[145]\tvalidation_0-rmse:0.06496\tvalidation_1-rmse:0.06911\n",
      "[146]\tvalidation_0-rmse:0.06488\tvalidation_1-rmse:0.06894\n",
      "[147]\tvalidation_0-rmse:0.06473\tvalidation_1-rmse:0.06877\n",
      "[148]\tvalidation_0-rmse:0.06468\tvalidation_1-rmse:0.06869\n",
      "[149]\tvalidation_0-rmse:0.06459\tvalidation_1-rmse:0.06862\n",
      "[150]\tvalidation_0-rmse:0.06452\tvalidation_1-rmse:0.06854\n",
      "[151]\tvalidation_0-rmse:0.06448\tvalidation_1-rmse:0.06852\n",
      "[152]\tvalidation_0-rmse:0.06442\tvalidation_1-rmse:0.06839\n",
      "[153]\tvalidation_0-rmse:0.06438\tvalidation_1-rmse:0.06836\n",
      "[154]\tvalidation_0-rmse:0.06431\tvalidation_1-rmse:0.06821\n",
      "[155]\tvalidation_0-rmse:0.06424\tvalidation_1-rmse:0.06810\n",
      "[156]\tvalidation_0-rmse:0.06422\tvalidation_1-rmse:0.06809\n",
      "[157]\tvalidation_0-rmse:0.06420\tvalidation_1-rmse:0.06802\n",
      "[158]\tvalidation_0-rmse:0.06415\tvalidation_1-rmse:0.06800\n",
      "[159]\tvalidation_0-rmse:0.06411\tvalidation_1-rmse:0.06798\n",
      "[160]\tvalidation_0-rmse:0.06407\tvalidation_1-rmse:0.06797\n",
      "[161]\tvalidation_0-rmse:0.06404\tvalidation_1-rmse:0.06792\n",
      "[162]\tvalidation_0-rmse:0.06394\tvalidation_1-rmse:0.06779\n",
      "[163]\tvalidation_0-rmse:0.06373\tvalidation_1-rmse:0.06768\n",
      "[164]\tvalidation_0-rmse:0.06368\tvalidation_1-rmse:0.06766\n",
      "[165]\tvalidation_0-rmse:0.06366\tvalidation_1-rmse:0.06763\n",
      "[166]\tvalidation_0-rmse:0.06360\tvalidation_1-rmse:0.06762\n",
      "[167]\tvalidation_0-rmse:0.06355\tvalidation_1-rmse:0.06755\n",
      "[168]\tvalidation_0-rmse:0.06352\tvalidation_1-rmse:0.06748\n",
      "[169]\tvalidation_0-rmse:0.06349\tvalidation_1-rmse:0.06741\n",
      "[170]\tvalidation_0-rmse:0.06334\tvalidation_1-rmse:0.06736\n",
      "[171]\tvalidation_0-rmse:0.06331\tvalidation_1-rmse:0.06734\n",
      "[172]\tvalidation_0-rmse:0.06329\tvalidation_1-rmse:0.06730\n",
      "[173]\tvalidation_0-rmse:0.06325\tvalidation_1-rmse:0.06728\n",
      "[174]\tvalidation_0-rmse:0.06323\tvalidation_1-rmse:0.06727\n",
      "[175]\tvalidation_0-rmse:0.06319\tvalidation_1-rmse:0.06725\n",
      "[176]\tvalidation_0-rmse:0.06317\tvalidation_1-rmse:0.06724\n",
      "[177]\tvalidation_0-rmse:0.06314\tvalidation_1-rmse:0.06722\n",
      "[178]\tvalidation_0-rmse:0.06310\tvalidation_1-rmse:0.06717\n",
      "[179]\tvalidation_0-rmse:0.06307\tvalidation_1-rmse:0.06716\n",
      "[180]\tvalidation_0-rmse:0.06302\tvalidation_1-rmse:0.06695\n",
      "[181]\tvalidation_0-rmse:0.06297\tvalidation_1-rmse:0.06691\n",
      "[182]\tvalidation_0-rmse:0.06294\tvalidation_1-rmse:0.06690\n",
      "[183]\tvalidation_0-rmse:0.06291\tvalidation_1-rmse:0.06694\n",
      "[184]\tvalidation_0-rmse:0.06288\tvalidation_1-rmse:0.06686\n",
      "[185]\tvalidation_0-rmse:0.06286\tvalidation_1-rmse:0.06689\n",
      "[186]\tvalidation_0-rmse:0.06275\tvalidation_1-rmse:0.06678\n",
      "[187]\tvalidation_0-rmse:0.06267\tvalidation_1-rmse:0.06668\n",
      "[188]\tvalidation_0-rmse:0.06265\tvalidation_1-rmse:0.06664\n",
      "[189]\tvalidation_0-rmse:0.06260\tvalidation_1-rmse:0.06662\n",
      "[190]\tvalidation_0-rmse:0.06257\tvalidation_1-rmse:0.06651\n",
      "[191]\tvalidation_0-rmse:0.06254\tvalidation_1-rmse:0.06652\n",
      "[192]\tvalidation_0-rmse:0.06251\tvalidation_1-rmse:0.06648\n",
      "[193]\tvalidation_0-rmse:0.06247\tvalidation_1-rmse:0.06645\n",
      "[194]\tvalidation_0-rmse:0.06242\tvalidation_1-rmse:0.06641\n",
      "[195]\tvalidation_0-rmse:0.06238\tvalidation_1-rmse:0.06638\n",
      "[196]\tvalidation_0-rmse:0.06236\tvalidation_1-rmse:0.06638\n",
      "[197]\tvalidation_0-rmse:0.06231\tvalidation_1-rmse:0.06638\n",
      "[198]\tvalidation_0-rmse:0.06227\tvalidation_1-rmse:0.06634\n",
      "[199]\tvalidation_0-rmse:0.06225\tvalidation_1-rmse:0.06624\n",
      "[200]\tvalidation_0-rmse:0.06221\tvalidation_1-rmse:0.06614\n",
      "[201]\tvalidation_0-rmse:0.06219\tvalidation_1-rmse:0.06610\n",
      "[202]\tvalidation_0-rmse:0.06216\tvalidation_1-rmse:0.06609\n",
      "[203]\tvalidation_0-rmse:0.06214\tvalidation_1-rmse:0.06605\n",
      "[204]\tvalidation_0-rmse:0.06212\tvalidation_1-rmse:0.06606\n",
      "[205]\tvalidation_0-rmse:0.06210\tvalidation_1-rmse:0.06602\n",
      "[206]\tvalidation_0-rmse:0.06208\tvalidation_1-rmse:0.06604\n",
      "[207]\tvalidation_0-rmse:0.06205\tvalidation_1-rmse:0.06595\n",
      "[208]\tvalidation_0-rmse:0.06202\tvalidation_1-rmse:0.06595\n",
      "[209]\tvalidation_0-rmse:0.06200\tvalidation_1-rmse:0.06593\n",
      "[210]\tvalidation_0-rmse:0.06198\tvalidation_1-rmse:0.06592\n",
      "[211]\tvalidation_0-rmse:0.06194\tvalidation_1-rmse:0.06590\n",
      "[212]\tvalidation_0-rmse:0.06193\tvalidation_1-rmse:0.06589\n",
      "[213]\tvalidation_0-rmse:0.06190\tvalidation_1-rmse:0.06582\n",
      "[214]\tvalidation_0-rmse:0.06189\tvalidation_1-rmse:0.06581\n",
      "[215]\tvalidation_0-rmse:0.06184\tvalidation_1-rmse:0.06575\n",
      "[216]\tvalidation_0-rmse:0.06182\tvalidation_1-rmse:0.06570\n",
      "[217]\tvalidation_0-rmse:0.06170\tvalidation_1-rmse:0.06559\n",
      "[218]\tvalidation_0-rmse:0.06169\tvalidation_1-rmse:0.06558\n",
      "[219]\tvalidation_0-rmse:0.06162\tvalidation_1-rmse:0.06553\n",
      "[220]\tvalidation_0-rmse:0.06161\tvalidation_1-rmse:0.06551\n",
      "[221]\tvalidation_0-rmse:0.06151\tvalidation_1-rmse:0.06547\n",
      "[222]\tvalidation_0-rmse:0.06149\tvalidation_1-rmse:0.06543\n",
      "[223]\tvalidation_0-rmse:0.06146\tvalidation_1-rmse:0.06539\n",
      "[224]\tvalidation_0-rmse:0.06144\tvalidation_1-rmse:0.06538\n",
      "[225]\tvalidation_0-rmse:0.06143\tvalidation_1-rmse:0.06534\n",
      "[226]\tvalidation_0-rmse:0.06141\tvalidation_1-rmse:0.06536\n",
      "[227]\tvalidation_0-rmse:0.06140\tvalidation_1-rmse:0.06534\n",
      "[228]\tvalidation_0-rmse:0.06138\tvalidation_1-rmse:0.06531\n",
      "[229]\tvalidation_0-rmse:0.06136\tvalidation_1-rmse:0.06529\n",
      "[230]\tvalidation_0-rmse:0.06135\tvalidation_1-rmse:0.06528\n",
      "[231]\tvalidation_0-rmse:0.06133\tvalidation_1-rmse:0.06523\n",
      "[232]\tvalidation_0-rmse:0.06127\tvalidation_1-rmse:0.06527\n",
      "[233]\tvalidation_0-rmse:0.06126\tvalidation_1-rmse:0.06524\n",
      "[234]\tvalidation_0-rmse:0.06119\tvalidation_1-rmse:0.06522\n",
      "[235]\tvalidation_0-rmse:0.06118\tvalidation_1-rmse:0.06521\n",
      "[236]\tvalidation_0-rmse:0.06116\tvalidation_1-rmse:0.06517\n",
      "[237]\tvalidation_0-rmse:0.06115\tvalidation_1-rmse:0.06516\n",
      "[238]\tvalidation_0-rmse:0.06114\tvalidation_1-rmse:0.06516\n",
      "[239]\tvalidation_0-rmse:0.06112\tvalidation_1-rmse:0.06513\n",
      "[240]\tvalidation_0-rmse:0.06110\tvalidation_1-rmse:0.06512\n",
      "[241]\tvalidation_0-rmse:0.06107\tvalidation_1-rmse:0.06510\n",
      "[242]\tvalidation_0-rmse:0.06104\tvalidation_1-rmse:0.06509\n",
      "[243]\tvalidation_0-rmse:0.06103\tvalidation_1-rmse:0.06507\n",
      "[244]\tvalidation_0-rmse:0.06102\tvalidation_1-rmse:0.06506\n",
      "[245]\tvalidation_0-rmse:0.06100\tvalidation_1-rmse:0.06506\n",
      "[246]\tvalidation_0-rmse:0.06095\tvalidation_1-rmse:0.06506\n",
      "[247]\tvalidation_0-rmse:0.06092\tvalidation_1-rmse:0.06508\n",
      "[248]\tvalidation_0-rmse:0.06091\tvalidation_1-rmse:0.06510\n",
      "[249]\tvalidation_0-rmse:0.06089\tvalidation_1-rmse:0.06511\n",
      "[250]\tvalidation_0-rmse:0.06087\tvalidation_1-rmse:0.06502\n",
      "[251]\tvalidation_0-rmse:0.06085\tvalidation_1-rmse:0.06495\n",
      "[252]\tvalidation_0-rmse:0.06083\tvalidation_1-rmse:0.06495\n",
      "[253]\tvalidation_0-rmse:0.06082\tvalidation_1-rmse:0.06494\n",
      "[254]\tvalidation_0-rmse:0.06080\tvalidation_1-rmse:0.06495\n",
      "[255]\tvalidation_0-rmse:0.06078\tvalidation_1-rmse:0.06494\n",
      "[256]\tvalidation_0-rmse:0.06075\tvalidation_1-rmse:0.06491\n",
      "[257]\tvalidation_0-rmse:0.06074\tvalidation_1-rmse:0.06490\n",
      "[258]\tvalidation_0-rmse:0.06069\tvalidation_1-rmse:0.06487\n",
      "[259]\tvalidation_0-rmse:0.06067\tvalidation_1-rmse:0.06485\n",
      "[260]\tvalidation_0-rmse:0.06065\tvalidation_1-rmse:0.06475\n",
      "[261]\tvalidation_0-rmse:0.06063\tvalidation_1-rmse:0.06475\n",
      "[262]\tvalidation_0-rmse:0.06063\tvalidation_1-rmse:0.06474\n",
      "[263]\tvalidation_0-rmse:0.06062\tvalidation_1-rmse:0.06474\n",
      "[264]\tvalidation_0-rmse:0.06061\tvalidation_1-rmse:0.06473\n",
      "[265]\tvalidation_0-rmse:0.06060\tvalidation_1-rmse:0.06472\n",
      "[266]\tvalidation_0-rmse:0.06054\tvalidation_1-rmse:0.06467\n",
      "[267]\tvalidation_0-rmse:0.06053\tvalidation_1-rmse:0.06466\n",
      "[268]\tvalidation_0-rmse:0.06051\tvalidation_1-rmse:0.06461\n",
      "[269]\tvalidation_0-rmse:0.06043\tvalidation_1-rmse:0.06458\n",
      "[270]\tvalidation_0-rmse:0.06042\tvalidation_1-rmse:0.06453\n",
      "[271]\tvalidation_0-rmse:0.06038\tvalidation_1-rmse:0.06456\n",
      "[272]\tvalidation_0-rmse:0.06035\tvalidation_1-rmse:0.06456\n",
      "[273]\tvalidation_0-rmse:0.06030\tvalidation_1-rmse:0.06454\n",
      "[274]\tvalidation_0-rmse:0.06029\tvalidation_1-rmse:0.06451\n",
      "[275]\tvalidation_0-rmse:0.06025\tvalidation_1-rmse:0.06448\n",
      "[276]\tvalidation_0-rmse:0.06022\tvalidation_1-rmse:0.06449\n",
      "[277]\tvalidation_0-rmse:0.06018\tvalidation_1-rmse:0.06444\n",
      "[278]\tvalidation_0-rmse:0.06016\tvalidation_1-rmse:0.06438\n",
      "[279]\tvalidation_0-rmse:0.06014\tvalidation_1-rmse:0.06438\n",
      "[280]\tvalidation_0-rmse:0.06012\tvalidation_1-rmse:0.06437\n",
      "[281]\tvalidation_0-rmse:0.06010\tvalidation_1-rmse:0.06430\n",
      "[282]\tvalidation_0-rmse:0.06005\tvalidation_1-rmse:0.06427\n",
      "[283]\tvalidation_0-rmse:0.06003\tvalidation_1-rmse:0.06426\n",
      "[284]\tvalidation_0-rmse:0.06003\tvalidation_1-rmse:0.06426\n",
      "[285]\tvalidation_0-rmse:0.06001\tvalidation_1-rmse:0.06427\n"
     ]
    },
    {
     "name": "stdout",
     "output_type": "stream",
     "text": [
      "[286]\tvalidation_0-rmse:0.06000\tvalidation_1-rmse:0.06427\n",
      "[287]\tvalidation_0-rmse:0.05998\tvalidation_1-rmse:0.06428\n",
      "[288]\tvalidation_0-rmse:0.05997\tvalidation_1-rmse:0.06426\n",
      "[289]\tvalidation_0-rmse:0.05996\tvalidation_1-rmse:0.06426\n",
      "[290]\tvalidation_0-rmse:0.05994\tvalidation_1-rmse:0.06426\n",
      "[291]\tvalidation_0-rmse:0.05994\tvalidation_1-rmse:0.06425\n",
      "[292]\tvalidation_0-rmse:0.05992\tvalidation_1-rmse:0.06425\n",
      "[293]\tvalidation_0-rmse:0.05989\tvalidation_1-rmse:0.06422\n",
      "[294]\tvalidation_0-rmse:0.05987\tvalidation_1-rmse:0.06420\n",
      "[295]\tvalidation_0-rmse:0.05986\tvalidation_1-rmse:0.06419\n",
      "[296]\tvalidation_0-rmse:0.05985\tvalidation_1-rmse:0.06414\n",
      "[297]\tvalidation_0-rmse:0.05981\tvalidation_1-rmse:0.06412\n",
      "[298]\tvalidation_0-rmse:0.05980\tvalidation_1-rmse:0.06411\n",
      "[299]\tvalidation_0-rmse:0.05979\tvalidation_1-rmse:0.06409\n",
      "[300]\tvalidation_0-rmse:0.05978\tvalidation_1-rmse:0.06408\n",
      "[301]\tvalidation_0-rmse:0.05977\tvalidation_1-rmse:0.06408\n",
      "[302]\tvalidation_0-rmse:0.05974\tvalidation_1-rmse:0.06408\n",
      "[303]\tvalidation_0-rmse:0.05972\tvalidation_1-rmse:0.06405\n",
      "[304]\tvalidation_0-rmse:0.05971\tvalidation_1-rmse:0.06405\n",
      "[305]\tvalidation_0-rmse:0.05969\tvalidation_1-rmse:0.06405\n",
      "[306]\tvalidation_0-rmse:0.05967\tvalidation_1-rmse:0.06405\n",
      "[307]\tvalidation_0-rmse:0.05964\tvalidation_1-rmse:0.06403\n",
      "[308]\tvalidation_0-rmse:0.05963\tvalidation_1-rmse:0.06397\n",
      "[309]\tvalidation_0-rmse:0.05960\tvalidation_1-rmse:0.06397\n",
      "[310]\tvalidation_0-rmse:0.05956\tvalidation_1-rmse:0.06397\n",
      "[311]\tvalidation_0-rmse:0.05953\tvalidation_1-rmse:0.06396\n",
      "[312]\tvalidation_0-rmse:0.05953\tvalidation_1-rmse:0.06394\n",
      "[313]\tvalidation_0-rmse:0.05952\tvalidation_1-rmse:0.06398\n",
      "[314]\tvalidation_0-rmse:0.05950\tvalidation_1-rmse:0.06393\n",
      "[315]\tvalidation_0-rmse:0.05948\tvalidation_1-rmse:0.06394\n",
      "[316]\tvalidation_0-rmse:0.05946\tvalidation_1-rmse:0.06393\n",
      "[317]\tvalidation_0-rmse:0.05945\tvalidation_1-rmse:0.06389\n",
      "[318]\tvalidation_0-rmse:0.05944\tvalidation_1-rmse:0.06386\n",
      "[319]\tvalidation_0-rmse:0.05941\tvalidation_1-rmse:0.06386\n",
      "[320]\tvalidation_0-rmse:0.05940\tvalidation_1-rmse:0.06385\n",
      "[321]\tvalidation_0-rmse:0.05939\tvalidation_1-rmse:0.06386\n",
      "[322]\tvalidation_0-rmse:0.05937\tvalidation_1-rmse:0.06386\n",
      "[323]\tvalidation_0-rmse:0.05935\tvalidation_1-rmse:0.06384\n",
      "[324]\tvalidation_0-rmse:0.05934\tvalidation_1-rmse:0.06382\n",
      "[325]\tvalidation_0-rmse:0.05933\tvalidation_1-rmse:0.06383\n",
      "[326]\tvalidation_0-rmse:0.05932\tvalidation_1-rmse:0.06373\n",
      "[327]\tvalidation_0-rmse:0.05931\tvalidation_1-rmse:0.06374\n",
      "[328]\tvalidation_0-rmse:0.05930\tvalidation_1-rmse:0.06374\n",
      "[329]\tvalidation_0-rmse:0.05929\tvalidation_1-rmse:0.06373\n",
      "[330]\tvalidation_0-rmse:0.05928\tvalidation_1-rmse:0.06373\n",
      "[331]\tvalidation_0-rmse:0.05928\tvalidation_1-rmse:0.06373\n",
      "[332]\tvalidation_0-rmse:0.05927\tvalidation_1-rmse:0.06370\n",
      "[333]\tvalidation_0-rmse:0.05924\tvalidation_1-rmse:0.06368\n",
      "[334]\tvalidation_0-rmse:0.05921\tvalidation_1-rmse:0.06370\n",
      "[335]\tvalidation_0-rmse:0.05919\tvalidation_1-rmse:0.06367\n",
      "[336]\tvalidation_0-rmse:0.05916\tvalidation_1-rmse:0.06363\n",
      "[337]\tvalidation_0-rmse:0.05915\tvalidation_1-rmse:0.06364\n",
      "[338]\tvalidation_0-rmse:0.05912\tvalidation_1-rmse:0.06362\n",
      "[339]\tvalidation_0-rmse:0.05910\tvalidation_1-rmse:0.06359\n",
      "[340]\tvalidation_0-rmse:0.05909\tvalidation_1-rmse:0.06359\n",
      "[341]\tvalidation_0-rmse:0.05908\tvalidation_1-rmse:0.06355\n",
      "[342]\tvalidation_0-rmse:0.05906\tvalidation_1-rmse:0.06355\n",
      "[343]\tvalidation_0-rmse:0.05905\tvalidation_1-rmse:0.06350\n",
      "[344]\tvalidation_0-rmse:0.05903\tvalidation_1-rmse:0.06350\n",
      "[345]\tvalidation_0-rmse:0.05901\tvalidation_1-rmse:0.06349\n",
      "[346]\tvalidation_0-rmse:0.05901\tvalidation_1-rmse:0.06349\n",
      "[347]\tvalidation_0-rmse:0.05901\tvalidation_1-rmse:0.06348\n",
      "[348]\tvalidation_0-rmse:0.05900\tvalidation_1-rmse:0.06352\n",
      "[349]\tvalidation_0-rmse:0.05898\tvalidation_1-rmse:0.06353\n",
      "[350]\tvalidation_0-rmse:0.05898\tvalidation_1-rmse:0.06353\n",
      "[351]\tvalidation_0-rmse:0.05896\tvalidation_1-rmse:0.06352\n",
      "[352]\tvalidation_0-rmse:0.05895\tvalidation_1-rmse:0.06351\n",
      "[353]\tvalidation_0-rmse:0.05894\tvalidation_1-rmse:0.06349\n",
      "[354]\tvalidation_0-rmse:0.05893\tvalidation_1-rmse:0.06348\n",
      "[355]\tvalidation_0-rmse:0.05892\tvalidation_1-rmse:0.06347\n",
      "[356]\tvalidation_0-rmse:0.05892\tvalidation_1-rmse:0.06348\n",
      "[357]\tvalidation_0-rmse:0.05890\tvalidation_1-rmse:0.06347\n",
      "[358]\tvalidation_0-rmse:0.05889\tvalidation_1-rmse:0.06347\n",
      "[359]\tvalidation_0-rmse:0.05888\tvalidation_1-rmse:0.06345\n",
      "[360]\tvalidation_0-rmse:0.05888\tvalidation_1-rmse:0.06345\n",
      "[361]\tvalidation_0-rmse:0.05886\tvalidation_1-rmse:0.06343\n",
      "[362]\tvalidation_0-rmse:0.05885\tvalidation_1-rmse:0.06342\n",
      "[363]\tvalidation_0-rmse:0.05884\tvalidation_1-rmse:0.06339\n",
      "[364]\tvalidation_0-rmse:0.05883\tvalidation_1-rmse:0.06339\n",
      "[365]\tvalidation_0-rmse:0.05882\tvalidation_1-rmse:0.06339\n",
      "[366]\tvalidation_0-rmse:0.05881\tvalidation_1-rmse:0.06339\n",
      "[367]\tvalidation_0-rmse:0.05880\tvalidation_1-rmse:0.06341\n",
      "[368]\tvalidation_0-rmse:0.05879\tvalidation_1-rmse:0.06339\n",
      "[369]\tvalidation_0-rmse:0.05878\tvalidation_1-rmse:0.06339\n",
      "[370]\tvalidation_0-rmse:0.05878\tvalidation_1-rmse:0.06338\n",
      "[371]\tvalidation_0-rmse:0.05878\tvalidation_1-rmse:0.06337\n",
      "[372]\tvalidation_0-rmse:0.05876\tvalidation_1-rmse:0.06337\n",
      "[373]\tvalidation_0-rmse:0.05874\tvalidation_1-rmse:0.06330\n",
      "[374]\tvalidation_0-rmse:0.05873\tvalidation_1-rmse:0.06330\n",
      "[375]\tvalidation_0-rmse:0.05872\tvalidation_1-rmse:0.06327\n",
      "[376]\tvalidation_0-rmse:0.05870\tvalidation_1-rmse:0.06327\n",
      "[377]\tvalidation_0-rmse:0.05867\tvalidation_1-rmse:0.06326\n",
      "[378]\tvalidation_0-rmse:0.05867\tvalidation_1-rmse:0.06323\n",
      "[379]\tvalidation_0-rmse:0.05866\tvalidation_1-rmse:0.06322\n",
      "[380]\tvalidation_0-rmse:0.05865\tvalidation_1-rmse:0.06325\n",
      "[381]\tvalidation_0-rmse:0.05864\tvalidation_1-rmse:0.06321\n",
      "[382]\tvalidation_0-rmse:0.05863\tvalidation_1-rmse:0.06320\n",
      "[383]\tvalidation_0-rmse:0.05862\tvalidation_1-rmse:0.06318\n",
      "[384]\tvalidation_0-rmse:0.05862\tvalidation_1-rmse:0.06319\n",
      "[385]\tvalidation_0-rmse:0.05861\tvalidation_1-rmse:0.06319\n",
      "[386]\tvalidation_0-rmse:0.05861\tvalidation_1-rmse:0.06320\n",
      "[387]\tvalidation_0-rmse:0.05860\tvalidation_1-rmse:0.06320\n",
      "[388]\tvalidation_0-rmse:0.05859\tvalidation_1-rmse:0.06320\n",
      "[389]\tvalidation_0-rmse:0.05858\tvalidation_1-rmse:0.06325\n",
      "[390]\tvalidation_0-rmse:0.05857\tvalidation_1-rmse:0.06324\n",
      "[391]\tvalidation_0-rmse:0.05856\tvalidation_1-rmse:0.06325\n",
      "[392]\tvalidation_0-rmse:0.05854\tvalidation_1-rmse:0.06323\n",
      "[393]\tvalidation_0-rmse:0.05853\tvalidation_1-rmse:0.06323\n",
      "[394]\tvalidation_0-rmse:0.05852\tvalidation_1-rmse:0.06324\n",
      "[395]\tvalidation_0-rmse:0.05851\tvalidation_1-rmse:0.06323\n",
      "[396]\tvalidation_0-rmse:0.05851\tvalidation_1-rmse:0.06322\n",
      "[397]\tvalidation_0-rmse:0.05849\tvalidation_1-rmse:0.06322\n",
      "[398]\tvalidation_0-rmse:0.05847\tvalidation_1-rmse:0.06306\n",
      "[399]\tvalidation_0-rmse:0.05846\tvalidation_1-rmse:0.06306\n",
      "[400]\tvalidation_0-rmse:0.05845\tvalidation_1-rmse:0.06307\n",
      "[401]\tvalidation_0-rmse:0.05844\tvalidation_1-rmse:0.06306\n",
      "[402]\tvalidation_0-rmse:0.05843\tvalidation_1-rmse:0.06304\n",
      "[403]\tvalidation_0-rmse:0.05842\tvalidation_1-rmse:0.06304\n",
      "[404]\tvalidation_0-rmse:0.05841\tvalidation_1-rmse:0.06301\n",
      "[405]\tvalidation_0-rmse:0.05834\tvalidation_1-rmse:0.06297\n",
      "[406]\tvalidation_0-rmse:0.05833\tvalidation_1-rmse:0.06296\n",
      "[407]\tvalidation_0-rmse:0.05833\tvalidation_1-rmse:0.06295\n",
      "[408]\tvalidation_0-rmse:0.05832\tvalidation_1-rmse:0.06294\n",
      "[409]\tvalidation_0-rmse:0.05830\tvalidation_1-rmse:0.06293\n",
      "[410]\tvalidation_0-rmse:0.05829\tvalidation_1-rmse:0.06294\n",
      "[411]\tvalidation_0-rmse:0.05828\tvalidation_1-rmse:0.06295\n",
      "[412]\tvalidation_0-rmse:0.05828\tvalidation_1-rmse:0.06294\n",
      "[413]\tvalidation_0-rmse:0.05826\tvalidation_1-rmse:0.06294\n",
      "[414]\tvalidation_0-rmse:0.05825\tvalidation_1-rmse:0.06291\n",
      "[415]\tvalidation_0-rmse:0.05823\tvalidation_1-rmse:0.06291\n",
      "[416]\tvalidation_0-rmse:0.05822\tvalidation_1-rmse:0.06293\n",
      "[417]\tvalidation_0-rmse:0.05821\tvalidation_1-rmse:0.06291\n",
      "[418]\tvalidation_0-rmse:0.05820\tvalidation_1-rmse:0.06290\n",
      "[419]\tvalidation_0-rmse:0.05819\tvalidation_1-rmse:0.06286\n",
      "[420]\tvalidation_0-rmse:0.05819\tvalidation_1-rmse:0.06286\n",
      "[421]\tvalidation_0-rmse:0.05818\tvalidation_1-rmse:0.06286\n",
      "[422]\tvalidation_0-rmse:0.05818\tvalidation_1-rmse:0.06287\n",
      "[423]\tvalidation_0-rmse:0.05817\tvalidation_1-rmse:0.06287\n",
      "[424]\tvalidation_0-rmse:0.05816\tvalidation_1-rmse:0.06285\n",
      "[425]\tvalidation_0-rmse:0.05815\tvalidation_1-rmse:0.06285\n",
      "[426]\tvalidation_0-rmse:0.05814\tvalidation_1-rmse:0.06282\n",
      "[427]\tvalidation_0-rmse:0.05813\tvalidation_1-rmse:0.06281\n"
     ]
    },
    {
     "name": "stdout",
     "output_type": "stream",
     "text": [
      "[428]\tvalidation_0-rmse:0.05812\tvalidation_1-rmse:0.06279\n",
      "[429]\tvalidation_0-rmse:0.05810\tvalidation_1-rmse:0.06278\n",
      "[430]\tvalidation_0-rmse:0.05808\tvalidation_1-rmse:0.06281\n",
      "[431]\tvalidation_0-rmse:0.05806\tvalidation_1-rmse:0.06280\n",
      "[432]\tvalidation_0-rmse:0.05806\tvalidation_1-rmse:0.06276\n",
      "[433]\tvalidation_0-rmse:0.05805\tvalidation_1-rmse:0.06276\n",
      "[434]\tvalidation_0-rmse:0.05804\tvalidation_1-rmse:0.06275\n",
      "[435]\tvalidation_0-rmse:0.05804\tvalidation_1-rmse:0.06275\n",
      "[436]\tvalidation_0-rmse:0.05803\tvalidation_1-rmse:0.06275\n",
      "[437]\tvalidation_0-rmse:0.05801\tvalidation_1-rmse:0.06274\n",
      "[438]\tvalidation_0-rmse:0.05801\tvalidation_1-rmse:0.06273\n",
      "[439]\tvalidation_0-rmse:0.05800\tvalidation_1-rmse:0.06273\n",
      "[440]\tvalidation_0-rmse:0.05799\tvalidation_1-rmse:0.06273\n",
      "[441]\tvalidation_0-rmse:0.05799\tvalidation_1-rmse:0.06274\n",
      "[442]\tvalidation_0-rmse:0.05797\tvalidation_1-rmse:0.06257\n",
      "[443]\tvalidation_0-rmse:0.05797\tvalidation_1-rmse:0.06257\n",
      "[444]\tvalidation_0-rmse:0.05796\tvalidation_1-rmse:0.06256\n",
      "[445]\tvalidation_0-rmse:0.05795\tvalidation_1-rmse:0.06256\n",
      "[446]\tvalidation_0-rmse:0.05795\tvalidation_1-rmse:0.06256\n",
      "[447]\tvalidation_0-rmse:0.05795\tvalidation_1-rmse:0.06255\n",
      "[448]\tvalidation_0-rmse:0.05794\tvalidation_1-rmse:0.06250\n",
      "[449]\tvalidation_0-rmse:0.05793\tvalidation_1-rmse:0.06251\n",
      "[450]\tvalidation_0-rmse:0.05792\tvalidation_1-rmse:0.06250\n",
      "[451]\tvalidation_0-rmse:0.05792\tvalidation_1-rmse:0.06245\n",
      "[452]\tvalidation_0-rmse:0.05791\tvalidation_1-rmse:0.06243\n",
      "[453]\tvalidation_0-rmse:0.05790\tvalidation_1-rmse:0.06244\n",
      "[454]\tvalidation_0-rmse:0.05789\tvalidation_1-rmse:0.06244\n",
      "[455]\tvalidation_0-rmse:0.05788\tvalidation_1-rmse:0.06244\n",
      "[456]\tvalidation_0-rmse:0.05787\tvalidation_1-rmse:0.06243\n",
      "[457]\tvalidation_0-rmse:0.05787\tvalidation_1-rmse:0.06243\n",
      "[458]\tvalidation_0-rmse:0.05786\tvalidation_1-rmse:0.06242\n",
      "[459]\tvalidation_0-rmse:0.05785\tvalidation_1-rmse:0.06243\n",
      "[460]\tvalidation_0-rmse:0.05784\tvalidation_1-rmse:0.06242\n",
      "[461]\tvalidation_0-rmse:0.05783\tvalidation_1-rmse:0.06243\n",
      "[462]\tvalidation_0-rmse:0.05783\tvalidation_1-rmse:0.06241\n",
      "[463]\tvalidation_0-rmse:0.05782\tvalidation_1-rmse:0.06241\n",
      "[464]\tvalidation_0-rmse:0.05781\tvalidation_1-rmse:0.06241\n",
      "[465]\tvalidation_0-rmse:0.05781\tvalidation_1-rmse:0.06241\n",
      "[466]\tvalidation_0-rmse:0.05781\tvalidation_1-rmse:0.06239\n",
      "[467]\tvalidation_0-rmse:0.05780\tvalidation_1-rmse:0.06238\n",
      "[468]\tvalidation_0-rmse:0.05780\tvalidation_1-rmse:0.06238\n",
      "[469]\tvalidation_0-rmse:0.05779\tvalidation_1-rmse:0.06238\n",
      "[470]\tvalidation_0-rmse:0.05778\tvalidation_1-rmse:0.06239\n",
      "[471]\tvalidation_0-rmse:0.05776\tvalidation_1-rmse:0.06238\n",
      "[472]\tvalidation_0-rmse:0.05775\tvalidation_1-rmse:0.06238\n",
      "[473]\tvalidation_0-rmse:0.05775\tvalidation_1-rmse:0.06236\n",
      "[474]\tvalidation_0-rmse:0.05774\tvalidation_1-rmse:0.06234\n",
      "[475]\tvalidation_0-rmse:0.05773\tvalidation_1-rmse:0.06234\n",
      "[476]\tvalidation_0-rmse:0.05772\tvalidation_1-rmse:0.06234\n",
      "[477]\tvalidation_0-rmse:0.05772\tvalidation_1-rmse:0.06232\n",
      "[478]\tvalidation_0-rmse:0.05771\tvalidation_1-rmse:0.06232\n",
      "[479]\tvalidation_0-rmse:0.05770\tvalidation_1-rmse:0.06233\n",
      "[480]\tvalidation_0-rmse:0.05770\tvalidation_1-rmse:0.06233\n",
      "[481]\tvalidation_0-rmse:0.05770\tvalidation_1-rmse:0.06233\n",
      "[482]\tvalidation_0-rmse:0.05769\tvalidation_1-rmse:0.06232\n",
      "[483]\tvalidation_0-rmse:0.05768\tvalidation_1-rmse:0.06232\n",
      "[484]\tvalidation_0-rmse:0.05767\tvalidation_1-rmse:0.06232\n",
      "[485]\tvalidation_0-rmse:0.05767\tvalidation_1-rmse:0.06230\n",
      "[486]\tvalidation_0-rmse:0.05766\tvalidation_1-rmse:0.06229\n",
      "[487]\tvalidation_0-rmse:0.05765\tvalidation_1-rmse:0.06235\n",
      "[488]\tvalidation_0-rmse:0.05765\tvalidation_1-rmse:0.06235\n",
      "[489]\tvalidation_0-rmse:0.05765\tvalidation_1-rmse:0.06235\n",
      "[490]\tvalidation_0-rmse:0.05764\tvalidation_1-rmse:0.06236\n",
      "[491]\tvalidation_0-rmse:0.05764\tvalidation_1-rmse:0.06235\n",
      "[492]\tvalidation_0-rmse:0.05763\tvalidation_1-rmse:0.06235\n",
      "[493]\tvalidation_0-rmse:0.05763\tvalidation_1-rmse:0.06237\n",
      "[494]\tvalidation_0-rmse:0.05762\tvalidation_1-rmse:0.06237\n",
      "[495]\tvalidation_0-rmse:0.05761\tvalidation_1-rmse:0.06236\n",
      "[496]\tvalidation_0-rmse:0.05760\tvalidation_1-rmse:0.06231\n",
      "[497]\tvalidation_0-rmse:0.05758\tvalidation_1-rmse:0.06228\n",
      "[498]\tvalidation_0-rmse:0.05756\tvalidation_1-rmse:0.06227\n",
      "[499]\tvalidation_0-rmse:0.05756\tvalidation_1-rmse:0.06227\n",
      "[500]\tvalidation_0-rmse:0.05755\tvalidation_1-rmse:0.06227\n",
      "[501]\tvalidation_0-rmse:0.05754\tvalidation_1-rmse:0.06225\n",
      "[502]\tvalidation_0-rmse:0.05752\tvalidation_1-rmse:0.06224\n",
      "[503]\tvalidation_0-rmse:0.05752\tvalidation_1-rmse:0.06225\n",
      "[504]\tvalidation_0-rmse:0.05751\tvalidation_1-rmse:0.06225\n",
      "[505]\tvalidation_0-rmse:0.05751\tvalidation_1-rmse:0.06224\n",
      "[506]\tvalidation_0-rmse:0.05749\tvalidation_1-rmse:0.06223\n",
      "[507]\tvalidation_0-rmse:0.05748\tvalidation_1-rmse:0.06222\n",
      "[508]\tvalidation_0-rmse:0.05747\tvalidation_1-rmse:0.06221\n",
      "[509]\tvalidation_0-rmse:0.05747\tvalidation_1-rmse:0.06219\n",
      "[510]\tvalidation_0-rmse:0.05744\tvalidation_1-rmse:0.06217\n",
      "[511]\tvalidation_0-rmse:0.05744\tvalidation_1-rmse:0.06218\n",
      "[512]\tvalidation_0-rmse:0.05743\tvalidation_1-rmse:0.06218\n",
      "[513]\tvalidation_0-rmse:0.05742\tvalidation_1-rmse:0.06218\n",
      "[514]\tvalidation_0-rmse:0.05742\tvalidation_1-rmse:0.06218\n",
      "[515]\tvalidation_0-rmse:0.05742\tvalidation_1-rmse:0.06218\n",
      "[516]\tvalidation_0-rmse:0.05741\tvalidation_1-rmse:0.06219\n",
      "[517]\tvalidation_0-rmse:0.05741\tvalidation_1-rmse:0.06218\n",
      "[518]\tvalidation_0-rmse:0.05740\tvalidation_1-rmse:0.06217\n",
      "[519]\tvalidation_0-rmse:0.05740\tvalidation_1-rmse:0.06217\n",
      "[520]\tvalidation_0-rmse:0.05740\tvalidation_1-rmse:0.06218\n",
      "[521]\tvalidation_0-rmse:0.05740\tvalidation_1-rmse:0.06217\n",
      "[522]\tvalidation_0-rmse:0.05738\tvalidation_1-rmse:0.06217\n",
      "[523]\tvalidation_0-rmse:0.05736\tvalidation_1-rmse:0.06218\n",
      "[524]\tvalidation_0-rmse:0.05735\tvalidation_1-rmse:0.06218\n",
      "[525]\tvalidation_0-rmse:0.05734\tvalidation_1-rmse:0.06212\n",
      "[526]\tvalidation_0-rmse:0.05734\tvalidation_1-rmse:0.06214\n",
      "[527]\tvalidation_0-rmse:0.05733\tvalidation_1-rmse:0.06215\n",
      "[528]\tvalidation_0-rmse:0.05731\tvalidation_1-rmse:0.06214\n",
      "[529]\tvalidation_0-rmse:0.05730\tvalidation_1-rmse:0.06213\n",
      "[530]\tvalidation_0-rmse:0.05729\tvalidation_1-rmse:0.06213\n",
      "[531]\tvalidation_0-rmse:0.05728\tvalidation_1-rmse:0.06212\n",
      "[532]\tvalidation_0-rmse:0.05727\tvalidation_1-rmse:0.06199\n",
      "[533]\tvalidation_0-rmse:0.05726\tvalidation_1-rmse:0.06197\n",
      "[534]\tvalidation_0-rmse:0.05726\tvalidation_1-rmse:0.06196\n",
      "[535]\tvalidation_0-rmse:0.05725\tvalidation_1-rmse:0.06192\n",
      "[536]\tvalidation_0-rmse:0.05724\tvalidation_1-rmse:0.06191\n",
      "[537]\tvalidation_0-rmse:0.05724\tvalidation_1-rmse:0.06191\n",
      "[538]\tvalidation_0-rmse:0.05720\tvalidation_1-rmse:0.06189\n",
      "[539]\tvalidation_0-rmse:0.05719\tvalidation_1-rmse:0.06190\n",
      "[540]\tvalidation_0-rmse:0.05719\tvalidation_1-rmse:0.06190\n",
      "[541]\tvalidation_0-rmse:0.05718\tvalidation_1-rmse:0.06189\n",
      "[542]\tvalidation_0-rmse:0.05718\tvalidation_1-rmse:0.06189\n",
      "[543]\tvalidation_0-rmse:0.05718\tvalidation_1-rmse:0.06189\n",
      "[544]\tvalidation_0-rmse:0.05717\tvalidation_1-rmse:0.06189\n",
      "[545]\tvalidation_0-rmse:0.05717\tvalidation_1-rmse:0.06189\n",
      "[546]\tvalidation_0-rmse:0.05716\tvalidation_1-rmse:0.06189\n",
      "[547]\tvalidation_0-rmse:0.05715\tvalidation_1-rmse:0.06190\n",
      "[548]\tvalidation_0-rmse:0.05715\tvalidation_1-rmse:0.06191\n",
      "[549]\tvalidation_0-rmse:0.05715\tvalidation_1-rmse:0.06191\n",
      "[550]\tvalidation_0-rmse:0.05715\tvalidation_1-rmse:0.06191\n",
      "[551]\tvalidation_0-rmse:0.05714\tvalidation_1-rmse:0.06189\n",
      "[552]\tvalidation_0-rmse:0.05714\tvalidation_1-rmse:0.06189\n",
      "[553]\tvalidation_0-rmse:0.05713\tvalidation_1-rmse:0.06189\n",
      "[554]\tvalidation_0-rmse:0.05712\tvalidation_1-rmse:0.06189\n",
      "[555]\tvalidation_0-rmse:0.05712\tvalidation_1-rmse:0.06189\n",
      "[556]\tvalidation_0-rmse:0.05711\tvalidation_1-rmse:0.06189\n",
      "[557]\tvalidation_0-rmse:0.05710\tvalidation_1-rmse:0.06187\n",
      "[558]\tvalidation_0-rmse:0.05709\tvalidation_1-rmse:0.06188\n",
      "[559]\tvalidation_0-rmse:0.05708\tvalidation_1-rmse:0.06186\n",
      "[560]\tvalidation_0-rmse:0.05707\tvalidation_1-rmse:0.06184\n",
      "[561]\tvalidation_0-rmse:0.05707\tvalidation_1-rmse:0.06182\n",
      "[562]\tvalidation_0-rmse:0.05706\tvalidation_1-rmse:0.06180\n",
      "[563]\tvalidation_0-rmse:0.05706\tvalidation_1-rmse:0.06182\n",
      "[564]\tvalidation_0-rmse:0.05706\tvalidation_1-rmse:0.06182\n",
      "[565]\tvalidation_0-rmse:0.05705\tvalidation_1-rmse:0.06182\n",
      "[566]\tvalidation_0-rmse:0.05705\tvalidation_1-rmse:0.06181\n",
      "[567]\tvalidation_0-rmse:0.05704\tvalidation_1-rmse:0.06182\n",
      "[568]\tvalidation_0-rmse:0.05704\tvalidation_1-rmse:0.06181\n",
      "[569]\tvalidation_0-rmse:0.05704\tvalidation_1-rmse:0.06179\n"
     ]
    },
    {
     "name": "stdout",
     "output_type": "stream",
     "text": [
      "[570]\tvalidation_0-rmse:0.05703\tvalidation_1-rmse:0.06179\n",
      "[571]\tvalidation_0-rmse:0.05703\tvalidation_1-rmse:0.06179\n",
      "[572]\tvalidation_0-rmse:0.05703\tvalidation_1-rmse:0.06179\n",
      "[573]\tvalidation_0-rmse:0.05702\tvalidation_1-rmse:0.06180\n",
      "[574]\tvalidation_0-rmse:0.05702\tvalidation_1-rmse:0.06179\n",
      "[575]\tvalidation_0-rmse:0.05702\tvalidation_1-rmse:0.06179\n",
      "[576]\tvalidation_0-rmse:0.05701\tvalidation_1-rmse:0.06182\n",
      "[577]\tvalidation_0-rmse:0.05701\tvalidation_1-rmse:0.06183\n",
      "[578]\tvalidation_0-rmse:0.05700\tvalidation_1-rmse:0.06183\n",
      "[579]\tvalidation_0-rmse:0.05700\tvalidation_1-rmse:0.06184\n",
      "[580]\tvalidation_0-rmse:0.05699\tvalidation_1-rmse:0.06184\n",
      "[581]\tvalidation_0-rmse:0.05699\tvalidation_1-rmse:0.06183\n",
      "[582]\tvalidation_0-rmse:0.05699\tvalidation_1-rmse:0.06183\n",
      "[583]\tvalidation_0-rmse:0.05698\tvalidation_1-rmse:0.06183\n",
      "[584]\tvalidation_0-rmse:0.05698\tvalidation_1-rmse:0.06183\n",
      "[585]\tvalidation_0-rmse:0.05698\tvalidation_1-rmse:0.06183\n",
      "[586]\tvalidation_0-rmse:0.05697\tvalidation_1-rmse:0.06182\n",
      "[587]\tvalidation_0-rmse:0.05697\tvalidation_1-rmse:0.06182\n",
      "[588]\tvalidation_0-rmse:0.05696\tvalidation_1-rmse:0.06178\n",
      "[589]\tvalidation_0-rmse:0.05696\tvalidation_1-rmse:0.06178\n",
      "[590]\tvalidation_0-rmse:0.05695\tvalidation_1-rmse:0.06178\n",
      "[591]\tvalidation_0-rmse:0.05694\tvalidation_1-rmse:0.06177\n",
      "[592]\tvalidation_0-rmse:0.05693\tvalidation_1-rmse:0.06179\n",
      "[593]\tvalidation_0-rmse:0.05693\tvalidation_1-rmse:0.06179\n",
      "[594]\tvalidation_0-rmse:0.05692\tvalidation_1-rmse:0.06177\n",
      "[595]\tvalidation_0-rmse:0.05692\tvalidation_1-rmse:0.06178\n",
      "[596]\tvalidation_0-rmse:0.05691\tvalidation_1-rmse:0.06176\n",
      "[597]\tvalidation_0-rmse:0.05690\tvalidation_1-rmse:0.06175\n",
      "[598]\tvalidation_0-rmse:0.05690\tvalidation_1-rmse:0.06175\n",
      "[599]\tvalidation_0-rmse:0.05690\tvalidation_1-rmse:0.06174\n",
      "[600]\tvalidation_0-rmse:0.05689\tvalidation_1-rmse:0.06172\n",
      "[601]\tvalidation_0-rmse:0.05689\tvalidation_1-rmse:0.06171\n",
      "[602]\tvalidation_0-rmse:0.05688\tvalidation_1-rmse:0.06168\n",
      "[603]\tvalidation_0-rmse:0.05688\tvalidation_1-rmse:0.06168\n",
      "[604]\tvalidation_0-rmse:0.05687\tvalidation_1-rmse:0.06168\n",
      "[605]\tvalidation_0-rmse:0.05686\tvalidation_1-rmse:0.06168\n",
      "[606]\tvalidation_0-rmse:0.05686\tvalidation_1-rmse:0.06167\n",
      "[607]\tvalidation_0-rmse:0.05685\tvalidation_1-rmse:0.06167\n",
      "[608]\tvalidation_0-rmse:0.05684\tvalidation_1-rmse:0.06167\n",
      "[609]\tvalidation_0-rmse:0.05683\tvalidation_1-rmse:0.06167\n",
      "[610]\tvalidation_0-rmse:0.05683\tvalidation_1-rmse:0.06166\n",
      "[611]\tvalidation_0-rmse:0.05683\tvalidation_1-rmse:0.06165\n",
      "[612]\tvalidation_0-rmse:0.05682\tvalidation_1-rmse:0.06165\n",
      "[613]\tvalidation_0-rmse:0.05681\tvalidation_1-rmse:0.06166\n",
      "[614]\tvalidation_0-rmse:0.05680\tvalidation_1-rmse:0.06165\n",
      "[615]\tvalidation_0-rmse:0.05680\tvalidation_1-rmse:0.06162\n",
      "[616]\tvalidation_0-rmse:0.05679\tvalidation_1-rmse:0.06162\n",
      "[617]\tvalidation_0-rmse:0.05679\tvalidation_1-rmse:0.06162\n",
      "[618]\tvalidation_0-rmse:0.05678\tvalidation_1-rmse:0.06162\n",
      "[619]\tvalidation_0-rmse:0.05678\tvalidation_1-rmse:0.06162\n",
      "[620]\tvalidation_0-rmse:0.05678\tvalidation_1-rmse:0.06162\n",
      "[621]\tvalidation_0-rmse:0.05677\tvalidation_1-rmse:0.06162\n",
      "[622]\tvalidation_0-rmse:0.05677\tvalidation_1-rmse:0.06162\n",
      "[623]\tvalidation_0-rmse:0.05677\tvalidation_1-rmse:0.06161\n",
      "[624]\tvalidation_0-rmse:0.05676\tvalidation_1-rmse:0.06161\n",
      "[625]\tvalidation_0-rmse:0.05675\tvalidation_1-rmse:0.06161\n",
      "[626]\tvalidation_0-rmse:0.05674\tvalidation_1-rmse:0.06162\n",
      "[627]\tvalidation_0-rmse:0.05674\tvalidation_1-rmse:0.06162\n",
      "[628]\tvalidation_0-rmse:0.05674\tvalidation_1-rmse:0.06161\n",
      "[629]\tvalidation_0-rmse:0.05673\tvalidation_1-rmse:0.06161\n",
      "[630]\tvalidation_0-rmse:0.05673\tvalidation_1-rmse:0.06161\n",
      "[631]\tvalidation_0-rmse:0.05673\tvalidation_1-rmse:0.06167\n",
      "[632]\tvalidation_0-rmse:0.05672\tvalidation_1-rmse:0.06168\n",
      "[633]\tvalidation_0-rmse:0.05672\tvalidation_1-rmse:0.06168\n",
      "[634]\tvalidation_0-rmse:0.05671\tvalidation_1-rmse:0.06168\n",
      "[635]\tvalidation_0-rmse:0.05671\tvalidation_1-rmse:0.06168\n",
      "[636]\tvalidation_0-rmse:0.05670\tvalidation_1-rmse:0.06169\n",
      "[637]\tvalidation_0-rmse:0.05670\tvalidation_1-rmse:0.06167\n",
      "[638]\tvalidation_0-rmse:0.05669\tvalidation_1-rmse:0.06166\n",
      "[639]\tvalidation_0-rmse:0.05669\tvalidation_1-rmse:0.06166\n",
      "[640]\tvalidation_0-rmse:0.05668\tvalidation_1-rmse:0.06164\n",
      "[641]\tvalidation_0-rmse:0.05667\tvalidation_1-rmse:0.06164\n",
      "[642]\tvalidation_0-rmse:0.05667\tvalidation_1-rmse:0.06166\n",
      "[643]\tvalidation_0-rmse:0.05667\tvalidation_1-rmse:0.06164\n",
      "[644]\tvalidation_0-rmse:0.05666\tvalidation_1-rmse:0.06164\n",
      "[645]\tvalidation_0-rmse:0.05666\tvalidation_1-rmse:0.06164\n",
      "[646]\tvalidation_0-rmse:0.05665\tvalidation_1-rmse:0.06164\n",
      "[647]\tvalidation_0-rmse:0.05664\tvalidation_1-rmse:0.06164\n",
      "[648]\tvalidation_0-rmse:0.05664\tvalidation_1-rmse:0.06164\n",
      "[649]\tvalidation_0-rmse:0.05664\tvalidation_1-rmse:0.06163\n",
      "[650]\tvalidation_0-rmse:0.05663\tvalidation_1-rmse:0.06163\n",
      "[651]\tvalidation_0-rmse:0.05663\tvalidation_1-rmse:0.06162\n",
      "[652]\tvalidation_0-rmse:0.05662\tvalidation_1-rmse:0.06162\n",
      "[653]\tvalidation_0-rmse:0.05661\tvalidation_1-rmse:0.06162\n",
      "[654]\tvalidation_0-rmse:0.05660\tvalidation_1-rmse:0.06161\n",
      "[655]\tvalidation_0-rmse:0.05660\tvalidation_1-rmse:0.06161\n",
      "[656]\tvalidation_0-rmse:0.05660\tvalidation_1-rmse:0.06159\n",
      "[657]\tvalidation_0-rmse:0.05659\tvalidation_1-rmse:0.06159\n",
      "[658]\tvalidation_0-rmse:0.05659\tvalidation_1-rmse:0.06159\n",
      "[659]\tvalidation_0-rmse:0.05659\tvalidation_1-rmse:0.06159\n",
      "[660]\tvalidation_0-rmse:0.05658\tvalidation_1-rmse:0.06159\n",
      "[661]\tvalidation_0-rmse:0.05658\tvalidation_1-rmse:0.06159\n",
      "[662]\tvalidation_0-rmse:0.05658\tvalidation_1-rmse:0.06159\n",
      "[663]\tvalidation_0-rmse:0.05658\tvalidation_1-rmse:0.06157\n",
      "[664]\tvalidation_0-rmse:0.05657\tvalidation_1-rmse:0.06158\n",
      "[665]\tvalidation_0-rmse:0.05656\tvalidation_1-rmse:0.06157\n",
      "[666]\tvalidation_0-rmse:0.05656\tvalidation_1-rmse:0.06155\n",
      "[667]\tvalidation_0-rmse:0.05655\tvalidation_1-rmse:0.06155\n",
      "[668]\tvalidation_0-rmse:0.05655\tvalidation_1-rmse:0.06157\n",
      "[669]\tvalidation_0-rmse:0.05655\tvalidation_1-rmse:0.06155\n",
      "[670]\tvalidation_0-rmse:0.05654\tvalidation_1-rmse:0.06155\n",
      "[671]\tvalidation_0-rmse:0.05654\tvalidation_1-rmse:0.06155\n",
      "[672]\tvalidation_0-rmse:0.05653\tvalidation_1-rmse:0.06153\n",
      "[673]\tvalidation_0-rmse:0.05653\tvalidation_1-rmse:0.06153\n",
      "[674]\tvalidation_0-rmse:0.05653\tvalidation_1-rmse:0.06152\n",
      "[675]\tvalidation_0-rmse:0.05652\tvalidation_1-rmse:0.06151\n",
      "[676]\tvalidation_0-rmse:0.05652\tvalidation_1-rmse:0.06152\n",
      "[677]\tvalidation_0-rmse:0.05651\tvalidation_1-rmse:0.06151\n",
      "[678]\tvalidation_0-rmse:0.05651\tvalidation_1-rmse:0.06151\n",
      "[679]\tvalidation_0-rmse:0.05650\tvalidation_1-rmse:0.06149\n",
      "[680]\tvalidation_0-rmse:0.05649\tvalidation_1-rmse:0.06149\n",
      "[681]\tvalidation_0-rmse:0.05648\tvalidation_1-rmse:0.06148\n",
      "[682]\tvalidation_0-rmse:0.05648\tvalidation_1-rmse:0.06148\n",
      "[683]\tvalidation_0-rmse:0.05646\tvalidation_1-rmse:0.06146\n",
      "[684]\tvalidation_0-rmse:0.05645\tvalidation_1-rmse:0.06145\n",
      "[685]\tvalidation_0-rmse:0.05645\tvalidation_1-rmse:0.06143\n",
      "[686]\tvalidation_0-rmse:0.05644\tvalidation_1-rmse:0.06143\n",
      "[687]\tvalidation_0-rmse:0.05643\tvalidation_1-rmse:0.06142\n",
      "[688]\tvalidation_0-rmse:0.05643\tvalidation_1-rmse:0.06141\n",
      "[689]\tvalidation_0-rmse:0.05643\tvalidation_1-rmse:0.06141\n",
      "[690]\tvalidation_0-rmse:0.05642\tvalidation_1-rmse:0.06141\n",
      "[691]\tvalidation_0-rmse:0.05641\tvalidation_1-rmse:0.06140\n",
      "[692]\tvalidation_0-rmse:0.05640\tvalidation_1-rmse:0.06141\n",
      "[693]\tvalidation_0-rmse:0.05640\tvalidation_1-rmse:0.06141\n",
      "[694]\tvalidation_0-rmse:0.05639\tvalidation_1-rmse:0.06141\n",
      "[695]\tvalidation_0-rmse:0.05639\tvalidation_1-rmse:0.06141\n",
      "[696]\tvalidation_0-rmse:0.05638\tvalidation_1-rmse:0.06140\n",
      "[697]\tvalidation_0-rmse:0.05638\tvalidation_1-rmse:0.06139\n",
      "[698]\tvalidation_0-rmse:0.05637\tvalidation_1-rmse:0.06139\n",
      "[699]\tvalidation_0-rmse:0.05637\tvalidation_1-rmse:0.06138\n",
      "[700]\tvalidation_0-rmse:0.05637\tvalidation_1-rmse:0.06138\n",
      "[701]\tvalidation_0-rmse:0.05637\tvalidation_1-rmse:0.06138\n",
      "[702]\tvalidation_0-rmse:0.05636\tvalidation_1-rmse:0.06137\n",
      "[703]\tvalidation_0-rmse:0.05636\tvalidation_1-rmse:0.06137\n",
      "[704]\tvalidation_0-rmse:0.05636\tvalidation_1-rmse:0.06137\n",
      "[705]\tvalidation_0-rmse:0.05635\tvalidation_1-rmse:0.06137\n",
      "[706]\tvalidation_0-rmse:0.05635\tvalidation_1-rmse:0.06137\n",
      "[707]\tvalidation_0-rmse:0.05634\tvalidation_1-rmse:0.06136\n",
      "[708]\tvalidation_0-rmse:0.05634\tvalidation_1-rmse:0.06135\n",
      "[709]\tvalidation_0-rmse:0.05633\tvalidation_1-rmse:0.06138\n",
      "[710]\tvalidation_0-rmse:0.05633\tvalidation_1-rmse:0.06138\n",
      "[711]\tvalidation_0-rmse:0.05632\tvalidation_1-rmse:0.06138\n"
     ]
    },
    {
     "name": "stdout",
     "output_type": "stream",
     "text": [
      "[712]\tvalidation_0-rmse:0.05632\tvalidation_1-rmse:0.06139\n",
      "[713]\tvalidation_0-rmse:0.05632\tvalidation_1-rmse:0.06139\n",
      "[714]\tvalidation_0-rmse:0.05631\tvalidation_1-rmse:0.06136\n",
      "[715]\tvalidation_0-rmse:0.05631\tvalidation_1-rmse:0.06137\n",
      "[716]\tvalidation_0-rmse:0.05631\tvalidation_1-rmse:0.06136\n",
      "[717]\tvalidation_0-rmse:0.05630\tvalidation_1-rmse:0.06137\n",
      "[718]\tvalidation_0-rmse:0.05630\tvalidation_1-rmse:0.06136\n",
      "[719]\tvalidation_0-rmse:0.05630\tvalidation_1-rmse:0.06136\n",
      "[720]\tvalidation_0-rmse:0.05629\tvalidation_1-rmse:0.06136\n",
      "[721]\tvalidation_0-rmse:0.05629\tvalidation_1-rmse:0.06136\n",
      "[722]\tvalidation_0-rmse:0.05629\tvalidation_1-rmse:0.06135\n",
      "[723]\tvalidation_0-rmse:0.05628\tvalidation_1-rmse:0.06137\n",
      "[724]\tvalidation_0-rmse:0.05628\tvalidation_1-rmse:0.06135\n",
      "[725]\tvalidation_0-rmse:0.05627\tvalidation_1-rmse:0.06135\n",
      "[726]\tvalidation_0-rmse:0.05627\tvalidation_1-rmse:0.06134\n",
      "[727]\tvalidation_0-rmse:0.05627\tvalidation_1-rmse:0.06134\n",
      "[728]\tvalidation_0-rmse:0.05626\tvalidation_1-rmse:0.06135\n",
      "[729]\tvalidation_0-rmse:0.05626\tvalidation_1-rmse:0.06135\n",
      "[730]\tvalidation_0-rmse:0.05626\tvalidation_1-rmse:0.06135\n",
      "[731]\tvalidation_0-rmse:0.05625\tvalidation_1-rmse:0.06136\n",
      "[732]\tvalidation_0-rmse:0.05625\tvalidation_1-rmse:0.06134\n",
      "[733]\tvalidation_0-rmse:0.05624\tvalidation_1-rmse:0.06134\n",
      "[734]\tvalidation_0-rmse:0.05624\tvalidation_1-rmse:0.06135\n",
      "[735]\tvalidation_0-rmse:0.05622\tvalidation_1-rmse:0.06135\n",
      "[736]\tvalidation_0-rmse:0.05621\tvalidation_1-rmse:0.06133\n",
      "[737]\tvalidation_0-rmse:0.05617\tvalidation_1-rmse:0.06130\n",
      "[738]\tvalidation_0-rmse:0.05616\tvalidation_1-rmse:0.06130\n",
      "[739]\tvalidation_0-rmse:0.05616\tvalidation_1-rmse:0.06130\n",
      "[740]\tvalidation_0-rmse:0.05616\tvalidation_1-rmse:0.06130\n",
      "[741]\tvalidation_0-rmse:0.05615\tvalidation_1-rmse:0.06128\n",
      "[742]\tvalidation_0-rmse:0.05615\tvalidation_1-rmse:0.06128\n",
      "[743]\tvalidation_0-rmse:0.05615\tvalidation_1-rmse:0.06128\n",
      "[744]\tvalidation_0-rmse:0.05615\tvalidation_1-rmse:0.06128\n",
      "[745]\tvalidation_0-rmse:0.05614\tvalidation_1-rmse:0.06127\n",
      "[746]\tvalidation_0-rmse:0.05614\tvalidation_1-rmse:0.06127\n",
      "[747]\tvalidation_0-rmse:0.05614\tvalidation_1-rmse:0.06127\n",
      "[748]\tvalidation_0-rmse:0.05614\tvalidation_1-rmse:0.06127\n",
      "[749]\tvalidation_0-rmse:0.05613\tvalidation_1-rmse:0.06127\n",
      "[750]\tvalidation_0-rmse:0.05613\tvalidation_1-rmse:0.06127\n",
      "[751]\tvalidation_0-rmse:0.05613\tvalidation_1-rmse:0.06127\n",
      "[752]\tvalidation_0-rmse:0.05613\tvalidation_1-rmse:0.06127\n",
      "[753]\tvalidation_0-rmse:0.05612\tvalidation_1-rmse:0.06125\n",
      "[754]\tvalidation_0-rmse:0.05612\tvalidation_1-rmse:0.06124\n",
      "[755]\tvalidation_0-rmse:0.05611\tvalidation_1-rmse:0.06123\n",
      "[756]\tvalidation_0-rmse:0.05610\tvalidation_1-rmse:0.06123\n",
      "[757]\tvalidation_0-rmse:0.05609\tvalidation_1-rmse:0.06122\n",
      "[758]\tvalidation_0-rmse:0.05609\tvalidation_1-rmse:0.06123\n",
      "[759]\tvalidation_0-rmse:0.05609\tvalidation_1-rmse:0.06122\n",
      "[760]\tvalidation_0-rmse:0.05608\tvalidation_1-rmse:0.06113\n",
      "[761]\tvalidation_0-rmse:0.05608\tvalidation_1-rmse:0.06112\n",
      "[762]\tvalidation_0-rmse:0.05607\tvalidation_1-rmse:0.06112\n",
      "[763]\tvalidation_0-rmse:0.05607\tvalidation_1-rmse:0.06112\n",
      "[764]\tvalidation_0-rmse:0.05607\tvalidation_1-rmse:0.06112\n",
      "[765]\tvalidation_0-rmse:0.05607\tvalidation_1-rmse:0.06112\n",
      "[766]\tvalidation_0-rmse:0.05606\tvalidation_1-rmse:0.06113\n",
      "[767]\tvalidation_0-rmse:0.05606\tvalidation_1-rmse:0.06113\n",
      "[768]\tvalidation_0-rmse:0.05606\tvalidation_1-rmse:0.06112\n",
      "[769]\tvalidation_0-rmse:0.05605\tvalidation_1-rmse:0.06113\n",
      "[770]\tvalidation_0-rmse:0.05605\tvalidation_1-rmse:0.06112\n",
      "[771]\tvalidation_0-rmse:0.05605\tvalidation_1-rmse:0.06112\n",
      "[772]\tvalidation_0-rmse:0.05604\tvalidation_1-rmse:0.06112\n",
      "[773]\tvalidation_0-rmse:0.05604\tvalidation_1-rmse:0.06112\n",
      "[774]\tvalidation_0-rmse:0.05604\tvalidation_1-rmse:0.06112\n",
      "[775]\tvalidation_0-rmse:0.05604\tvalidation_1-rmse:0.06112\n",
      "[776]\tvalidation_0-rmse:0.05603\tvalidation_1-rmse:0.06111\n",
      "[777]\tvalidation_0-rmse:0.05603\tvalidation_1-rmse:0.06111\n",
      "[778]\tvalidation_0-rmse:0.05602\tvalidation_1-rmse:0.06111\n",
      "[779]\tvalidation_0-rmse:0.05599\tvalidation_1-rmse:0.06109\n",
      "[780]\tvalidation_0-rmse:0.05599\tvalidation_1-rmse:0.06109\n",
      "[781]\tvalidation_0-rmse:0.05599\tvalidation_1-rmse:0.06108\n",
      "[782]\tvalidation_0-rmse:0.05598\tvalidation_1-rmse:0.06100\n",
      "[783]\tvalidation_0-rmse:0.05597\tvalidation_1-rmse:0.06099\n",
      "[784]\tvalidation_0-rmse:0.05597\tvalidation_1-rmse:0.06100\n",
      "[785]\tvalidation_0-rmse:0.05597\tvalidation_1-rmse:0.06100\n",
      "[786]\tvalidation_0-rmse:0.05596\tvalidation_1-rmse:0.06100\n",
      "[787]\tvalidation_0-rmse:0.05596\tvalidation_1-rmse:0.06101\n",
      "[788]\tvalidation_0-rmse:0.05596\tvalidation_1-rmse:0.06100\n",
      "[789]\tvalidation_0-rmse:0.05595\tvalidation_1-rmse:0.06099\n",
      "[790]\tvalidation_0-rmse:0.05595\tvalidation_1-rmse:0.06099\n",
      "[791]\tvalidation_0-rmse:0.05595\tvalidation_1-rmse:0.06099\n",
      "[792]\tvalidation_0-rmse:0.05595\tvalidation_1-rmse:0.06099\n",
      "[793]\tvalidation_0-rmse:0.05595\tvalidation_1-rmse:0.06099\n",
      "[794]\tvalidation_0-rmse:0.05594\tvalidation_1-rmse:0.06099\n",
      "[795]\tvalidation_0-rmse:0.05594\tvalidation_1-rmse:0.06098\n",
      "[796]\tvalidation_0-rmse:0.05593\tvalidation_1-rmse:0.06098\n",
      "[797]\tvalidation_0-rmse:0.05592\tvalidation_1-rmse:0.06096\n",
      "[798]\tvalidation_0-rmse:0.05592\tvalidation_1-rmse:0.06098\n",
      "[799]\tvalidation_0-rmse:0.05592\tvalidation_1-rmse:0.06096\n",
      "[800]\tvalidation_0-rmse:0.05591\tvalidation_1-rmse:0.06096\n",
      "[801]\tvalidation_0-rmse:0.05591\tvalidation_1-rmse:0.06094\n",
      "[802]\tvalidation_0-rmse:0.05591\tvalidation_1-rmse:0.06093\n",
      "[803]\tvalidation_0-rmse:0.05589\tvalidation_1-rmse:0.06093\n",
      "[804]\tvalidation_0-rmse:0.05589\tvalidation_1-rmse:0.06092\n",
      "[805]\tvalidation_0-rmse:0.05589\tvalidation_1-rmse:0.06092\n",
      "[806]\tvalidation_0-rmse:0.05588\tvalidation_1-rmse:0.06094\n",
      "[807]\tvalidation_0-rmse:0.05588\tvalidation_1-rmse:0.06094\n",
      "[808]\tvalidation_0-rmse:0.05588\tvalidation_1-rmse:0.06094\n",
      "[809]\tvalidation_0-rmse:0.05588\tvalidation_1-rmse:0.06092\n",
      "[810]\tvalidation_0-rmse:0.05588\tvalidation_1-rmse:0.06093\n",
      "[811]\tvalidation_0-rmse:0.05587\tvalidation_1-rmse:0.06093\n",
      "[812]\tvalidation_0-rmse:0.05587\tvalidation_1-rmse:0.06094\n",
      "[813]\tvalidation_0-rmse:0.05587\tvalidation_1-rmse:0.06092\n",
      "[814]\tvalidation_0-rmse:0.05584\tvalidation_1-rmse:0.06090\n",
      "[815]\tvalidation_0-rmse:0.05584\tvalidation_1-rmse:0.06090\n",
      "[816]\tvalidation_0-rmse:0.05584\tvalidation_1-rmse:0.06089\n",
      "[817]\tvalidation_0-rmse:0.05582\tvalidation_1-rmse:0.06088\n",
      "[818]\tvalidation_0-rmse:0.05582\tvalidation_1-rmse:0.06088\n",
      "[819]\tvalidation_0-rmse:0.05581\tvalidation_1-rmse:0.06089\n",
      "[820]\tvalidation_0-rmse:0.05581\tvalidation_1-rmse:0.06088\n",
      "[821]\tvalidation_0-rmse:0.05581\tvalidation_1-rmse:0.06088\n",
      "[822]\tvalidation_0-rmse:0.05581\tvalidation_1-rmse:0.06088\n",
      "[823]\tvalidation_0-rmse:0.05580\tvalidation_1-rmse:0.06089\n",
      "[824]\tvalidation_0-rmse:0.05580\tvalidation_1-rmse:0.06088\n",
      "[825]\tvalidation_0-rmse:0.05580\tvalidation_1-rmse:0.06087\n",
      "[826]\tvalidation_0-rmse:0.05580\tvalidation_1-rmse:0.06087\n",
      "[827]\tvalidation_0-rmse:0.05579\tvalidation_1-rmse:0.06087\n",
      "[828]\tvalidation_0-rmse:0.05579\tvalidation_1-rmse:0.06086\n",
      "[829]\tvalidation_0-rmse:0.05578\tvalidation_1-rmse:0.06086\n",
      "[830]\tvalidation_0-rmse:0.05578\tvalidation_1-rmse:0.06086\n",
      "[831]\tvalidation_0-rmse:0.05578\tvalidation_1-rmse:0.06086\n",
      "[832]\tvalidation_0-rmse:0.05578\tvalidation_1-rmse:0.06086\n",
      "[833]\tvalidation_0-rmse:0.05577\tvalidation_1-rmse:0.06086\n",
      "[834]\tvalidation_0-rmse:0.05577\tvalidation_1-rmse:0.06086\n",
      "[835]\tvalidation_0-rmse:0.05577\tvalidation_1-rmse:0.06087\n",
      "[836]\tvalidation_0-rmse:0.05577\tvalidation_1-rmse:0.06086\n",
      "[837]\tvalidation_0-rmse:0.05576\tvalidation_1-rmse:0.06090\n",
      "[838]\tvalidation_0-rmse:0.05576\tvalidation_1-rmse:0.06088\n",
      "[839]\tvalidation_0-rmse:0.05575\tvalidation_1-rmse:0.06088\n",
      "[840]\tvalidation_0-rmse:0.05575\tvalidation_1-rmse:0.06087\n",
      "[841]\tvalidation_0-rmse:0.05575\tvalidation_1-rmse:0.06087\n",
      "[842]\tvalidation_0-rmse:0.05575\tvalidation_1-rmse:0.06087\n",
      "[843]\tvalidation_0-rmse:0.05575\tvalidation_1-rmse:0.06087\n",
      "[844]\tvalidation_0-rmse:0.05574\tvalidation_1-rmse:0.06087\n",
      "[845]\tvalidation_0-rmse:0.05574\tvalidation_1-rmse:0.06085\n",
      "[846]\tvalidation_0-rmse:0.05574\tvalidation_1-rmse:0.06085\n",
      "[847]\tvalidation_0-rmse:0.05574\tvalidation_1-rmse:0.06086\n",
      "[848]\tvalidation_0-rmse:0.05573\tvalidation_1-rmse:0.06086\n",
      "[849]\tvalidation_0-rmse:0.05573\tvalidation_1-rmse:0.06086\n",
      "[850]\tvalidation_0-rmse:0.05573\tvalidation_1-rmse:0.06085\n",
      "[851]\tvalidation_0-rmse:0.05573\tvalidation_1-rmse:0.06085\n",
      "[852]\tvalidation_0-rmse:0.05573\tvalidation_1-rmse:0.06086\n",
      "[853]\tvalidation_0-rmse:0.05573\tvalidation_1-rmse:0.06086\n"
     ]
    },
    {
     "name": "stdout",
     "output_type": "stream",
     "text": [
      "[854]\tvalidation_0-rmse:0.05573\tvalidation_1-rmse:0.06085\n",
      "[855]\tvalidation_0-rmse:0.05572\tvalidation_1-rmse:0.06086\n",
      "[856]\tvalidation_0-rmse:0.05572\tvalidation_1-rmse:0.06084\n",
      "[857]\tvalidation_0-rmse:0.05572\tvalidation_1-rmse:0.06082\n",
      "[858]\tvalidation_0-rmse:0.05572\tvalidation_1-rmse:0.06082\n",
      "[859]\tvalidation_0-rmse:0.05571\tvalidation_1-rmse:0.06081\n",
      "[860]\tvalidation_0-rmse:0.05571\tvalidation_1-rmse:0.06080\n",
      "[861]\tvalidation_0-rmse:0.05571\tvalidation_1-rmse:0.06079\n",
      "[862]\tvalidation_0-rmse:0.05570\tvalidation_1-rmse:0.06078\n",
      "[863]\tvalidation_0-rmse:0.05570\tvalidation_1-rmse:0.06078\n",
      "[864]\tvalidation_0-rmse:0.05570\tvalidation_1-rmse:0.06078\n",
      "[865]\tvalidation_0-rmse:0.05570\tvalidation_1-rmse:0.06077\n",
      "[866]\tvalidation_0-rmse:0.05569\tvalidation_1-rmse:0.06077\n",
      "[867]\tvalidation_0-rmse:0.05569\tvalidation_1-rmse:0.06076\n",
      "[868]\tvalidation_0-rmse:0.05569\tvalidation_1-rmse:0.06076\n",
      "[869]\tvalidation_0-rmse:0.05568\tvalidation_1-rmse:0.06076\n",
      "[870]\tvalidation_0-rmse:0.05568\tvalidation_1-rmse:0.06076\n",
      "[871]\tvalidation_0-rmse:0.05568\tvalidation_1-rmse:0.06075\n",
      "[872]\tvalidation_0-rmse:0.05568\tvalidation_1-rmse:0.06076\n",
      "[873]\tvalidation_0-rmse:0.05568\tvalidation_1-rmse:0.06076\n",
      "[874]\tvalidation_0-rmse:0.05567\tvalidation_1-rmse:0.06077\n",
      "[875]\tvalidation_0-rmse:0.05567\tvalidation_1-rmse:0.06077\n",
      "[876]\tvalidation_0-rmse:0.05567\tvalidation_1-rmse:0.06077\n",
      "[877]\tvalidation_0-rmse:0.05567\tvalidation_1-rmse:0.06077\n",
      "[878]\tvalidation_0-rmse:0.05567\tvalidation_1-rmse:0.06077\n",
      "[879]\tvalidation_0-rmse:0.05566\tvalidation_1-rmse:0.06076\n",
      "[880]\tvalidation_0-rmse:0.05566\tvalidation_1-rmse:0.06075\n",
      "[881]\tvalidation_0-rmse:0.05566\tvalidation_1-rmse:0.06078\n",
      "[882]\tvalidation_0-rmse:0.05566\tvalidation_1-rmse:0.06078\n",
      "[883]\tvalidation_0-rmse:0.05565\tvalidation_1-rmse:0.06078\n",
      "[884]\tvalidation_0-rmse:0.05565\tvalidation_1-rmse:0.06079\n",
      "[885]\tvalidation_0-rmse:0.05565\tvalidation_1-rmse:0.06077\n",
      "[886]\tvalidation_0-rmse:0.05565\tvalidation_1-rmse:0.06077\n",
      "[887]\tvalidation_0-rmse:0.05565\tvalidation_1-rmse:0.06077\n",
      "[888]\tvalidation_0-rmse:0.05564\tvalidation_1-rmse:0.06076\n",
      "[889]\tvalidation_0-rmse:0.05564\tvalidation_1-rmse:0.06077\n",
      "[890]\tvalidation_0-rmse:0.05563\tvalidation_1-rmse:0.06077\n",
      "[891]\tvalidation_0-rmse:0.05563\tvalidation_1-rmse:0.06076\n",
      "[892]\tvalidation_0-rmse:0.05563\tvalidation_1-rmse:0.06076\n",
      "[893]\tvalidation_0-rmse:0.05563\tvalidation_1-rmse:0.06076\n",
      "[894]\tvalidation_0-rmse:0.05562\tvalidation_1-rmse:0.06076\n",
      "[895]\tvalidation_0-rmse:0.05562\tvalidation_1-rmse:0.06076\n",
      "[896]\tvalidation_0-rmse:0.05562\tvalidation_1-rmse:0.06076\n",
      "[897]\tvalidation_0-rmse:0.05561\tvalidation_1-rmse:0.06076\n",
      "[898]\tvalidation_0-rmse:0.05561\tvalidation_1-rmse:0.06076\n",
      "[899]\tvalidation_0-rmse:0.05561\tvalidation_1-rmse:0.06076\n",
      "[900]\tvalidation_0-rmse:0.05561\tvalidation_1-rmse:0.06076\n",
      "[901]\tvalidation_0-rmse:0.05560\tvalidation_1-rmse:0.06075\n",
      "[902]\tvalidation_0-rmse:0.05560\tvalidation_1-rmse:0.06075\n",
      "[903]\tvalidation_0-rmse:0.05559\tvalidation_1-rmse:0.06076\n",
      "[904]\tvalidation_0-rmse:0.05559\tvalidation_1-rmse:0.06075\n",
      "[905]\tvalidation_0-rmse:0.05559\tvalidation_1-rmse:0.06076\n",
      "[906]\tvalidation_0-rmse:0.05559\tvalidation_1-rmse:0.06076\n",
      "[907]\tvalidation_0-rmse:0.05558\tvalidation_1-rmse:0.06074\n",
      "[908]\tvalidation_0-rmse:0.05558\tvalidation_1-rmse:0.06074\n",
      "[909]\tvalidation_0-rmse:0.05558\tvalidation_1-rmse:0.06075\n",
      "[910]\tvalidation_0-rmse:0.05557\tvalidation_1-rmse:0.06075\n",
      "[911]\tvalidation_0-rmse:0.05557\tvalidation_1-rmse:0.06075\n",
      "[912]\tvalidation_0-rmse:0.05557\tvalidation_1-rmse:0.06074\n",
      "[913]\tvalidation_0-rmse:0.05557\tvalidation_1-rmse:0.06074\n",
      "[914]\tvalidation_0-rmse:0.05557\tvalidation_1-rmse:0.06073\n",
      "[915]\tvalidation_0-rmse:0.05556\tvalidation_1-rmse:0.06073\n",
      "[916]\tvalidation_0-rmse:0.05556\tvalidation_1-rmse:0.06074\n",
      "[917]\tvalidation_0-rmse:0.05556\tvalidation_1-rmse:0.06073\n",
      "[918]\tvalidation_0-rmse:0.05556\tvalidation_1-rmse:0.06073\n",
      "[919]\tvalidation_0-rmse:0.05555\tvalidation_1-rmse:0.06072\n",
      "[920]\tvalidation_0-rmse:0.05555\tvalidation_1-rmse:0.06072\n",
      "[921]\tvalidation_0-rmse:0.05555\tvalidation_1-rmse:0.06072\n",
      "[922]\tvalidation_0-rmse:0.05554\tvalidation_1-rmse:0.06072\n",
      "[923]\tvalidation_0-rmse:0.05554\tvalidation_1-rmse:0.06072\n",
      "[924]\tvalidation_0-rmse:0.05554\tvalidation_1-rmse:0.06072\n",
      "[925]\tvalidation_0-rmse:0.05554\tvalidation_1-rmse:0.06072\n",
      "[926]\tvalidation_0-rmse:0.05554\tvalidation_1-rmse:0.06072\n",
      "[927]\tvalidation_0-rmse:0.05554\tvalidation_1-rmse:0.06072\n",
      "[928]\tvalidation_0-rmse:0.05554\tvalidation_1-rmse:0.06072\n",
      "[929]\tvalidation_0-rmse:0.05554\tvalidation_1-rmse:0.06072\n",
      "[930]\tvalidation_0-rmse:0.05553\tvalidation_1-rmse:0.06071\n",
      "[931]\tvalidation_0-rmse:0.05553\tvalidation_1-rmse:0.06071\n",
      "[932]\tvalidation_0-rmse:0.05552\tvalidation_1-rmse:0.06069\n",
      "[933]\tvalidation_0-rmse:0.05552\tvalidation_1-rmse:0.06070\n",
      "[934]\tvalidation_0-rmse:0.05552\tvalidation_1-rmse:0.06072\n",
      "[935]\tvalidation_0-rmse:0.05552\tvalidation_1-rmse:0.06072\n",
      "[936]\tvalidation_0-rmse:0.05552\tvalidation_1-rmse:0.06073\n",
      "[937]\tvalidation_0-rmse:0.05551\tvalidation_1-rmse:0.06073\n",
      "[938]\tvalidation_0-rmse:0.05551\tvalidation_1-rmse:0.06072\n"
     ]
    },
    {
     "ename": "KeyboardInterrupt",
     "evalue": "",
     "output_type": "error",
     "traceback": [
      "\u001b[0;31m---------------------------------------------------------------------------\u001b[0m",
      "\u001b[0;31mKeyboardInterrupt\u001b[0m                         Traceback (most recent call last)",
      "\u001b[0;32m<ipython-input-262-d10c5e16d9cc>\u001b[0m in \u001b[0;36m<module>\u001b[0;34m\u001b[0m\n\u001b[1;32m      1\u001b[0m \u001b[0mxgboost_tree\u001b[0m \u001b[0;34m=\u001b[0m \u001b[0mxgb\u001b[0m\u001b[0;34m.\u001b[0m\u001b[0mXGBRegressor\u001b[0m\u001b[0;34m(\u001b[0m\u001b[0mn_estimators\u001b[0m \u001b[0;34m=\u001b[0m \u001b[0;36m1000\u001b[0m\u001b[0;34m,\u001b[0m \u001b[0mmax_depth\u001b[0m \u001b[0;34m=\u001b[0m \u001b[0;36m2\u001b[0m\u001b[0;34m)\u001b[0m\u001b[0;34m\u001b[0m\u001b[0;34m\u001b[0m\u001b[0m\n\u001b[1;32m      2\u001b[0m \u001b[0;34m\u001b[0m\u001b[0m\n\u001b[0;32m----> 3\u001b[0;31m xgboost_tree.fit(X_train, np.log(1+y_train), \n\u001b[0m\u001b[1;32m      4\u001b[0m                  \u001b[0meval_set\u001b[0m \u001b[0;34m=\u001b[0m \u001b[0;34m[\u001b[0m\u001b[0;34m(\u001b[0m\u001b[0mX_train\u001b[0m\u001b[0;34m,\u001b[0m \u001b[0mnp\u001b[0m\u001b[0;34m.\u001b[0m\u001b[0mlog\u001b[0m\u001b[0;34m(\u001b[0m\u001b[0;36m1\u001b[0m\u001b[0;34m+\u001b[0m\u001b[0my_train\u001b[0m\u001b[0;34m)\u001b[0m\u001b[0;34m)\u001b[0m\u001b[0;34m,\u001b[0m \u001b[0;34m(\u001b[0m\u001b[0mX_test\u001b[0m\u001b[0;34m,\u001b[0m \u001b[0mnp\u001b[0m\u001b[0;34m.\u001b[0m\u001b[0mlog\u001b[0m\u001b[0;34m(\u001b[0m\u001b[0;36m1\u001b[0m\u001b[0;34m+\u001b[0m\u001b[0my_test\u001b[0m\u001b[0;34m)\u001b[0m\u001b[0;34m)\u001b[0m\u001b[0;34m]\u001b[0m\u001b[0;34m,\u001b[0m\u001b[0;34m\u001b[0m\u001b[0;34m\u001b[0m\u001b[0m\n\u001b[1;32m      5\u001b[0m                  \u001b[0meval_metric\u001b[0m \u001b[0;34m=\u001b[0m \u001b[0;34m\"rmse\"\u001b[0m\u001b[0;34m,\u001b[0m\u001b[0;34m\u001b[0m\u001b[0;34m\u001b[0m\u001b[0m\n",
      "\u001b[0;32m~/anaconda3/lib/python3.8/site-packages/xgboost/core.py\u001b[0m in \u001b[0;36minner_f\u001b[0;34m(*args, **kwargs)\u001b[0m\n\u001b[1;32m    419\u001b[0m         \u001b[0;32mfor\u001b[0m \u001b[0mk\u001b[0m\u001b[0;34m,\u001b[0m \u001b[0marg\u001b[0m \u001b[0;32min\u001b[0m \u001b[0mzip\u001b[0m\u001b[0;34m(\u001b[0m\u001b[0msig\u001b[0m\u001b[0;34m.\u001b[0m\u001b[0mparameters\u001b[0m\u001b[0;34m,\u001b[0m \u001b[0margs\u001b[0m\u001b[0;34m)\u001b[0m\u001b[0;34m:\u001b[0m\u001b[0;34m\u001b[0m\u001b[0;34m\u001b[0m\u001b[0m\n\u001b[1;32m    420\u001b[0m             \u001b[0mkwargs\u001b[0m\u001b[0;34m[\u001b[0m\u001b[0mk\u001b[0m\u001b[0;34m]\u001b[0m \u001b[0;34m=\u001b[0m \u001b[0marg\u001b[0m\u001b[0;34m\u001b[0m\u001b[0;34m\u001b[0m\u001b[0m\n\u001b[0;32m--> 421\u001b[0;31m         \u001b[0;32mreturn\u001b[0m \u001b[0mf\u001b[0m\u001b[0;34m(\u001b[0m\u001b[0;34m**\u001b[0m\u001b[0mkwargs\u001b[0m\u001b[0;34m)\u001b[0m\u001b[0;34m\u001b[0m\u001b[0;34m\u001b[0m\u001b[0m\n\u001b[0m\u001b[1;32m    422\u001b[0m \u001b[0;34m\u001b[0m\u001b[0m\n\u001b[1;32m    423\u001b[0m     \u001b[0;32mreturn\u001b[0m \u001b[0minner_f\u001b[0m\u001b[0;34m\u001b[0m\u001b[0;34m\u001b[0m\u001b[0m\n",
      "\u001b[0;32m~/anaconda3/lib/python3.8/site-packages/xgboost/sklearn.py\u001b[0m in \u001b[0;36mfit\u001b[0;34m(self, X, y, sample_weight, base_margin, eval_set, eval_metric, early_stopping_rounds, verbose, xgb_model, sample_weight_eval_set, feature_weights, callbacks)\u001b[0m\n\u001b[1;32m    594\u001b[0m                 \u001b[0mparams\u001b[0m\u001b[0;34m.\u001b[0m\u001b[0mupdate\u001b[0m\u001b[0;34m(\u001b[0m\u001b[0;34m{\u001b[0m\u001b[0;34m'eval_metric'\u001b[0m\u001b[0;34m:\u001b[0m \u001b[0meval_metric\u001b[0m\u001b[0;34m}\u001b[0m\u001b[0;34m)\u001b[0m\u001b[0;34m\u001b[0m\u001b[0;34m\u001b[0m\u001b[0m\n\u001b[1;32m    595\u001b[0m \u001b[0;34m\u001b[0m\u001b[0m\n\u001b[0;32m--> 596\u001b[0;31m         self._Booster = train(params, train_dmatrix,\n\u001b[0m\u001b[1;32m    597\u001b[0m                               \u001b[0mself\u001b[0m\u001b[0;34m.\u001b[0m\u001b[0mget_num_boosting_rounds\u001b[0m\u001b[0;34m(\u001b[0m\u001b[0;34m)\u001b[0m\u001b[0;34m,\u001b[0m \u001b[0mevals\u001b[0m\u001b[0;34m=\u001b[0m\u001b[0mevals\u001b[0m\u001b[0;34m,\u001b[0m\u001b[0;34m\u001b[0m\u001b[0;34m\u001b[0m\u001b[0m\n\u001b[1;32m    598\u001b[0m                               \u001b[0mearly_stopping_rounds\u001b[0m\u001b[0;34m=\u001b[0m\u001b[0mearly_stopping_rounds\u001b[0m\u001b[0;34m,\u001b[0m\u001b[0;34m\u001b[0m\u001b[0;34m\u001b[0m\u001b[0m\n",
      "\u001b[0;32m~/anaconda3/lib/python3.8/site-packages/xgboost/training.py\u001b[0m in \u001b[0;36mtrain\u001b[0;34m(params, dtrain, num_boost_round, evals, obj, feval, maximize, early_stopping_rounds, evals_result, verbose_eval, xgb_model, callbacks)\u001b[0m\n\u001b[1;32m    217\u001b[0m     \u001b[0mBooster\u001b[0m \u001b[0;34m:\u001b[0m \u001b[0ma\u001b[0m \u001b[0mtrained\u001b[0m \u001b[0mbooster\u001b[0m \u001b[0mmodel\u001b[0m\u001b[0;34m\u001b[0m\u001b[0;34m\u001b[0m\u001b[0m\n\u001b[1;32m    218\u001b[0m     \"\"\"\n\u001b[0;32m--> 219\u001b[0;31m     bst = _train_internal(params, dtrain,\n\u001b[0m\u001b[1;32m    220\u001b[0m                           \u001b[0mnum_boost_round\u001b[0m\u001b[0;34m=\u001b[0m\u001b[0mnum_boost_round\u001b[0m\u001b[0;34m,\u001b[0m\u001b[0;34m\u001b[0m\u001b[0;34m\u001b[0m\u001b[0m\n\u001b[1;32m    221\u001b[0m                           \u001b[0mevals\u001b[0m\u001b[0;34m=\u001b[0m\u001b[0mevals\u001b[0m\u001b[0;34m,\u001b[0m\u001b[0;34m\u001b[0m\u001b[0;34m\u001b[0m\u001b[0m\n",
      "\u001b[0;32m~/anaconda3/lib/python3.8/site-packages/xgboost/training.py\u001b[0m in \u001b[0;36m_train_internal\u001b[0;34m(params, dtrain, num_boost_round, evals, obj, feval, xgb_model, callbacks, evals_result, maximize, verbose_eval, early_stopping_rounds)\u001b[0m\n\u001b[1;32m    120\u001b[0m         \u001b[0mnboost\u001b[0m \u001b[0;34m+=\u001b[0m \u001b[0;36m1\u001b[0m\u001b[0;34m\u001b[0m\u001b[0;34m\u001b[0m\u001b[0m\n\u001b[1;32m    121\u001b[0m         \u001b[0;31m# check evaluation result.\u001b[0m\u001b[0;34m\u001b[0m\u001b[0;34m\u001b[0m\u001b[0;34m\u001b[0m\u001b[0m\n\u001b[0;32m--> 122\u001b[0;31m         \u001b[0;32mif\u001b[0m \u001b[0mcallbacks\u001b[0m\u001b[0;34m.\u001b[0m\u001b[0mafter_iteration\u001b[0m\u001b[0;34m(\u001b[0m\u001b[0mbst\u001b[0m\u001b[0;34m,\u001b[0m \u001b[0mi\u001b[0m\u001b[0;34m,\u001b[0m \u001b[0mdtrain\u001b[0m\u001b[0;34m,\u001b[0m \u001b[0mevals\u001b[0m\u001b[0;34m)\u001b[0m\u001b[0;34m:\u001b[0m\u001b[0;34m\u001b[0m\u001b[0;34m\u001b[0m\u001b[0m\n\u001b[0m\u001b[1;32m    123\u001b[0m             \u001b[0;32mbreak\u001b[0m\u001b[0;34m\u001b[0m\u001b[0;34m\u001b[0m\u001b[0m\n\u001b[1;32m    124\u001b[0m         \u001b[0;31m# do checkpoint after evaluation, in case evaluation also updates\u001b[0m\u001b[0;34m\u001b[0m\u001b[0;34m\u001b[0m\u001b[0;34m\u001b[0m\u001b[0m\n",
      "\u001b[0;32m~/anaconda3/lib/python3.8/site-packages/xgboost/callback.py\u001b[0m in \u001b[0;36mafter_iteration\u001b[0;34m(self, model, epoch, dtrain, evals)\u001b[0m\n\u001b[1;32m    421\u001b[0m             \u001b[0;32mfor\u001b[0m \u001b[0m_\u001b[0m\u001b[0;34m,\u001b[0m \u001b[0mname\u001b[0m \u001b[0;32min\u001b[0m \u001b[0mevals\u001b[0m\u001b[0;34m:\u001b[0m\u001b[0;34m\u001b[0m\u001b[0;34m\u001b[0m\u001b[0m\n\u001b[1;32m    422\u001b[0m                 \u001b[0;32massert\u001b[0m \u001b[0mname\u001b[0m\u001b[0;34m.\u001b[0m\u001b[0mfind\u001b[0m\u001b[0;34m(\u001b[0m\u001b[0;34m'-'\u001b[0m\u001b[0;34m)\u001b[0m \u001b[0;34m==\u001b[0m \u001b[0;34m-\u001b[0m\u001b[0;36m1\u001b[0m\u001b[0;34m,\u001b[0m \u001b[0;34m'Dataset name should not contain `-`'\u001b[0m\u001b[0;34m\u001b[0m\u001b[0;34m\u001b[0m\u001b[0m\n\u001b[0;32m--> 423\u001b[0;31m             \u001b[0mscore\u001b[0m \u001b[0;34m=\u001b[0m \u001b[0mmodel\u001b[0m\u001b[0;34m.\u001b[0m\u001b[0meval_set\u001b[0m\u001b[0;34m(\u001b[0m\u001b[0mevals\u001b[0m\u001b[0;34m,\u001b[0m \u001b[0mepoch\u001b[0m\u001b[0;34m,\u001b[0m \u001b[0mself\u001b[0m\u001b[0;34m.\u001b[0m\u001b[0mmetric\u001b[0m\u001b[0;34m)\u001b[0m\u001b[0;34m\u001b[0m\u001b[0;34m\u001b[0m\u001b[0m\n\u001b[0m\u001b[1;32m    424\u001b[0m             \u001b[0mscore\u001b[0m \u001b[0;34m=\u001b[0m \u001b[0mscore\u001b[0m\u001b[0;34m.\u001b[0m\u001b[0msplit\u001b[0m\u001b[0;34m(\u001b[0m\u001b[0;34m)\u001b[0m\u001b[0;34m[\u001b[0m\u001b[0;36m1\u001b[0m\u001b[0;34m:\u001b[0m\u001b[0;34m]\u001b[0m  \u001b[0;31m# into datasets\u001b[0m\u001b[0;34m\u001b[0m\u001b[0;34m\u001b[0m\u001b[0m\n\u001b[1;32m    425\u001b[0m             \u001b[0;31m# split up `test-error:0.1234`\u001b[0m\u001b[0;34m\u001b[0m\u001b[0;34m\u001b[0m\u001b[0;34m\u001b[0m\u001b[0m\n",
      "\u001b[0;32m~/anaconda3/lib/python3.8/site-packages/xgboost/core.py\u001b[0m in \u001b[0;36meval_set\u001b[0;34m(self, evals, iteration, feval)\u001b[0m\n\u001b[1;32m   1329\u001b[0m         \u001b[0mevnames\u001b[0m \u001b[0;34m=\u001b[0m \u001b[0mc_array\u001b[0m\u001b[0;34m(\u001b[0m\u001b[0mctypes\u001b[0m\u001b[0;34m.\u001b[0m\u001b[0mc_char_p\u001b[0m\u001b[0;34m,\u001b[0m \u001b[0;34m[\u001b[0m\u001b[0mc_str\u001b[0m\u001b[0;34m(\u001b[0m\u001b[0md\u001b[0m\u001b[0;34m[\u001b[0m\u001b[0;36m1\u001b[0m\u001b[0;34m]\u001b[0m\u001b[0;34m)\u001b[0m \u001b[0;32mfor\u001b[0m \u001b[0md\u001b[0m \u001b[0;32min\u001b[0m \u001b[0mevals\u001b[0m\u001b[0;34m]\u001b[0m\u001b[0;34m)\u001b[0m\u001b[0;34m\u001b[0m\u001b[0;34m\u001b[0m\u001b[0m\n\u001b[1;32m   1330\u001b[0m         \u001b[0mmsg\u001b[0m \u001b[0;34m=\u001b[0m \u001b[0mctypes\u001b[0m\u001b[0;34m.\u001b[0m\u001b[0mc_char_p\u001b[0m\u001b[0;34m(\u001b[0m\u001b[0;34m)\u001b[0m\u001b[0;34m\u001b[0m\u001b[0;34m\u001b[0m\u001b[0m\n\u001b[0;32m-> 1331\u001b[0;31m         _check_call(_LIB.XGBoosterEvalOneIter(self.handle,\n\u001b[0m\u001b[1;32m   1332\u001b[0m                                               \u001b[0mctypes\u001b[0m\u001b[0;34m.\u001b[0m\u001b[0mc_int\u001b[0m\u001b[0;34m(\u001b[0m\u001b[0miteration\u001b[0m\u001b[0;34m)\u001b[0m\u001b[0;34m,\u001b[0m\u001b[0;34m\u001b[0m\u001b[0;34m\u001b[0m\u001b[0m\n\u001b[1;32m   1333\u001b[0m                                               \u001b[0mdmats\u001b[0m\u001b[0;34m,\u001b[0m \u001b[0mevnames\u001b[0m\u001b[0;34m,\u001b[0m\u001b[0;34m\u001b[0m\u001b[0;34m\u001b[0m\u001b[0m\n",
      "\u001b[0;31mKeyboardInterrupt\u001b[0m: "
     ]
    }
   ],
   "source": [
    "xgboost_tree = xgb.XGBRegressor(n_estimators = 1000, max_depth = 2)\n",
    "\n",
    "xgboost_tree.fit(X_train, np.log(1+y_train), \n",
    "                 eval_set = [(X_train, np.log(1+y_train)), (X_test, np.log(1+y_test))],\n",
    "                 eval_metric = \"rmse\",\n",
    "                 early_stopping_rounds = 300)"
   ]
  },
  {
   "cell_type": "code",
   "execution_count": null,
   "metadata": {},
   "outputs": [],
   "source": [
    "xgboost_tree.predict(X_test[:100])"
   ]
  },
  {
   "cell_type": "code",
   "execution_count": null,
   "metadata": {},
   "outputs": [],
   "source": []
  }
 ],
 "metadata": {
  "kernelspec": {
   "display_name": "Python 3",
   "language": "python",
   "name": "python3"
  },
  "language_info": {
   "codemirror_mode": {
    "name": "ipython",
    "version": 3
   },
   "file_extension": ".py",
   "mimetype": "text/x-python",
   "name": "python",
   "nbconvert_exporter": "python",
   "pygments_lexer": "ipython3",
   "version": "3.8.5"
  }
 },
 "nbformat": 4,
 "nbformat_minor": 2
}
