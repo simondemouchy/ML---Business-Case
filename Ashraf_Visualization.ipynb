{
 "cells": [
  {
   "cell_type": "markdown",
   "metadata": {},
   "source": [
    "## Data Analysis"
   ]
  },
  {
   "cell_type": "markdown",
   "metadata": {},
   "source": [
    "### Importing libraries"
   ]
  },
  {
   "cell_type": "code",
   "execution_count": 46,
   "metadata": {},
   "outputs": [],
   "source": [
    "import pandas as pd\n",
    "import seaborn as sns\n",
    "import numpy as np\n",
    "import matplotlib.pyplot as plt"
   ]
  },
  {
   "cell_type": "markdown",
   "metadata": {},
   "source": [
    "### Reading data"
   ]
  },
  {
   "cell_type": "code",
   "execution_count": 47,
   "metadata": {},
   "outputs": [
    {
     "name": "stderr",
     "output_type": "stream",
     "text": [
      "/home/ghiye/.local/lib/python3.8/site-packages/IPython/core/interactiveshell.py:3146: DtypeWarning: Columns (8) have mixed types.Specify dtype option on import or set low_memory=False.\n",
      "  has_raised = await self.run_ast_nodes(code_ast.body, cell_name,\n"
     ]
    },
    {
     "name": "stdout",
     "output_type": "stream",
     "text": [
      "store :  (1115, 10)\n",
      "train :  (1017209, 9)\n",
      "test :  (41088, 8)\n"
     ]
    }
   ],
   "source": [
    "store = pd.read_csv('Data/store.csv');\n",
    "train_1 = pd.read_csv('Data/train_1.csv');\n",
    "train_2 = pd.read_csv('Data/train_2.csv');\n",
    "train = pd.concat([train_1, train_2], axis=0);\n",
    "train= train.drop(columns=['Unnamed: 0'])\n",
    "test = pd.read_csv('Data/test.csv')\n",
    "\n",
    "print('store : ',store.shape)\n",
    "print('train : ',train.shape)\n",
    "print('test : ',test.shape)"
   ]
  },
  {
   "cell_type": "markdown",
   "metadata": {},
   "source": [
    "### Data Description"
   ]
  },
  {
   "cell_type": "markdown",
   "metadata": {},
   "source": [
    "In this section, we will get to know the features of our dataset.\n",
    "\n",
    "Our data is split in two seperate datasets, `Store` and `Train`. \n",
    "\n",
    "- `Store`: contains features that describe the stores, e.g. store type or competition distance.\n",
    "\n",
    "- `Train`: contains informations about the sales, number of customers, etc.. of each stores."
   ]
  },
  {
   "cell_type": "markdown",
   "metadata": {},
   "source": [
    "Most of the fields are self-explanatory. The following are descriptions for those that aren't.\n",
    "\n",
    "- **Id**: an Id that represents a (Store, Date) tuple within the test set.\n",
    "\n",
    "\n",
    "- **Store**: a unique Id for each store.\n",
    "\n",
    "\n",
    "- **Sales**: the turnover for any given day.\n",
    "\n",
    "\n",
    "- **Customers**: the number of customers on a given day.\n",
    "\n",
    "\n",
    "- **Open**: an indicator for whether the store was open: 0 = closed, 1 = open.\n",
    "\n",
    "\n",
    "- **StateHoliday**: indicates a state holiday. Normally all stores, with few exceptions, are closed on state holidays. \n",
    "Note that all schools are closed on public holidays and weekends. a = public holiday, b = Easter holiday, c = Christmas, 0 = None\n",
    "\n",
    "\n",
    "- **SchoolHoliday**: indicates if the (Store, Date) was affected by the closure of public schools.\n",
    "\n",
    "\n",
    "- **StoreType**: differentiates between 4 different store models: a, b, c, d.\n",
    "\n",
    "\n",
    "- **Assortment**: describes an assortment level: a = basic, b = extra, c = extended.\n",
    "\n",
    "\n",
    "- **CompetitionDistance**: distance in meters to the nearest competitor store.\n",
    "\n",
    "\n",
    "- **CompetitionOpenSince[Month/Year]**: gives the approximate year and month of the time the nearest competitor was opened.\n",
    "\n",
    "\n",
    "- **Promo**: indicates whether a store is running a promo on that day.\n",
    "\n",
    "\n",
    "- **Promo2**: Promo2 is a continuing and consecutive promotion for some stores: 0 = store is not participating, 1 = store is participating.\n",
    "\n",
    "\n",
    "- **Promo2Since[Year/Week]**: describes the year and calendar week when the store started participating in Promo2.\n",
    "\n",
    "\n",
    "- **PromoInterval**: describes the consecutive intervals Promo2 is started, naming the months the promotion is started anew. E.g. \"Feb,May,Aug,Nov\" means each round starts in February, May, August, November of any given year for that store."
   ]
  },
  {
   "cell_type": "code",
   "execution_count": 48,
   "metadata": {},
   "outputs": [],
   "source": [
    "def missing_data(df) : \n",
    "    \"\"\"\n",
    "    Explore the % of NaN values in dataframe df.\n",
    "    \"\"\"\n",
    "    #caculate the total number of Null values for each variable\n",
    "    total = df.isnull().sum()\n",
    "    #caculate the percent of missing values\n",
    "    percent_1 = df.isnull().sum()/df.shape[0]*100\n",
    "    percent_2 = (round(percent_1, 1))\n",
    "    missing_data = pd.concat([total, percent_2], axis=1, keys=['Total', '%'])\n",
    "    return missing_data.sort_values(by=\"%\",ascending=False)"
   ]
  },
  {
   "cell_type": "markdown",
   "metadata": {},
   "source": [
    "### Store"
   ]
  },
  {
   "cell_type": "code",
   "execution_count": 49,
   "metadata": {},
   "outputs": [
    {
     "data": {
      "text/html": [
       "<div>\n",
       "<style scoped>\n",
       "    .dataframe tbody tr th:only-of-type {\n",
       "        vertical-align: middle;\n",
       "    }\n",
       "\n",
       "    .dataframe tbody tr th {\n",
       "        vertical-align: top;\n",
       "    }\n",
       "\n",
       "    .dataframe thead th {\n",
       "        text-align: right;\n",
       "    }\n",
       "</style>\n",
       "<table border=\"1\" class=\"dataframe\">\n",
       "  <thead>\n",
       "    <tr style=\"text-align: right;\">\n",
       "      <th></th>\n",
       "      <th>Store</th>\n",
       "      <th>StoreType</th>\n",
       "      <th>Assortment</th>\n",
       "      <th>CompetitionDistance</th>\n",
       "      <th>CompetitionOpenSinceMonth</th>\n",
       "      <th>CompetitionOpenSinceYear</th>\n",
       "      <th>Promo2</th>\n",
       "      <th>Promo2SinceWeek</th>\n",
       "      <th>Promo2SinceYear</th>\n",
       "      <th>PromoInterval</th>\n",
       "    </tr>\n",
       "  </thead>\n",
       "  <tbody>\n",
       "    <tr>\n",
       "      <th>0</th>\n",
       "      <td>1</td>\n",
       "      <td>c</td>\n",
       "      <td>a</td>\n",
       "      <td>1270.0</td>\n",
       "      <td>9.0</td>\n",
       "      <td>2008.0</td>\n",
       "      <td>0</td>\n",
       "      <td>NaN</td>\n",
       "      <td>NaN</td>\n",
       "      <td>NaN</td>\n",
       "    </tr>\n",
       "    <tr>\n",
       "      <th>1</th>\n",
       "      <td>2</td>\n",
       "      <td>a</td>\n",
       "      <td>a</td>\n",
       "      <td>570.0</td>\n",
       "      <td>11.0</td>\n",
       "      <td>2007.0</td>\n",
       "      <td>1</td>\n",
       "      <td>13.0</td>\n",
       "      <td>2010.0</td>\n",
       "      <td>Jan,Apr,Jul,Oct</td>\n",
       "    </tr>\n",
       "    <tr>\n",
       "      <th>2</th>\n",
       "      <td>3</td>\n",
       "      <td>a</td>\n",
       "      <td>a</td>\n",
       "      <td>14130.0</td>\n",
       "      <td>12.0</td>\n",
       "      <td>2006.0</td>\n",
       "      <td>1</td>\n",
       "      <td>14.0</td>\n",
       "      <td>2011.0</td>\n",
       "      <td>Jan,Apr,Jul,Oct</td>\n",
       "    </tr>\n",
       "    <tr>\n",
       "      <th>3</th>\n",
       "      <td>4</td>\n",
       "      <td>c</td>\n",
       "      <td>c</td>\n",
       "      <td>620.0</td>\n",
       "      <td>9.0</td>\n",
       "      <td>2009.0</td>\n",
       "      <td>0</td>\n",
       "      <td>NaN</td>\n",
       "      <td>NaN</td>\n",
       "      <td>NaN</td>\n",
       "    </tr>\n",
       "    <tr>\n",
       "      <th>4</th>\n",
       "      <td>5</td>\n",
       "      <td>a</td>\n",
       "      <td>a</td>\n",
       "      <td>29910.0</td>\n",
       "      <td>4.0</td>\n",
       "      <td>2015.0</td>\n",
       "      <td>0</td>\n",
       "      <td>NaN</td>\n",
       "      <td>NaN</td>\n",
       "      <td>NaN</td>\n",
       "    </tr>\n",
       "  </tbody>\n",
       "</table>\n",
       "</div>"
      ],
      "text/plain": [
       "   Store StoreType Assortment  CompetitionDistance  CompetitionOpenSinceMonth  \\\n",
       "0      1         c          a               1270.0                        9.0   \n",
       "1      2         a          a                570.0                       11.0   \n",
       "2      3         a          a              14130.0                       12.0   \n",
       "3      4         c          c                620.0                        9.0   \n",
       "4      5         a          a              29910.0                        4.0   \n",
       "\n",
       "   CompetitionOpenSinceYear  Promo2  Promo2SinceWeek  Promo2SinceYear  \\\n",
       "0                    2008.0       0              NaN              NaN   \n",
       "1                    2007.0       1             13.0           2010.0   \n",
       "2                    2006.0       1             14.0           2011.0   \n",
       "3                    2009.0       0              NaN              NaN   \n",
       "4                    2015.0       0              NaN              NaN   \n",
       "\n",
       "     PromoInterval  \n",
       "0              NaN  \n",
       "1  Jan,Apr,Jul,Oct  \n",
       "2  Jan,Apr,Jul,Oct  \n",
       "3              NaN  \n",
       "4              NaN  "
      ]
     },
     "execution_count": 49,
     "metadata": {},
     "output_type": "execute_result"
    }
   ],
   "source": [
    "store.head(5)"
   ]
  },
  {
   "cell_type": "code",
   "execution_count": 50,
   "metadata": {},
   "outputs": [
    {
     "name": "stdout",
     "output_type": "stream",
     "text": [
      "<class 'pandas.core.frame.DataFrame'>\n",
      "RangeIndex: 1115 entries, 0 to 1114\n",
      "Data columns (total 10 columns):\n",
      " #   Column                     Non-Null Count  Dtype  \n",
      "---  ------                     --------------  -----  \n",
      " 0   Store                      1115 non-null   int64  \n",
      " 1   StoreType                  1115 non-null   object \n",
      " 2   Assortment                 1115 non-null   object \n",
      " 3   CompetitionDistance        1112 non-null   float64\n",
      " 4   CompetitionOpenSinceMonth  761 non-null    float64\n",
      " 5   CompetitionOpenSinceYear   761 non-null    float64\n",
      " 6   Promo2                     1115 non-null   int64  \n",
      " 7   Promo2SinceWeek            571 non-null    float64\n",
      " 8   Promo2SinceYear            571 non-null    float64\n",
      " 9   PromoInterval              571 non-null    object \n",
      "dtypes: float64(5), int64(2), object(3)\n",
      "memory usage: 87.2+ KB\n"
     ]
    }
   ],
   "source": [
    "store.info()"
   ]
  },
  {
   "cell_type": "code",
   "execution_count": 51,
   "metadata": {},
   "outputs": [
    {
     "data": {
      "text/html": [
       "<div>\n",
       "<style scoped>\n",
       "    .dataframe tbody tr th:only-of-type {\n",
       "        vertical-align: middle;\n",
       "    }\n",
       "\n",
       "    .dataframe tbody tr th {\n",
       "        vertical-align: top;\n",
       "    }\n",
       "\n",
       "    .dataframe thead th {\n",
       "        text-align: right;\n",
       "    }\n",
       "</style>\n",
       "<table border=\"1\" class=\"dataframe\">\n",
       "  <thead>\n",
       "    <tr style=\"text-align: right;\">\n",
       "      <th></th>\n",
       "      <th>Total</th>\n",
       "      <th>%</th>\n",
       "    </tr>\n",
       "  </thead>\n",
       "  <tbody>\n",
       "    <tr>\n",
       "      <th>Promo2SinceWeek</th>\n",
       "      <td>544</td>\n",
       "      <td>48.8</td>\n",
       "    </tr>\n",
       "    <tr>\n",
       "      <th>Promo2SinceYear</th>\n",
       "      <td>544</td>\n",
       "      <td>48.8</td>\n",
       "    </tr>\n",
       "    <tr>\n",
       "      <th>PromoInterval</th>\n",
       "      <td>544</td>\n",
       "      <td>48.8</td>\n",
       "    </tr>\n",
       "    <tr>\n",
       "      <th>CompetitionOpenSinceMonth</th>\n",
       "      <td>354</td>\n",
       "      <td>31.7</td>\n",
       "    </tr>\n",
       "    <tr>\n",
       "      <th>CompetitionOpenSinceYear</th>\n",
       "      <td>354</td>\n",
       "      <td>31.7</td>\n",
       "    </tr>\n",
       "    <tr>\n",
       "      <th>CompetitionDistance</th>\n",
       "      <td>3</td>\n",
       "      <td>0.3</td>\n",
       "    </tr>\n",
       "    <tr>\n",
       "      <th>Store</th>\n",
       "      <td>0</td>\n",
       "      <td>0.0</td>\n",
       "    </tr>\n",
       "    <tr>\n",
       "      <th>StoreType</th>\n",
       "      <td>0</td>\n",
       "      <td>0.0</td>\n",
       "    </tr>\n",
       "    <tr>\n",
       "      <th>Assortment</th>\n",
       "      <td>0</td>\n",
       "      <td>0.0</td>\n",
       "    </tr>\n",
       "    <tr>\n",
       "      <th>Promo2</th>\n",
       "      <td>0</td>\n",
       "      <td>0.0</td>\n",
       "    </tr>\n",
       "  </tbody>\n",
       "</table>\n",
       "</div>"
      ],
      "text/plain": [
       "                           Total     %\n",
       "Promo2SinceWeek              544  48.8\n",
       "Promo2SinceYear              544  48.8\n",
       "PromoInterval                544  48.8\n",
       "CompetitionOpenSinceMonth    354  31.7\n",
       "CompetitionOpenSinceYear     354  31.7\n",
       "CompetitionDistance            3   0.3\n",
       "Store                          0   0.0\n",
       "StoreType                      0   0.0\n",
       "Assortment                     0   0.0\n",
       "Promo2                         0   0.0"
      ]
     },
     "execution_count": 51,
     "metadata": {},
     "output_type": "execute_result"
    }
   ],
   "source": [
    "missing_data(store)"
   ]
  },
  {
   "cell_type": "markdown",
   "metadata": {},
   "source": [
    "As we can see above, the missing values of the first 5 features are imortant ($\\approx 50\\%$), thus they might not be useful in our case, and probably we will drop them."
   ]
  },
  {
   "cell_type": "code",
   "execution_count": 52,
   "metadata": {},
   "outputs": [
    {
     "data": {
      "text/plain": [
       "Store                        1115\n",
       "StoreType                       4\n",
       "Assortment                      3\n",
       "CompetitionDistance           654\n",
       "CompetitionOpenSinceMonth      12\n",
       "CompetitionOpenSinceYear       23\n",
       "Promo2                          2\n",
       "Promo2SinceWeek                24\n",
       "Promo2SinceYear                 7\n",
       "PromoInterval                   3\n",
       "dtype: int64"
      ]
     },
     "execution_count": 52,
     "metadata": {},
     "output_type": "execute_result"
    }
   ],
   "source": [
    "store.nunique()"
   ]
  },
  {
   "cell_type": "markdown",
   "metadata": {},
   "source": [
    "Mostly, all of the features are categorical. we can use for example `pd.get_dummies` to get the OneHot encoding of these features and to eliminate orders between features."
   ]
  },
  {
   "cell_type": "markdown",
   "metadata": {},
   "source": [
    "### Train"
   ]
  },
  {
   "cell_type": "code",
   "execution_count": 53,
   "metadata": {},
   "outputs": [
    {
     "data": {
      "text/html": [
       "<div>\n",
       "<style scoped>\n",
       "    .dataframe tbody tr th:only-of-type {\n",
       "        vertical-align: middle;\n",
       "    }\n",
       "\n",
       "    .dataframe tbody tr th {\n",
       "        vertical-align: top;\n",
       "    }\n",
       "\n",
       "    .dataframe thead th {\n",
       "        text-align: right;\n",
       "    }\n",
       "</style>\n",
       "<table border=\"1\" class=\"dataframe\">\n",
       "  <thead>\n",
       "    <tr style=\"text-align: right;\">\n",
       "      <th></th>\n",
       "      <th>Store</th>\n",
       "      <th>DayOfWeek</th>\n",
       "      <th>Date</th>\n",
       "      <th>Sales</th>\n",
       "      <th>Customers</th>\n",
       "      <th>Open</th>\n",
       "      <th>Promo</th>\n",
       "      <th>StateHoliday</th>\n",
       "      <th>SchoolHoliday</th>\n",
       "    </tr>\n",
       "  </thead>\n",
       "  <tbody>\n",
       "    <tr>\n",
       "      <th>0</th>\n",
       "      <td>1</td>\n",
       "      <td>5</td>\n",
       "      <td>2015-07-31</td>\n",
       "      <td>5263</td>\n",
       "      <td>555</td>\n",
       "      <td>1</td>\n",
       "      <td>1</td>\n",
       "      <td>0</td>\n",
       "      <td>1</td>\n",
       "    </tr>\n",
       "    <tr>\n",
       "      <th>1</th>\n",
       "      <td>2</td>\n",
       "      <td>5</td>\n",
       "      <td>2015-07-31</td>\n",
       "      <td>6064</td>\n",
       "      <td>625</td>\n",
       "      <td>1</td>\n",
       "      <td>1</td>\n",
       "      <td>0</td>\n",
       "      <td>1</td>\n",
       "    </tr>\n",
       "    <tr>\n",
       "      <th>2</th>\n",
       "      <td>3</td>\n",
       "      <td>5</td>\n",
       "      <td>2015-07-31</td>\n",
       "      <td>8314</td>\n",
       "      <td>821</td>\n",
       "      <td>1</td>\n",
       "      <td>1</td>\n",
       "      <td>0</td>\n",
       "      <td>1</td>\n",
       "    </tr>\n",
       "    <tr>\n",
       "      <th>3</th>\n",
       "      <td>4</td>\n",
       "      <td>5</td>\n",
       "      <td>2015-07-31</td>\n",
       "      <td>13995</td>\n",
       "      <td>1498</td>\n",
       "      <td>1</td>\n",
       "      <td>1</td>\n",
       "      <td>0</td>\n",
       "      <td>1</td>\n",
       "    </tr>\n",
       "    <tr>\n",
       "      <th>4</th>\n",
       "      <td>5</td>\n",
       "      <td>5</td>\n",
       "      <td>2015-07-31</td>\n",
       "      <td>4822</td>\n",
       "      <td>559</td>\n",
       "      <td>1</td>\n",
       "      <td>1</td>\n",
       "      <td>0</td>\n",
       "      <td>1</td>\n",
       "    </tr>\n",
       "  </tbody>\n",
       "</table>\n",
       "</div>"
      ],
      "text/plain": [
       "   Store  DayOfWeek        Date  Sales  Customers  Open  Promo StateHoliday  \\\n",
       "0      1          5  2015-07-31   5263        555     1      1            0   \n",
       "1      2          5  2015-07-31   6064        625     1      1            0   \n",
       "2      3          5  2015-07-31   8314        821     1      1            0   \n",
       "3      4          5  2015-07-31  13995       1498     1      1            0   \n",
       "4      5          5  2015-07-31   4822        559     1      1            0   \n",
       "\n",
       "   SchoolHoliday  \n",
       "0              1  \n",
       "1              1  \n",
       "2              1  \n",
       "3              1  \n",
       "4              1  "
      ]
     },
     "execution_count": 53,
     "metadata": {},
     "output_type": "execute_result"
    }
   ],
   "source": [
    "train.head(5)"
   ]
  },
  {
   "cell_type": "code",
   "execution_count": 54,
   "metadata": {},
   "outputs": [
    {
     "name": "stdout",
     "output_type": "stream",
     "text": [
      "<class 'pandas.core.frame.DataFrame'>\n",
      "Int64Index: 1017209 entries, 0 to 508604\n",
      "Data columns (total 9 columns):\n",
      " #   Column         Non-Null Count    Dtype \n",
      "---  ------         --------------    ----- \n",
      " 0   Store          1017209 non-null  int64 \n",
      " 1   DayOfWeek      1017209 non-null  int64 \n",
      " 2   Date           1017209 non-null  object\n",
      " 3   Sales          1017209 non-null  int64 \n",
      " 4   Customers      1017209 non-null  int64 \n",
      " 5   Open           1017209 non-null  int64 \n",
      " 6   Promo          1017209 non-null  int64 \n",
      " 7   StateHoliday   1017209 non-null  object\n",
      " 8   SchoolHoliday  1017209 non-null  int64 \n",
      "dtypes: int64(7), object(2)\n",
      "memory usage: 77.6+ MB\n"
     ]
    }
   ],
   "source": [
    "train.info()"
   ]
  },
  {
   "cell_type": "code",
   "execution_count": 55,
   "metadata": {},
   "outputs": [
    {
     "data": {
      "text/html": [
       "<div>\n",
       "<style scoped>\n",
       "    .dataframe tbody tr th:only-of-type {\n",
       "        vertical-align: middle;\n",
       "    }\n",
       "\n",
       "    .dataframe tbody tr th {\n",
       "        vertical-align: top;\n",
       "    }\n",
       "\n",
       "    .dataframe thead th {\n",
       "        text-align: right;\n",
       "    }\n",
       "</style>\n",
       "<table border=\"1\" class=\"dataframe\">\n",
       "  <thead>\n",
       "    <tr style=\"text-align: right;\">\n",
       "      <th></th>\n",
       "      <th>Total</th>\n",
       "      <th>%</th>\n",
       "    </tr>\n",
       "  </thead>\n",
       "  <tbody>\n",
       "    <tr>\n",
       "      <th>Store</th>\n",
       "      <td>0</td>\n",
       "      <td>0.0</td>\n",
       "    </tr>\n",
       "    <tr>\n",
       "      <th>DayOfWeek</th>\n",
       "      <td>0</td>\n",
       "      <td>0.0</td>\n",
       "    </tr>\n",
       "    <tr>\n",
       "      <th>Date</th>\n",
       "      <td>0</td>\n",
       "      <td>0.0</td>\n",
       "    </tr>\n",
       "    <tr>\n",
       "      <th>Sales</th>\n",
       "      <td>0</td>\n",
       "      <td>0.0</td>\n",
       "    </tr>\n",
       "    <tr>\n",
       "      <th>Customers</th>\n",
       "      <td>0</td>\n",
       "      <td>0.0</td>\n",
       "    </tr>\n",
       "    <tr>\n",
       "      <th>Open</th>\n",
       "      <td>0</td>\n",
       "      <td>0.0</td>\n",
       "    </tr>\n",
       "    <tr>\n",
       "      <th>Promo</th>\n",
       "      <td>0</td>\n",
       "      <td>0.0</td>\n",
       "    </tr>\n",
       "    <tr>\n",
       "      <th>StateHoliday</th>\n",
       "      <td>0</td>\n",
       "      <td>0.0</td>\n",
       "    </tr>\n",
       "    <tr>\n",
       "      <th>SchoolHoliday</th>\n",
       "      <td>0</td>\n",
       "      <td>0.0</td>\n",
       "    </tr>\n",
       "  </tbody>\n",
       "</table>\n",
       "</div>"
      ],
      "text/plain": [
       "               Total    %\n",
       "Store              0  0.0\n",
       "DayOfWeek          0  0.0\n",
       "Date               0  0.0\n",
       "Sales              0  0.0\n",
       "Customers          0  0.0\n",
       "Open               0  0.0\n",
       "Promo              0  0.0\n",
       "StateHoliday       0  0.0\n",
       "SchoolHoliday      0  0.0"
      ]
     },
     "execution_count": 55,
     "metadata": {},
     "output_type": "execute_result"
    }
   ],
   "source": [
    "missing_data(train)"
   ]
  },
  {
   "cell_type": "markdown",
   "metadata": {},
   "source": [
    "There is no missing values in `train.csv`, thus all features can be used for prediction."
   ]
  },
  {
   "cell_type": "code",
   "execution_count": 56,
   "metadata": {},
   "outputs": [
    {
     "data": {
      "text/plain": [
       "Store             1115\n",
       "DayOfWeek            7\n",
       "Date               942\n",
       "Sales            21734\n",
       "Customers         4086\n",
       "Open                 2\n",
       "Promo                2\n",
       "StateHoliday         5\n",
       "SchoolHoliday        2\n",
       "dtype: int64"
      ]
     },
     "execution_count": 56,
     "metadata": {},
     "output_type": "execute_result"
    }
   ],
   "source": [
    "train.nunique()"
   ]
  },
  {
   "cell_type": "markdown",
   "metadata": {},
   "source": [
    "## Data Exploration"
   ]
  },
  {
   "cell_type": "markdown",
   "metadata": {},
   "source": [
    "#### Day of the week"
   ]
  },
  {
   "cell_type": "markdown",
   "metadata": {},
   "source": [
    "First, we want to see the change in sales during the 7 days of the week, for that we will simply take the daily average of sales for each day of the week."
   ]
  },
  {
   "cell_type": "code",
   "execution_count": 57,
   "metadata": {},
   "outputs": [
    {
     "data": {
      "image/png": "[encoded data removed]",
      "text/plain": [
       "<Figure size 432x288 with 1 Axes>"
      ]
     },
     "metadata": {
      "needs_background": "light"
     },
     "output_type": "display_data"
    }
   ],
   "source": [
    "plt.figure()\n",
    "plt.title('Sales by Day of the week.')\n",
    "labels = ['Monday', 'Tuesday', 'Wenesday', 'Thursday', 'Friday', 'Saturday', 'Sunday']\n",
    "ax = sns.barplot(x='DayOfWeek', y='Sales', data=train)\n",
    "ax.set_xlabel(labels)\n",
    "plt.show()"
   ]
  },
  {
   "cell_type": "markdown",
   "metadata": {},
   "source": [
    "From the plot above, we can notice that, on average, the most sales occurs during Mondays. It decreases during the week with a slight peak again in Friday.\n",
    "\n",
    "Also, we notice that sales drop on Sundays. This is expected, since in general the stores are normally closed during that day."
   ]
  },
  {
   "cell_type": "markdown",
   "metadata": {},
   "source": [
    "Let us verify our hypothesis based and validate if it is indeed the case that the stores are closed during Sundays."
   ]
  },
  {
   "cell_type": "code",
   "execution_count": 58,
   "metadata": {},
   "outputs": [
    {
     "data": {
      "text/plain": [
       "0    141137\n",
       "1      3593\n",
       "Name: Open, dtype: int64"
      ]
     },
     "execution_count": 58,
     "metadata": {},
     "output_type": "execute_result"
    }
   ],
   "source": [
    "sundays_close = train.iloc[np.where(train['DayOfWeek']==7)]['Open'].value_counts()\n",
    "sundays_close"
   ]
  },
  {
   "cell_type": "code",
   "execution_count": 59,
   "metadata": {},
   "outputs": [
    {
     "name": "stdout",
     "output_type": "stream",
     "text": [
      "97.52% of the time, the stores are closed on Sundays\n"
     ]
    }
   ],
   "source": [
    "print(\"{0:.2f}% of the time, the stores are closed on Sundays\".format(100*sundays_close[0]/sundays_close.sum()))"
   ]
  },
  {
   "cell_type": "markdown",
   "metadata": {},
   "source": [
    "We can see that most of Sundays, the store is closed. This is why the sales drop during this day."
   ]
  },
  {
   "cell_type": "markdown",
   "metadata": {},
   "source": [
    "#### Open/Closed days"
   ]
  },
  {
   "cell_type": "markdown",
   "metadata": {},
   "source": [
    "Next we will examin the `Open` feature which is the indicator weither the store is open or not.\n",
    "\n",
    "For example, we want to make sure that no sales occur during closed days (e.g. e-commerce sites can still have sales during closed days)."
   ]
  },
  {
   "cell_type": "code",
   "execution_count": 60,
   "metadata": {},
   "outputs": [
    {
     "name": "stdout",
     "output_type": "stream",
     "text": [
      "0 sales during closed days: True\n"
     ]
    }
   ],
   "source": [
    "not_open = train[(train['Open'] == 0) & (train['Sales'] != 0)]\n",
    "print(\"0 sales during closed days: \" + str(not_open.size == 0))"
   ]
  },
  {
   "cell_type": "code",
   "execution_count": 61,
   "metadata": {},
   "outputs": [
    {
     "data": {
      "text/plain": [
       "Open\n",
       "0       0.000000\n",
       "1    6955.514291\n",
       "Name: Sales, dtype: float64"
      ]
     },
     "execution_count": 61,
     "metadata": {},
     "output_type": "execute_result"
    }
   ],
   "source": [
    "train.groupby('Open')['Sales'].mean()"
   ]
  },
  {
   "cell_type": "markdown",
   "metadata": {},
   "source": [
    "Since our goal is to estimate the sales of each store, we won't be interested in closed days were sales are zero.\n",
    "\n",
    "Thus, we can eliminate the days when the stores where closed to not affect our prediction."
   ]
  },
  {
   "cell_type": "markdown",
   "metadata": {},
   "source": [
    "#### Customers"
   ]
  },
  {
   "cell_type": "markdown",
   "metadata": {},
   "source": [
    "We will examine the average number of customers per days of the week."
   ]
  },
  {
   "cell_type": "code",
   "execution_count": 62,
   "metadata": {},
   "outputs": [
    {
     "data": {
      "image/png": "[encoded data removed]",
      "text/plain": [
       "<Figure size 432x288 with 1 Axes>"
      ]
     },
     "metadata": {
      "needs_background": "light"
     },
     "output_type": "display_data"
    }
   ],
   "source": [
    "plt.figure()\n",
    "plt.title('Sales by Day of the week.')\n",
    "labels = ['Monday', 'Tuesday', 'Wenesday', 'Thursday', 'Friday', 'Saturday', 'Sunday']\n",
    "ax = sns.barplot(x='DayOfWeek', y='Customers', data=train)\n",
    "ax.set_xlabel(labels)\n",
    "plt.show()"
   ]
  },
  {
   "cell_type": "markdown",
   "metadata": {},
   "source": [
    "It shows similar results to Sales per day of weeks, and this is expected again, since the number of customers is positively correlated with sales growth."
   ]
  },
  {
   "cell_type": "markdown",
   "metadata": {},
   "source": [
    "#### Customers & Sales"
   ]
  },
  {
   "cell_type": "markdown",
   "metadata": {},
   "source": [
    "Let's verify this correlation between `Customers` and `Sales`."
   ]
  },
  {
   "cell_type": "code",
   "execution_count": 63,
   "metadata": {},
   "outputs": [
    {
     "data": {
      "image/png": "[encoded data removed]",
      "text/plain": [
       "<Figure size 720x720 with 1 Axes>"
      ]
     },
     "metadata": {
      "needs_background": "light"
     },
     "output_type": "display_data"
    }
   ],
   "source": [
    "f, ax = plt.subplots(figsize=(10, 10))\n",
    "ax.set(xscale=\"log\", yscale=\"log\")\n",
    "\n",
    "sns.scatterplot(x=\"Customers\", y=\"Sales\",ax=ax, data=train[train.Sales != 0 & train.Customers]);"
   ]
  },
  {
   "cell_type": "markdown",
   "metadata": {},
   "source": [
    "It is normal that Sales will grow with Customers. hence a positive linear correlation exist between these two variables."
   ]
  },
  {
   "cell_type": "markdown",
   "metadata": {},
   "source": [
    "#### Promo Days"
   ]
  },
  {
   "cell_type": "markdown",
   "metadata": {},
   "source": [
    "Now, we will examine more the average sales in function of promo days."
   ]
  },
  {
   "cell_type": "code",
   "execution_count": 64,
   "metadata": {},
   "outputs": [],
   "source": [
    "sales_by_promo = train.groupby('Promo')[\"Sales\"].mean()"
   ]
  },
  {
   "cell_type": "code",
   "execution_count": 65,
   "metadata": {},
   "outputs": [
    {
     "data": {
      "image/png": "[encoded data removed]",
      "text/plain": [
       "<Figure size 720x432 with 1 Axes>"
      ]
     },
     "metadata": {},
     "output_type": "display_data"
    }
   ],
   "source": [
    "pie, ax = plt.subplots(figsize=[10,6])\n",
    "labels = ['Normal days', 'Promo days']\n",
    "plt.pie(x=sales_by_promo, autopct=\"%.1f%%\", explode=[0.05]*2, labels=labels, pctdistance=0.5)\n",
    "plt.title(\"Sales by Promo days\", fontsize=14);"
   ]
  },
  {
   "cell_type": "markdown",
   "metadata": {},
   "source": [
    "#### School holidays"
   ]
  },
  {
   "cell_type": "code",
   "execution_count": 66,
   "metadata": {},
   "outputs": [
    {
     "data": {
      "image/png": "[encoded data removed]",
      "text/plain": [
       "<Figure size 720x432 with 1 Axes>"
      ]
     },
     "metadata": {},
     "output_type": "display_data"
    }
   ],
   "source": [
    "sales_by_schoolh = train.groupby('SchoolHoliday')[\"Sales\"].mean()\n",
    "pie, ax = plt.subplots(figsize=[10,6])\n",
    "labels = ['Normal days', 'School holidays']\n",
    "plt.pie(x=sales_by_schoolh, autopct=\"%.1f%%\", explode=[0.05]*2, labels=labels, pctdistance=0.5)\n",
    "plt.title(\"Sales by School holidays\", fontsize=14);"
   ]
  },
  {
   "cell_type": "markdown",
   "metadata": {},
   "source": [
    "#### State Holidays"
   ]
  },
  {
   "cell_type": "code",
   "execution_count": 67,
   "metadata": {},
   "outputs": [],
   "source": [
    "sales_by_stateh = train.groupby('StateHoliday')[\"Sales\"].mean()\n",
    "sales_by_stateh[0] += sales_by_stateh['0']\n",
    "sales_by_stateh.drop(['0'], inplace=True)"
   ]
  },
  {
   "cell_type": "code",
   "execution_count": 68,
   "metadata": {},
   "outputs": [],
   "source": [
    "labels = ['Normal Days', 'Public holiday', 'Easter holiday', 'Christmas']"
   ]
  },
  {
   "cell_type": "code",
   "execution_count": 69,
   "metadata": {},
   "outputs": [
    {
     "data": {
      "image/png": "[encoded data removed]",
      "text/plain": [
       "<Figure size 720x432 with 1 Axes>"
      ]
     },
     "metadata": {},
     "output_type": "display_data"
    }
   ],
   "source": [
    "sns.set_style(\"whitegrid\")\n",
    "bar,ax = plt.subplots(figsize=(10,6))\n",
    "ax = sns.barplot(x=labels, y=sales_by_stateh, data=sales_by_stateh, ci=None, palette=\"muted\",orient='v', )\n",
    "ax.set_title(\"Sales by State Holidays\", fontsize=15)\n",
    "ax.set_xlabel (\"State Holidays\")\n",
    "ax.set_ylabel (\"Total sales\")\n",
    "# calculate the percentages and annotate the sns barplot\n",
    "for rect in ax.patches:\n",
    "    ax.text (rect.get_x() + rect.get_width() / 2,rect.get_height(),\"%.1f\"% rect.get_height(), weight='bold' )"
   ]
  },
  {
   "cell_type": "markdown",
   "metadata": {},
   "source": [
    "#### Sales growth in function of time"
   ]
  },
  {
   "cell_type": "code",
   "execution_count": 70,
   "metadata": {},
   "outputs": [
    {
     "data": {
      "image/png": "[encoded data removed]",
      "text/plain": [
       "<Figure size 1440x720 with 1 Axes>"
      ]
     },
     "metadata": {},
     "output_type": "display_data"
    }
   ],
   "source": [
    "fig, ax = plt.subplots(figsize=(20, 10))\n",
    "df1 = train[train.Store == 1].iloc[:200]\n",
    "df1 = df1[df1.Sales != 0]\n",
    "plt.plot(df1['Date'], df1['Sales'])\n",
    "plt.show()"
   ]
  },
  {
   "cell_type": "code",
   "execution_count": null,
   "metadata": {},
   "outputs": [],
   "source": []
  },
  {
   "cell_type": "markdown",
   "metadata": {},
   "source": [
    "## Model"
   ]
  },
  {
   "cell_type": "markdown",
   "metadata": {},
   "source": [
    "### Reading the data"
   ]
  },
  {
   "cell_type": "code",
   "execution_count": 71,
   "metadata": {},
   "outputs": [
    {
     "name": "stderr",
     "output_type": "stream",
     "text": [
      "/home/ghiye/.local/lib/python3.8/site-packages/IPython/core/interactiveshell.py:3146: DtypeWarning: Columns (8) have mixed types.Specify dtype option on import or set low_memory=False.\n",
      "  has_raised = await self.run_ast_nodes(code_ast.body, cell_name,\n"
     ]
    },
    {
     "name": "stdout",
     "output_type": "stream",
     "text": [
      "store :  (1115, 10)\n",
      "train :  (1017209, 9)\n",
      "test :  (41088, 8)\n"
     ]
    }
   ],
   "source": [
    "store = pd.read_csv('Data/store.csv');\n",
    "train_1 = pd.read_csv('Data/train_1.csv');\n",
    "train_2 = pd.read_csv('Data/train_2.csv');\n",
    "train = pd.concat([train_1, train_2], axis=0);\n",
    "train= train.drop(columns=['Unnamed: 0']);\n",
    "test = pd.read_csv('Data/test.csv');\n",
    "\n",
    "print('store : ',store.shape)\n",
    "print('train : ',train.shape)\n",
    "print('test : ',test.shape)"
   ]
  },
  {
   "cell_type": "markdown",
   "metadata": {},
   "source": [
    "## Merge the databases"
   ]
  },
  {
   "cell_type": "code",
   "execution_count": 72,
   "metadata": {},
   "outputs": [],
   "source": [
    "df = pd.merge(train, store, how = 'inner', on = 'Store')"
   ]
  },
  {
   "cell_type": "code",
   "execution_count": 73,
   "metadata": {},
   "outputs": [
    {
     "data": {
      "text/html": [
       "<div>\n",
       "<style scoped>\n",
       "    .dataframe tbody tr th:only-of-type {\n",
       "        vertical-align: middle;\n",
       "    }\n",
       "\n",
       "    .dataframe tbody tr th {\n",
       "        vertical-align: top;\n",
       "    }\n",
       "\n",
       "    .dataframe thead th {\n",
       "        text-align: right;\n",
       "    }\n",
       "</style>\n",
       "<table border=\"1\" class=\"dataframe\">\n",
       "  <thead>\n",
       "    <tr style=\"text-align: right;\">\n",
       "      <th></th>\n",
       "      <th>Total</th>\n",
       "      <th>%</th>\n",
       "    </tr>\n",
       "  </thead>\n",
       "  <tbody>\n",
       "    <tr>\n",
       "      <th>PromoInterval</th>\n",
       "      <td>508031</td>\n",
       "      <td>49.9</td>\n",
       "    </tr>\n",
       "    <tr>\n",
       "      <th>Promo2SinceYear</th>\n",
       "      <td>508031</td>\n",
       "      <td>49.9</td>\n",
       "    </tr>\n",
       "    <tr>\n",
       "      <th>Promo2SinceWeek</th>\n",
       "      <td>508031</td>\n",
       "      <td>49.9</td>\n",
       "    </tr>\n",
       "    <tr>\n",
       "      <th>CompetitionOpenSinceYear</th>\n",
       "      <td>323348</td>\n",
       "      <td>31.8</td>\n",
       "    </tr>\n",
       "    <tr>\n",
       "      <th>CompetitionOpenSinceMonth</th>\n",
       "      <td>323348</td>\n",
       "      <td>31.8</td>\n",
       "    </tr>\n",
       "    <tr>\n",
       "      <th>CompetitionDistance</th>\n",
       "      <td>2642</td>\n",
       "      <td>0.3</td>\n",
       "    </tr>\n",
       "    <tr>\n",
       "      <th>DayOfWeek</th>\n",
       "      <td>0</td>\n",
       "      <td>0.0</td>\n",
       "    </tr>\n",
       "    <tr>\n",
       "      <th>Promo2</th>\n",
       "      <td>0</td>\n",
       "      <td>0.0</td>\n",
       "    </tr>\n",
       "    <tr>\n",
       "      <th>Assortment</th>\n",
       "      <td>0</td>\n",
       "      <td>0.0</td>\n",
       "    </tr>\n",
       "    <tr>\n",
       "      <th>Store</th>\n",
       "      <td>0</td>\n",
       "      <td>0.0</td>\n",
       "    </tr>\n",
       "    <tr>\n",
       "      <th>SchoolHoliday</th>\n",
       "      <td>0</td>\n",
       "      <td>0.0</td>\n",
       "    </tr>\n",
       "    <tr>\n",
       "      <th>StateHoliday</th>\n",
       "      <td>0</td>\n",
       "      <td>0.0</td>\n",
       "    </tr>\n",
       "    <tr>\n",
       "      <th>Promo</th>\n",
       "      <td>0</td>\n",
       "      <td>0.0</td>\n",
       "    </tr>\n",
       "    <tr>\n",
       "      <th>Open</th>\n",
       "      <td>0</td>\n",
       "      <td>0.0</td>\n",
       "    </tr>\n",
       "    <tr>\n",
       "      <th>Customers</th>\n",
       "      <td>0</td>\n",
       "      <td>0.0</td>\n",
       "    </tr>\n",
       "    <tr>\n",
       "      <th>Sales</th>\n",
       "      <td>0</td>\n",
       "      <td>0.0</td>\n",
       "    </tr>\n",
       "    <tr>\n",
       "      <th>Date</th>\n",
       "      <td>0</td>\n",
       "      <td>0.0</td>\n",
       "    </tr>\n",
       "    <tr>\n",
       "      <th>StoreType</th>\n",
       "      <td>0</td>\n",
       "      <td>0.0</td>\n",
       "    </tr>\n",
       "  </tbody>\n",
       "</table>\n",
       "</div>"
      ],
      "text/plain": [
       "                            Total     %\n",
       "PromoInterval              508031  49.9\n",
       "Promo2SinceYear            508031  49.9\n",
       "Promo2SinceWeek            508031  49.9\n",
       "CompetitionOpenSinceYear   323348  31.8\n",
       "CompetitionOpenSinceMonth  323348  31.8\n",
       "CompetitionDistance          2642   0.3\n",
       "DayOfWeek                       0   0.0\n",
       "Promo2                          0   0.0\n",
       "Assortment                      0   0.0\n",
       "Store                           0   0.0\n",
       "SchoolHoliday                   0   0.0\n",
       "StateHoliday                    0   0.0\n",
       "Promo                           0   0.0\n",
       "Open                            0   0.0\n",
       "Customers                       0   0.0\n",
       "Sales                           0   0.0\n",
       "Date                            0   0.0\n",
       "StoreType                       0   0.0"
      ]
     },
     "execution_count": 73,
     "metadata": {},
     "output_type": "execute_result"
    }
   ],
   "source": [
    "missing_data(df)"
   ]
  },
  {
   "cell_type": "code",
   "execution_count": 74,
   "metadata": {},
   "outputs": [],
   "source": [
    "df = df.drop(['PromoInterval', 'Promo2SinceYear', 'Promo2SinceWeek', 'CompetitionOpenSinceYear',\n",
    "              'CompetitionOpenSinceMonth', 'CompetitionDistance'], axis=1)"
   ]
  },
  {
   "cell_type": "code",
   "execution_count": 75,
   "metadata": {},
   "outputs": [
    {
     "name": "stdout",
     "output_type": "stream",
     "text": [
      "<class 'pandas.core.frame.DataFrame'>\n",
      "Int64Index: 1017209 entries, 0 to 1017208\n",
      "Data columns (total 12 columns):\n",
      " #   Column         Non-Null Count    Dtype \n",
      "---  ------         --------------    ----- \n",
      " 0   Store          1017209 non-null  int64 \n",
      " 1   DayOfWeek      1017209 non-null  int64 \n",
      " 2   Date           1017209 non-null  object\n",
      " 3   Sales          1017209 non-null  int64 \n",
      " 4   Customers      1017209 non-null  int64 \n",
      " 5   Open           1017209 non-null  int64 \n",
      " 6   Promo          1017209 non-null  int64 \n",
      " 7   StateHoliday   1017209 non-null  object\n",
      " 8   SchoolHoliday  1017209 non-null  int64 \n",
      " 9   StoreType      1017209 non-null  object\n",
      " 10  Assortment     1017209 non-null  object\n",
      " 11  Promo2         1017209 non-null  int64 \n",
      "dtypes: int64(8), object(4)\n",
      "memory usage: 100.9+ MB\n"
     ]
    }
   ],
   "source": [
    "df.info()"
   ]
  },
  {
   "cell_type": "code",
   "execution_count": 76,
   "metadata": {},
   "outputs": [],
   "source": [
    "df = df.dropna()"
   ]
  },
  {
   "cell_type": "markdown",
   "metadata": {},
   "source": [
    "### Feature Engineering"
   ]
  },
  {
   "cell_type": "markdown",
   "metadata": {},
   "source": [
    "We noticed that each store can be distinguished by its average sales, average customers and on average how much each customer pay.\n",
    "\n",
    "Therefore, in order to give the model more powerful features that have discriminative power, we decided to add some hand-crafted features that can caracterise the store and helps the model learn to predict its next sales."
   ]
  },
  {
   "cell_type": "markdown",
   "metadata": {},
   "source": [
    "We will add three variables:\n",
    "\n",
    "- Average sales per store.\n",
    "- Average customers per store.\n",
    "- Average sales per customer per store."
   ]
  },
  {
   "cell_type": "code",
   "execution_count": 77,
   "metadata": {},
   "outputs": [],
   "source": [
    "avg_sales_store = df.groupby('StoreType')['Sales'].mean()"
   ]
  },
  {
   "cell_type": "code",
   "execution_count": 78,
   "metadata": {},
   "outputs": [],
   "source": [
    "avg_sales = df[['Sales', 'Store']].groupby([\"Store\"]).mean()\n",
    "avg_sales.rename(columns=lambda x: 'avg_' + x, inplace=True)\n",
    "\n",
    "avg_customers = df[['Customers', 'Store']].groupby([\"Store\"]).mean()\n",
    "avg_customers.rename(columns=lambda x: 'avg_' + x, inplace=True)\n",
    "\n",
    "df = pd.merge(avg_sales.reset_index(), df, on='Store')\n",
    "df = pd.merge(avg_customers.reset_index(), df, on='Store')\n",
    "\n",
    "df['avg_sales_c'] = df['avg_Sales'] / df['avg_Customers']"
   ]
  },
  {
   "cell_type": "code",
   "execution_count": 79,
   "metadata": {},
   "outputs": [],
   "source": [
    "df = pd.get_dummies(df, columns=['StoreType','Assortment','StateHoliday', 'DayOfWeek'])"
   ]
  },
  {
   "cell_type": "code",
   "execution_count": 80,
   "metadata": {},
   "outputs": [
    {
     "name": "stderr",
     "output_type": "stream",
     "text": [
      "<ipython-input-80-2ea91380e0c4>:7: FutureWarning: Series.dt.weekofyear and Series.dt.week have been deprecated.  Please use Series.dt.isocalendar().week instead.\n",
      "  df['WeekOfYear'] = df.Date.dt.weekofyear;\n"
     ]
    }
   ],
   "source": [
    "df['Date'] = pd.to_datetime(df['Date'], infer_datetime_format=True)\n",
    "\n",
    "# data extraction\n",
    "df['Year'] = df.Date.dt.year;\n",
    "df['Month'] = df.Date.dt.month;\n",
    "df['Day'] = df.Date.dt.day;\n",
    "df['WeekOfYear'] = df.Date.dt.weekofyear;"
   ]
  },
  {
   "cell_type": "markdown",
   "metadata": {},
   "source": [
    "### Training the model"
   ]
  },
  {
   "cell_type": "code",
   "execution_count": 81,
   "metadata": {},
   "outputs": [],
   "source": [
    "import xgboost as xgb\n",
    "from sklearn.model_selection import train_test_split"
   ]
  },
  {
   "cell_type": "code",
   "execution_count": 82,
   "metadata": {},
   "outputs": [],
   "source": [
    "df[\"Date\"] = pd.to_datetime(df[\"Date\"], format=\"%Y-%m-%d\")\n",
    "\n",
    "date_threshold = df[\"Date\"].max() - pd.DateOffset(weeks=6)\n",
    "X_train = df.loc[df[\"Date\"] < date_threshold].drop(columns=[\"Sales\", \"Date\", \"Customers\"]).reset_index(drop=True)\n",
    "y_train = df.loc[df[\"Date\"] < date_threshold, \"Sales\"].reset_index(drop=True)\n",
    "X_test = df.loc[df[\"Date\"] >= date_threshold].drop(columns=[\"Sales\", \"Date\", \"Customers\"]).reset_index(drop=True)\n",
    "y_test = df.loc[df[\"Date\"] >= date_threshold, \"Sales\"].reset_index(drop=True)"
   ]
  },
  {
   "cell_type": "code",
   "execution_count": 83,
   "metadata": {},
   "outputs": [],
   "source": [
    "X_train = np.array(X_train)\n",
    "X_test = np.array(X_test)\n",
    "y_train = np.array(y_train)\n",
    "y_test = np.array(y_test)"
   ]
  },
  {
   "cell_type": "code",
   "execution_count": 85,
   "metadata": {},
   "outputs": [
    {
     "name": "stdout",
     "output_type": "stream",
     "text": [
      "[0]\tvalidation_0-rmse:5.27341\tvalidation_1-rmse:5.39412\n",
      "[1]\tvalidation_0-rmse:3.69817\tvalidation_1-rmse:3.78553\n",
      "[2]\tvalidation_0-rmse:2.59743\tvalidation_1-rmse:2.66233\n",
      "[3]\tvalidation_0-rmse:1.82900\tvalidation_1-rmse:1.87712\n",
      "[4]\tvalidation_0-rmse:1.29510\tvalidation_1-rmse:1.33085\n",
      "[5]\tvalidation_0-rmse:0.92590\tvalidation_1-rmse:0.95254\n",
      "[6]\tvalidation_0-rmse:0.67267\tvalidation_1-rmse:0.69134\n",
      "[7]\tvalidation_0-rmse:0.50352\tvalidation_1-rmse:0.51497\n",
      "[8]\tvalidation_0-rmse:0.39310\tvalidation_1-rmse:0.39778\n",
      "[9]\tvalidation_0-rmse:0.32341\tvalidation_1-rmse:0.32137\n",
      "[10]\tvalidation_0-rmse:0.28145\tvalidation_1-rmse:0.27392\n",
      "[11]\tvalidation_0-rmse:0.25509\tvalidation_1-rmse:0.24303\n",
      "[12]\tvalidation_0-rmse:0.23937\tvalidation_1-rmse:0.22355\n",
      "[13]\tvalidation_0-rmse:0.22925\tvalidation_1-rmse:0.21577\n",
      "[14]\tvalidation_0-rmse:0.22200\tvalidation_1-rmse:0.20756\n",
      "[15]\tvalidation_0-rmse:0.21678\tvalidation_1-rmse:0.20054\n",
      "[16]\tvalidation_0-rmse:0.21304\tvalidation_1-rmse:0.19540\n",
      "[17]\tvalidation_0-rmse:0.20969\tvalidation_1-rmse:0.19270\n",
      "[18]\tvalidation_0-rmse:0.20709\tvalidation_1-rmse:0.18907\n",
      "[19]\tvalidation_0-rmse:0.20506\tvalidation_1-rmse:0.18536\n",
      "[20]\tvalidation_0-rmse:0.20337\tvalidation_1-rmse:0.18401\n",
      "[21]\tvalidation_0-rmse:0.20207\tvalidation_1-rmse:0.18202\n",
      "[22]\tvalidation_0-rmse:0.20061\tvalidation_1-rmse:0.18119\n",
      "[23]\tvalidation_0-rmse:0.19918\tvalidation_1-rmse:0.18096\n",
      "[24]\tvalidation_0-rmse:0.19801\tvalidation_1-rmse:0.17974\n",
      "[25]\tvalidation_0-rmse:0.19723\tvalidation_1-rmse:0.17961\n",
      "[26]\tvalidation_0-rmse:0.19653\tvalidation_1-rmse:0.17853\n",
      "[27]\tvalidation_0-rmse:0.19542\tvalidation_1-rmse:0.17844\n",
      "[28]\tvalidation_0-rmse:0.19472\tvalidation_1-rmse:0.17703\n",
      "[29]\tvalidation_0-rmse:0.19415\tvalidation_1-rmse:0.17618\n",
      "[30]\tvalidation_0-rmse:0.19355\tvalidation_1-rmse:0.17527\n",
      "[31]\tvalidation_0-rmse:0.19311\tvalidation_1-rmse:0.17513\n",
      "[32]\tvalidation_0-rmse:0.19253\tvalidation_1-rmse:0.17506\n",
      "[33]\tvalidation_0-rmse:0.19194\tvalidation_1-rmse:0.17419\n",
      "[34]\tvalidation_0-rmse:0.19153\tvalidation_1-rmse:0.17413\n",
      "[35]\tvalidation_0-rmse:0.19110\tvalidation_1-rmse:0.17365\n",
      "[36]\tvalidation_0-rmse:0.19074\tvalidation_1-rmse:0.17347\n",
      "[37]\tvalidation_0-rmse:0.19038\tvalidation_1-rmse:0.17340\n",
      "[38]\tvalidation_0-rmse:0.19012\tvalidation_1-rmse:0.17319\n",
      "[39]\tvalidation_0-rmse:0.18956\tvalidation_1-rmse:0.17286\n",
      "[40]\tvalidation_0-rmse:0.18929\tvalidation_1-rmse:0.17274\n",
      "[41]\tvalidation_0-rmse:0.18906\tvalidation_1-rmse:0.17265\n",
      "[42]\tvalidation_0-rmse:0.18872\tvalidation_1-rmse:0.17244\n",
      "[43]\tvalidation_0-rmse:0.18853\tvalidation_1-rmse:0.17242\n",
      "[44]\tvalidation_0-rmse:0.18827\tvalidation_1-rmse:0.17244\n",
      "[45]\tvalidation_0-rmse:0.18807\tvalidation_1-rmse:0.17245\n",
      "[46]\tvalidation_0-rmse:0.18792\tvalidation_1-rmse:0.17258\n",
      "[47]\tvalidation_0-rmse:0.18769\tvalidation_1-rmse:0.17237\n",
      "[48]\tvalidation_0-rmse:0.18747\tvalidation_1-rmse:0.17229\n",
      "[49]\tvalidation_0-rmse:0.18724\tvalidation_1-rmse:0.17233\n",
      "[50]\tvalidation_0-rmse:0.18704\tvalidation_1-rmse:0.17197\n",
      "[51]\tvalidation_0-rmse:0.18686\tvalidation_1-rmse:0.17188\n",
      "[52]\tvalidation_0-rmse:0.18661\tvalidation_1-rmse:0.17182\n",
      "[53]\tvalidation_0-rmse:0.18646\tvalidation_1-rmse:0.17169\n",
      "[54]\tvalidation_0-rmse:0.18637\tvalidation_1-rmse:0.17180\n",
      "[55]\tvalidation_0-rmse:0.18623\tvalidation_1-rmse:0.17188\n",
      "[56]\tvalidation_0-rmse:0.18607\tvalidation_1-rmse:0.17186\n",
      "[57]\tvalidation_0-rmse:0.18594\tvalidation_1-rmse:0.17162\n",
      "[58]\tvalidation_0-rmse:0.18586\tvalidation_1-rmse:0.17156\n",
      "[59]\tvalidation_0-rmse:0.18574\tvalidation_1-rmse:0.17159\n",
      "[60]\tvalidation_0-rmse:0.18566\tvalidation_1-rmse:0.17163\n",
      "[61]\tvalidation_0-rmse:0.18559\tvalidation_1-rmse:0.17167\n",
      "[62]\tvalidation_0-rmse:0.18550\tvalidation_1-rmse:0.17164\n",
      "[63]\tvalidation_0-rmse:0.18545\tvalidation_1-rmse:0.17172\n",
      "[64]\tvalidation_0-rmse:0.18539\tvalidation_1-rmse:0.17175\n",
      "[65]\tvalidation_0-rmse:0.18528\tvalidation_1-rmse:0.17172\n",
      "[66]\tvalidation_0-rmse:0.18502\tvalidation_1-rmse:0.17140\n",
      "[67]\tvalidation_0-rmse:0.18484\tvalidation_1-rmse:0.17126\n",
      "[68]\tvalidation_0-rmse:0.18452\tvalidation_1-rmse:0.17116\n",
      "[69]\tvalidation_0-rmse:0.18442\tvalidation_1-rmse:0.17110\n",
      "[70]\tvalidation_0-rmse:0.18433\tvalidation_1-rmse:0.17109\n",
      "[71]\tvalidation_0-rmse:0.18416\tvalidation_1-rmse:0.17081\n",
      "[72]\tvalidation_0-rmse:0.18401\tvalidation_1-rmse:0.17070\n",
      "[73]\tvalidation_0-rmse:0.18384\tvalidation_1-rmse:0.17097\n",
      "[74]\tvalidation_0-rmse:0.18380\tvalidation_1-rmse:0.17104\n",
      "[75]\tvalidation_0-rmse:0.18369\tvalidation_1-rmse:0.17105\n",
      "[76]\tvalidation_0-rmse:0.18357\tvalidation_1-rmse:0.17096\n",
      "[77]\tvalidation_0-rmse:0.18350\tvalidation_1-rmse:0.17101\n",
      "[78]\tvalidation_0-rmse:0.18311\tvalidation_1-rmse:0.17107\n",
      "[79]\tvalidation_0-rmse:0.18305\tvalidation_1-rmse:0.17115\n",
      "[80]\tvalidation_0-rmse:0.18295\tvalidation_1-rmse:0.17112\n",
      "[81]\tvalidation_0-rmse:0.18292\tvalidation_1-rmse:0.17116\n",
      "[82]\tvalidation_0-rmse:0.18285\tvalidation_1-rmse:0.17122\n",
      "[83]\tvalidation_0-rmse:0.18267\tvalidation_1-rmse:0.17097\n",
      "[84]\tvalidation_0-rmse:0.18265\tvalidation_1-rmse:0.17101\n",
      "[85]\tvalidation_0-rmse:0.18262\tvalidation_1-rmse:0.17097\n",
      "[86]\tvalidation_0-rmse:0.18260\tvalidation_1-rmse:0.17097\n",
      "[87]\tvalidation_0-rmse:0.18210\tvalidation_1-rmse:0.17046\n",
      "[88]\tvalidation_0-rmse:0.18203\tvalidation_1-rmse:0.17048\n",
      "[89]\tvalidation_0-rmse:0.18184\tvalidation_1-rmse:0.17024\n",
      "[90]\tvalidation_0-rmse:0.18175\tvalidation_1-rmse:0.17012\n",
      "[91]\tvalidation_0-rmse:0.18170\tvalidation_1-rmse:0.17007\n",
      "[92]\tvalidation_0-rmse:0.18161\tvalidation_1-rmse:0.16998\n",
      "[93]\tvalidation_0-rmse:0.18061\tvalidation_1-rmse:0.16873\n",
      "[94]\tvalidation_0-rmse:0.18056\tvalidation_1-rmse:0.16870\n",
      "[95]\tvalidation_0-rmse:0.18051\tvalidation_1-rmse:0.16868\n",
      "[96]\tvalidation_0-rmse:0.18045\tvalidation_1-rmse:0.16843\n",
      "[97]\tvalidation_0-rmse:0.18024\tvalidation_1-rmse:0.16844\n",
      "[98]\tvalidation_0-rmse:0.18018\tvalidation_1-rmse:0.16850\n",
      "[99]\tvalidation_0-rmse:0.18005\tvalidation_1-rmse:0.16852\n",
      "[100]\tvalidation_0-rmse:0.18002\tvalidation_1-rmse:0.16862\n",
      "[101]\tvalidation_0-rmse:0.17998\tvalidation_1-rmse:0.16864\n",
      "[102]\tvalidation_0-rmse:0.17991\tvalidation_1-rmse:0.16863\n",
      "[103]\tvalidation_0-rmse:0.17988\tvalidation_1-rmse:0.16873\n",
      "[104]\tvalidation_0-rmse:0.17980\tvalidation_1-rmse:0.16874\n",
      "[105]\tvalidation_0-rmse:0.17974\tvalidation_1-rmse:0.16870\n",
      "[106]\tvalidation_0-rmse:0.17966\tvalidation_1-rmse:0.16862\n",
      "[107]\tvalidation_0-rmse:0.17956\tvalidation_1-rmse:0.16867\n",
      "[108]\tvalidation_0-rmse:0.17949\tvalidation_1-rmse:0.16856\n",
      "[109]\tvalidation_0-rmse:0.17944\tvalidation_1-rmse:0.16848\n",
      "[110]\tvalidation_0-rmse:0.17938\tvalidation_1-rmse:0.16853\n",
      "[111]\tvalidation_0-rmse:0.17935\tvalidation_1-rmse:0.16850\n",
      "[112]\tvalidation_0-rmse:0.17921\tvalidation_1-rmse:0.16841\n",
      "[113]\tvalidation_0-rmse:0.17913\tvalidation_1-rmse:0.16842\n",
      "[114]\tvalidation_0-rmse:0.17910\tvalidation_1-rmse:0.16848\n",
      "[115]\tvalidation_0-rmse:0.17904\tvalidation_1-rmse:0.16847\n",
      "[116]\tvalidation_0-rmse:0.17902\tvalidation_1-rmse:0.16848\n",
      "[117]\tvalidation_0-rmse:0.17897\tvalidation_1-rmse:0.16839\n",
      "[118]\tvalidation_0-rmse:0.17829\tvalidation_1-rmse:0.16783\n",
      "[119]\tvalidation_0-rmse:0.17823\tvalidation_1-rmse:0.16783\n",
      "[120]\tvalidation_0-rmse:0.17822\tvalidation_1-rmse:0.16786\n",
      "[121]\tvalidation_0-rmse:0.17819\tvalidation_1-rmse:0.16784\n",
      "[122]\tvalidation_0-rmse:0.17815\tvalidation_1-rmse:0.16783\n",
      "[123]\tvalidation_0-rmse:0.17813\tvalidation_1-rmse:0.16786\n",
      "[124]\tvalidation_0-rmse:0.17808\tvalidation_1-rmse:0.16781\n",
      "[125]\tvalidation_0-rmse:0.17802\tvalidation_1-rmse:0.16772\n",
      "[126]\tvalidation_0-rmse:0.17794\tvalidation_1-rmse:0.16767\n",
      "[127]\tvalidation_0-rmse:0.17790\tvalidation_1-rmse:0.16765\n",
      "[128]\tvalidation_0-rmse:0.17733\tvalidation_1-rmse:0.16694\n",
      "[129]\tvalidation_0-rmse:0.17723\tvalidation_1-rmse:0.16687\n",
      "[130]\tvalidation_0-rmse:0.17715\tvalidation_1-rmse:0.16688\n",
      "[131]\tvalidation_0-rmse:0.17713\tvalidation_1-rmse:0.16680\n",
      "[132]\tvalidation_0-rmse:0.17707\tvalidation_1-rmse:0.16689\n",
      "[133]\tvalidation_0-rmse:0.17703\tvalidation_1-rmse:0.16688\n",
      "[134]\tvalidation_0-rmse:0.17702\tvalidation_1-rmse:0.16691\n",
      "[135]\tvalidation_0-rmse:0.17680\tvalidation_1-rmse:0.16669\n",
      "[136]\tvalidation_0-rmse:0.17674\tvalidation_1-rmse:0.16636\n",
      "[137]\tvalidation_0-rmse:0.17673\tvalidation_1-rmse:0.16634\n",
      "[138]\tvalidation_0-rmse:0.17669\tvalidation_1-rmse:0.16634\n",
      "[139]\tvalidation_0-rmse:0.17665\tvalidation_1-rmse:0.16634\n",
      "[140]\tvalidation_0-rmse:0.17661\tvalidation_1-rmse:0.16635\n",
      "[141]\tvalidation_0-rmse:0.17659\tvalidation_1-rmse:0.16639\n",
      "[142]\tvalidation_0-rmse:0.17656\tvalidation_1-rmse:0.16644\n",
      "[143]\tvalidation_0-rmse:0.17655\tvalidation_1-rmse:0.16647\n"
     ]
    },
    {
     "name": "stdout",
     "output_type": "stream",
     "text": [
      "[144]\tvalidation_0-rmse:0.17649\tvalidation_1-rmse:0.16647\n",
      "[145]\tvalidation_0-rmse:0.17637\tvalidation_1-rmse:0.16619\n",
      "[146]\tvalidation_0-rmse:0.17633\tvalidation_1-rmse:0.16616\n",
      "[147]\tvalidation_0-rmse:0.17628\tvalidation_1-rmse:0.16609\n",
      "[148]\tvalidation_0-rmse:0.17577\tvalidation_1-rmse:0.16566\n",
      "[149]\tvalidation_0-rmse:0.17574\tvalidation_1-rmse:0.16559\n",
      "[150]\tvalidation_0-rmse:0.17568\tvalidation_1-rmse:0.16555\n",
      "[151]\tvalidation_0-rmse:0.17565\tvalidation_1-rmse:0.16550\n",
      "[152]\tvalidation_0-rmse:0.17561\tvalidation_1-rmse:0.16547\n",
      "[153]\tvalidation_0-rmse:0.17560\tvalidation_1-rmse:0.16551\n",
      "[154]\tvalidation_0-rmse:0.17558\tvalidation_1-rmse:0.16553\n",
      "[155]\tvalidation_0-rmse:0.17555\tvalidation_1-rmse:0.16553\n",
      "[156]\tvalidation_0-rmse:0.17524\tvalidation_1-rmse:0.16533\n",
      "[157]\tvalidation_0-rmse:0.17523\tvalidation_1-rmse:0.16531\n",
      "[158]\tvalidation_0-rmse:0.17518\tvalidation_1-rmse:0.16536\n",
      "[159]\tvalidation_0-rmse:0.17507\tvalidation_1-rmse:0.16529\n",
      "[160]\tvalidation_0-rmse:0.17506\tvalidation_1-rmse:0.16529\n",
      "[161]\tvalidation_0-rmse:0.17503\tvalidation_1-rmse:0.16535\n",
      "[162]\tvalidation_0-rmse:0.17489\tvalidation_1-rmse:0.16534\n",
      "[163]\tvalidation_0-rmse:0.17488\tvalidation_1-rmse:0.16532\n",
      "[164]\tvalidation_0-rmse:0.17484\tvalidation_1-rmse:0.16516\n",
      "[165]\tvalidation_0-rmse:0.17449\tvalidation_1-rmse:0.16470\n",
      "[166]\tvalidation_0-rmse:0.17449\tvalidation_1-rmse:0.16471\n",
      "[167]\tvalidation_0-rmse:0.17448\tvalidation_1-rmse:0.16473\n",
      "[168]\tvalidation_0-rmse:0.17444\tvalidation_1-rmse:0.16468\n",
      "[169]\tvalidation_0-rmse:0.17440\tvalidation_1-rmse:0.16468\n",
      "[170]\tvalidation_0-rmse:0.17437\tvalidation_1-rmse:0.16478\n",
      "[171]\tvalidation_0-rmse:0.17435\tvalidation_1-rmse:0.16478\n",
      "[172]\tvalidation_0-rmse:0.17419\tvalidation_1-rmse:0.16471\n",
      "[173]\tvalidation_0-rmse:0.17414\tvalidation_1-rmse:0.16470\n",
      "[174]\tvalidation_0-rmse:0.17411\tvalidation_1-rmse:0.16474\n",
      "[175]\tvalidation_0-rmse:0.17408\tvalidation_1-rmse:0.16471\n",
      "[176]\tvalidation_0-rmse:0.17398\tvalidation_1-rmse:0.16462\n",
      "[177]\tvalidation_0-rmse:0.17394\tvalidation_1-rmse:0.16462\n",
      "[178]\tvalidation_0-rmse:0.17393\tvalidation_1-rmse:0.16460\n",
      "[179]\tvalidation_0-rmse:0.17390\tvalidation_1-rmse:0.16461\n",
      "[180]\tvalidation_0-rmse:0.17387\tvalidation_1-rmse:0.16463\n",
      "[181]\tvalidation_0-rmse:0.17384\tvalidation_1-rmse:0.16452\n",
      "[182]\tvalidation_0-rmse:0.17381\tvalidation_1-rmse:0.16451\n",
      "[183]\tvalidation_0-rmse:0.17380\tvalidation_1-rmse:0.16451\n",
      "[184]\tvalidation_0-rmse:0.17379\tvalidation_1-rmse:0.16451\n",
      "[185]\tvalidation_0-rmse:0.17376\tvalidation_1-rmse:0.16447\n",
      "[186]\tvalidation_0-rmse:0.17373\tvalidation_1-rmse:0.16442\n",
      "[187]\tvalidation_0-rmse:0.17371\tvalidation_1-rmse:0.16443\n",
      "[188]\tvalidation_0-rmse:0.17369\tvalidation_1-rmse:0.16448\n",
      "[189]\tvalidation_0-rmse:0.17350\tvalidation_1-rmse:0.16421\n",
      "[190]\tvalidation_0-rmse:0.17344\tvalidation_1-rmse:0.16421\n",
      "[191]\tvalidation_0-rmse:0.17343\tvalidation_1-rmse:0.16420\n",
      "[192]\tvalidation_0-rmse:0.17340\tvalidation_1-rmse:0.16421\n",
      "[193]\tvalidation_0-rmse:0.17338\tvalidation_1-rmse:0.16420\n",
      "[194]\tvalidation_0-rmse:0.17336\tvalidation_1-rmse:0.16418\n",
      "[195]\tvalidation_0-rmse:0.17334\tvalidation_1-rmse:0.16416\n",
      "[196]\tvalidation_0-rmse:0.17332\tvalidation_1-rmse:0.16414\n",
      "[197]\tvalidation_0-rmse:0.17331\tvalidation_1-rmse:0.16411\n",
      "[198]\tvalidation_0-rmse:0.17329\tvalidation_1-rmse:0.16415\n",
      "[199]\tvalidation_0-rmse:0.17328\tvalidation_1-rmse:0.16412\n",
      "[200]\tvalidation_0-rmse:0.17327\tvalidation_1-rmse:0.16419\n",
      "[201]\tvalidation_0-rmse:0.17326\tvalidation_1-rmse:0.16422\n",
      "[202]\tvalidation_0-rmse:0.17324\tvalidation_1-rmse:0.16417\n",
      "[203]\tvalidation_0-rmse:0.17311\tvalidation_1-rmse:0.16398\n",
      "[204]\tvalidation_0-rmse:0.17309\tvalidation_1-rmse:0.16396\n",
      "[205]\tvalidation_0-rmse:0.17306\tvalidation_1-rmse:0.16396\n",
      "[206]\tvalidation_0-rmse:0.17305\tvalidation_1-rmse:0.16395\n",
      "[207]\tvalidation_0-rmse:0.17303\tvalidation_1-rmse:0.16393\n",
      "[208]\tvalidation_0-rmse:0.17299\tvalidation_1-rmse:0.16365\n",
      "[209]\tvalidation_0-rmse:0.17298\tvalidation_1-rmse:0.16367\n",
      "[210]\tvalidation_0-rmse:0.17297\tvalidation_1-rmse:0.16370\n",
      "[211]\tvalidation_0-rmse:0.17295\tvalidation_1-rmse:0.16362\n",
      "[212]\tvalidation_0-rmse:0.17292\tvalidation_1-rmse:0.16360\n",
      "[213]\tvalidation_0-rmse:0.17286\tvalidation_1-rmse:0.16361\n",
      "[214]\tvalidation_0-rmse:0.17284\tvalidation_1-rmse:0.16355\n",
      "[215]\tvalidation_0-rmse:0.17282\tvalidation_1-rmse:0.16359\n",
      "[216]\tvalidation_0-rmse:0.17270\tvalidation_1-rmse:0.16345\n",
      "[217]\tvalidation_0-rmse:0.17267\tvalidation_1-rmse:0.16345\n",
      "[218]\tvalidation_0-rmse:0.17264\tvalidation_1-rmse:0.16326\n",
      "[219]\tvalidation_0-rmse:0.17258\tvalidation_1-rmse:0.16306\n",
      "[220]\tvalidation_0-rmse:0.17254\tvalidation_1-rmse:0.16307\n",
      "[221]\tvalidation_0-rmse:0.17253\tvalidation_1-rmse:0.16306\n",
      "[222]\tvalidation_0-rmse:0.17251\tvalidation_1-rmse:0.16306\n",
      "[223]\tvalidation_0-rmse:0.17249\tvalidation_1-rmse:0.16304\n",
      "[224]\tvalidation_0-rmse:0.17247\tvalidation_1-rmse:0.16300\n",
      "[225]\tvalidation_0-rmse:0.17246\tvalidation_1-rmse:0.16300\n",
      "[226]\tvalidation_0-rmse:0.17245\tvalidation_1-rmse:0.16302\n",
      "[227]\tvalidation_0-rmse:0.17232\tvalidation_1-rmse:0.16304\n",
      "[228]\tvalidation_0-rmse:0.17225\tvalidation_1-rmse:0.16291\n",
      "[229]\tvalidation_0-rmse:0.17219\tvalidation_1-rmse:0.16284\n",
      "[230]\tvalidation_0-rmse:0.17216\tvalidation_1-rmse:0.16278\n",
      "[231]\tvalidation_0-rmse:0.17215\tvalidation_1-rmse:0.16276\n",
      "[232]\tvalidation_0-rmse:0.17211\tvalidation_1-rmse:0.16276\n",
      "[233]\tvalidation_0-rmse:0.17206\tvalidation_1-rmse:0.16281\n",
      "[234]\tvalidation_0-rmse:0.17204\tvalidation_1-rmse:0.16277\n",
      "[235]\tvalidation_0-rmse:0.17202\tvalidation_1-rmse:0.16274\n",
      "[236]\tvalidation_0-rmse:0.17201\tvalidation_1-rmse:0.16275\n",
      "[237]\tvalidation_0-rmse:0.17198\tvalidation_1-rmse:0.16277\n",
      "[238]\tvalidation_0-rmse:0.17197\tvalidation_1-rmse:0.16278\n",
      "[239]\tvalidation_0-rmse:0.17196\tvalidation_1-rmse:0.16277\n",
      "[240]\tvalidation_0-rmse:0.17194\tvalidation_1-rmse:0.16274\n",
      "[241]\tvalidation_0-rmse:0.17192\tvalidation_1-rmse:0.16275\n",
      "[242]\tvalidation_0-rmse:0.17186\tvalidation_1-rmse:0.16265\n",
      "[243]\tvalidation_0-rmse:0.17184\tvalidation_1-rmse:0.16263\n",
      "[244]\tvalidation_0-rmse:0.17175\tvalidation_1-rmse:0.16267\n",
      "[245]\tvalidation_0-rmse:0.17164\tvalidation_1-rmse:0.16249\n",
      "[246]\tvalidation_0-rmse:0.17158\tvalidation_1-rmse:0.16239\n",
      "[247]\tvalidation_0-rmse:0.17157\tvalidation_1-rmse:0.16236\n",
      "[248]\tvalidation_0-rmse:0.17156\tvalidation_1-rmse:0.16236\n",
      "[249]\tvalidation_0-rmse:0.17156\tvalidation_1-rmse:0.16237\n",
      "[250]\tvalidation_0-rmse:0.17153\tvalidation_1-rmse:0.16234\n",
      "[251]\tvalidation_0-rmse:0.17152\tvalidation_1-rmse:0.16233\n",
      "[252]\tvalidation_0-rmse:0.17150\tvalidation_1-rmse:0.16228\n",
      "[253]\tvalidation_0-rmse:0.17148\tvalidation_1-rmse:0.16224\n",
      "[254]\tvalidation_0-rmse:0.17147\tvalidation_1-rmse:0.16222\n",
      "[255]\tvalidation_0-rmse:0.17135\tvalidation_1-rmse:0.16218\n",
      "[256]\tvalidation_0-rmse:0.17127\tvalidation_1-rmse:0.16205\n",
      "[257]\tvalidation_0-rmse:0.17117\tvalidation_1-rmse:0.16204\n",
      "[258]\tvalidation_0-rmse:0.17111\tvalidation_1-rmse:0.16192\n",
      "[259]\tvalidation_0-rmse:0.17110\tvalidation_1-rmse:0.16191\n",
      "[260]\tvalidation_0-rmse:0.17108\tvalidation_1-rmse:0.16190\n",
      "[261]\tvalidation_0-rmse:0.17106\tvalidation_1-rmse:0.16192\n",
      "[262]\tvalidation_0-rmse:0.17105\tvalidation_1-rmse:0.16193\n",
      "[263]\tvalidation_0-rmse:0.17104\tvalidation_1-rmse:0.16193\n",
      "[264]\tvalidation_0-rmse:0.17103\tvalidation_1-rmse:0.16190\n",
      "[265]\tvalidation_0-rmse:0.17103\tvalidation_1-rmse:0.16191\n",
      "[266]\tvalidation_0-rmse:0.17101\tvalidation_1-rmse:0.16192\n",
      "[267]\tvalidation_0-rmse:0.17100\tvalidation_1-rmse:0.16189\n",
      "[268]\tvalidation_0-rmse:0.17099\tvalidation_1-rmse:0.16190\n",
      "[269]\tvalidation_0-rmse:0.17098\tvalidation_1-rmse:0.16195\n",
      "[270]\tvalidation_0-rmse:0.17095\tvalidation_1-rmse:0.16195\n",
      "[271]\tvalidation_0-rmse:0.17092\tvalidation_1-rmse:0.16168\n",
      "[272]\tvalidation_0-rmse:0.17090\tvalidation_1-rmse:0.16170\n",
      "[273]\tvalidation_0-rmse:0.17089\tvalidation_1-rmse:0.16170\n",
      "[274]\tvalidation_0-rmse:0.17088\tvalidation_1-rmse:0.16170\n",
      "[275]\tvalidation_0-rmse:0.17087\tvalidation_1-rmse:0.16176\n",
      "[276]\tvalidation_0-rmse:0.17084\tvalidation_1-rmse:0.16177\n",
      "[277]\tvalidation_0-rmse:0.17082\tvalidation_1-rmse:0.16177\n",
      "[278]\tvalidation_0-rmse:0.17081\tvalidation_1-rmse:0.16174\n",
      "[279]\tvalidation_0-rmse:0.17081\tvalidation_1-rmse:0.16175\n",
      "[280]\tvalidation_0-rmse:0.17078\tvalidation_1-rmse:0.16172\n",
      "[281]\tvalidation_0-rmse:0.17075\tvalidation_1-rmse:0.16170\n",
      "[282]\tvalidation_0-rmse:0.17075\tvalidation_1-rmse:0.16169\n",
      "[283]\tvalidation_0-rmse:0.17072\tvalidation_1-rmse:0.16171\n",
      "[284]\tvalidation_0-rmse:0.17070\tvalidation_1-rmse:0.16171\n",
      "[285]\tvalidation_0-rmse:0.17069\tvalidation_1-rmse:0.16179\n"
     ]
    },
    {
     "name": "stdout",
     "output_type": "stream",
     "text": [
      "[286]\tvalidation_0-rmse:0.17064\tvalidation_1-rmse:0.16174\n",
      "[287]\tvalidation_0-rmse:0.17063\tvalidation_1-rmse:0.16172\n",
      "[288]\tvalidation_0-rmse:0.17061\tvalidation_1-rmse:0.16172\n",
      "[289]\tvalidation_0-rmse:0.17059\tvalidation_1-rmse:0.16166\n",
      "[290]\tvalidation_0-rmse:0.17058\tvalidation_1-rmse:0.16165\n",
      "[291]\tvalidation_0-rmse:0.17058\tvalidation_1-rmse:0.16162\n",
      "[292]\tvalidation_0-rmse:0.17055\tvalidation_1-rmse:0.16159\n",
      "[293]\tvalidation_0-rmse:0.17054\tvalidation_1-rmse:0.16159\n",
      "[294]\tvalidation_0-rmse:0.17050\tvalidation_1-rmse:0.16171\n",
      "[295]\tvalidation_0-rmse:0.17050\tvalidation_1-rmse:0.16170\n",
      "[296]\tvalidation_0-rmse:0.17047\tvalidation_1-rmse:0.16169\n",
      "[297]\tvalidation_0-rmse:0.17046\tvalidation_1-rmse:0.16165\n",
      "[298]\tvalidation_0-rmse:0.17039\tvalidation_1-rmse:0.16167\n",
      "[299]\tvalidation_0-rmse:0.17033\tvalidation_1-rmse:0.16156\n",
      "[300]\tvalidation_0-rmse:0.17030\tvalidation_1-rmse:0.16151\n",
      "[301]\tvalidation_0-rmse:0.17027\tvalidation_1-rmse:0.16150\n",
      "[302]\tvalidation_0-rmse:0.17019\tvalidation_1-rmse:0.16155\n",
      "[303]\tvalidation_0-rmse:0.17014\tvalidation_1-rmse:0.16148\n",
      "[304]\tvalidation_0-rmse:0.17012\tvalidation_1-rmse:0.16142\n",
      "[305]\tvalidation_0-rmse:0.17010\tvalidation_1-rmse:0.16134\n",
      "[306]\tvalidation_0-rmse:0.17008\tvalidation_1-rmse:0.16117\n",
      "[307]\tvalidation_0-rmse:0.17006\tvalidation_1-rmse:0.16117\n",
      "[308]\tvalidation_0-rmse:0.17005\tvalidation_1-rmse:0.16123\n",
      "[309]\tvalidation_0-rmse:0.17004\tvalidation_1-rmse:0.16128\n",
      "[310]\tvalidation_0-rmse:0.16998\tvalidation_1-rmse:0.16127\n",
      "[311]\tvalidation_0-rmse:0.16994\tvalidation_1-rmse:0.16120\n",
      "[312]\tvalidation_0-rmse:0.16978\tvalidation_1-rmse:0.16096\n",
      "[313]\tvalidation_0-rmse:0.16976\tvalidation_1-rmse:0.16093\n",
      "[314]\tvalidation_0-rmse:0.16974\tvalidation_1-rmse:0.16088\n",
      "[315]\tvalidation_0-rmse:0.16972\tvalidation_1-rmse:0.16086\n",
      "[316]\tvalidation_0-rmse:0.16965\tvalidation_1-rmse:0.16090\n",
      "[317]\tvalidation_0-rmse:0.16962\tvalidation_1-rmse:0.16086\n",
      "[318]\tvalidation_0-rmse:0.16961\tvalidation_1-rmse:0.16085\n",
      "[319]\tvalidation_0-rmse:0.16960\tvalidation_1-rmse:0.16088\n",
      "[320]\tvalidation_0-rmse:0.16959\tvalidation_1-rmse:0.16087\n",
      "[321]\tvalidation_0-rmse:0.16958\tvalidation_1-rmse:0.16089\n",
      "[322]\tvalidation_0-rmse:0.16957\tvalidation_1-rmse:0.16090\n",
      "[323]\tvalidation_0-rmse:0.16956\tvalidation_1-rmse:0.16090\n",
      "[324]\tvalidation_0-rmse:0.16954\tvalidation_1-rmse:0.16093\n",
      "[325]\tvalidation_0-rmse:0.16954\tvalidation_1-rmse:0.16094\n",
      "[326]\tvalidation_0-rmse:0.16953\tvalidation_1-rmse:0.16095\n",
      "[327]\tvalidation_0-rmse:0.16952\tvalidation_1-rmse:0.16093\n",
      "[328]\tvalidation_0-rmse:0.16951\tvalidation_1-rmse:0.16093\n",
      "[329]\tvalidation_0-rmse:0.16949\tvalidation_1-rmse:0.16105\n",
      "[330]\tvalidation_0-rmse:0.16948\tvalidation_1-rmse:0.16101\n",
      "[331]\tvalidation_0-rmse:0.16945\tvalidation_1-rmse:0.16095\n",
      "[332]\tvalidation_0-rmse:0.16944\tvalidation_1-rmse:0.16095\n",
      "[333]\tvalidation_0-rmse:0.16941\tvalidation_1-rmse:0.16116\n",
      "[334]\tvalidation_0-rmse:0.16940\tvalidation_1-rmse:0.16111\n",
      "[335]\tvalidation_0-rmse:0.16939\tvalidation_1-rmse:0.16106\n",
      "[336]\tvalidation_0-rmse:0.16938\tvalidation_1-rmse:0.16104\n",
      "[337]\tvalidation_0-rmse:0.16937\tvalidation_1-rmse:0.16103\n",
      "[338]\tvalidation_0-rmse:0.16936\tvalidation_1-rmse:0.16104\n",
      "[339]\tvalidation_0-rmse:0.16935\tvalidation_1-rmse:0.16103\n",
      "[340]\tvalidation_0-rmse:0.16934\tvalidation_1-rmse:0.16099\n",
      "[341]\tvalidation_0-rmse:0.16934\tvalidation_1-rmse:0.16096\n",
      "[342]\tvalidation_0-rmse:0.16932\tvalidation_1-rmse:0.16084\n",
      "[343]\tvalidation_0-rmse:0.16931\tvalidation_1-rmse:0.16084\n",
      "[344]\tvalidation_0-rmse:0.16929\tvalidation_1-rmse:0.16081\n",
      "[345]\tvalidation_0-rmse:0.16928\tvalidation_1-rmse:0.16083\n",
      "[346]\tvalidation_0-rmse:0.16928\tvalidation_1-rmse:0.16079\n",
      "[347]\tvalidation_0-rmse:0.16922\tvalidation_1-rmse:0.16084\n",
      "[348]\tvalidation_0-rmse:0.16920\tvalidation_1-rmse:0.16078\n",
      "[349]\tvalidation_0-rmse:0.16919\tvalidation_1-rmse:0.16075\n",
      "[350]\tvalidation_0-rmse:0.16918\tvalidation_1-rmse:0.16070\n",
      "[351]\tvalidation_0-rmse:0.16916\tvalidation_1-rmse:0.16069\n",
      "[352]\tvalidation_0-rmse:0.16915\tvalidation_1-rmse:0.16068\n",
      "[353]\tvalidation_0-rmse:0.16914\tvalidation_1-rmse:0.16065\n",
      "[354]\tvalidation_0-rmse:0.16912\tvalidation_1-rmse:0.16065\n",
      "[355]\tvalidation_0-rmse:0.16912\tvalidation_1-rmse:0.16068\n",
      "[356]\tvalidation_0-rmse:0.16911\tvalidation_1-rmse:0.16070\n",
      "[357]\tvalidation_0-rmse:0.16910\tvalidation_1-rmse:0.16070\n",
      "[358]\tvalidation_0-rmse:0.16908\tvalidation_1-rmse:0.16070\n",
      "[359]\tvalidation_0-rmse:0.16907\tvalidation_1-rmse:0.16070\n",
      "[360]\tvalidation_0-rmse:0.16906\tvalidation_1-rmse:0.16070\n",
      "[361]\tvalidation_0-rmse:0.16904\tvalidation_1-rmse:0.16069\n",
      "[362]\tvalidation_0-rmse:0.16902\tvalidation_1-rmse:0.16065\n",
      "[363]\tvalidation_0-rmse:0.16901\tvalidation_1-rmse:0.16071\n",
      "[364]\tvalidation_0-rmse:0.16900\tvalidation_1-rmse:0.16065\n",
      "[365]\tvalidation_0-rmse:0.16899\tvalidation_1-rmse:0.16067\n",
      "[366]\tvalidation_0-rmse:0.16897\tvalidation_1-rmse:0.16065\n",
      "[367]\tvalidation_0-rmse:0.16896\tvalidation_1-rmse:0.16067\n",
      "[368]\tvalidation_0-rmse:0.16895\tvalidation_1-rmse:0.16063\n",
      "[369]\tvalidation_0-rmse:0.16895\tvalidation_1-rmse:0.16063\n",
      "[370]\tvalidation_0-rmse:0.16894\tvalidation_1-rmse:0.16063\n",
      "[371]\tvalidation_0-rmse:0.16894\tvalidation_1-rmse:0.16063\n",
      "[372]\tvalidation_0-rmse:0.16892\tvalidation_1-rmse:0.16074\n",
      "[373]\tvalidation_0-rmse:0.16891\tvalidation_1-rmse:0.16071\n",
      "[374]\tvalidation_0-rmse:0.16890\tvalidation_1-rmse:0.16070\n",
      "[375]\tvalidation_0-rmse:0.16890\tvalidation_1-rmse:0.16062\n",
      "[376]\tvalidation_0-rmse:0.16889\tvalidation_1-rmse:0.16062\n",
      "[377]\tvalidation_0-rmse:0.16878\tvalidation_1-rmse:0.16046\n",
      "[378]\tvalidation_0-rmse:0.16877\tvalidation_1-rmse:0.16051\n",
      "[379]\tvalidation_0-rmse:0.16876\tvalidation_1-rmse:0.16045\n",
      "[380]\tvalidation_0-rmse:0.16874\tvalidation_1-rmse:0.16054\n",
      "[381]\tvalidation_0-rmse:0.16871\tvalidation_1-rmse:0.16061\n",
      "[382]\tvalidation_0-rmse:0.16869\tvalidation_1-rmse:0.16056\n",
      "[383]\tvalidation_0-rmse:0.16867\tvalidation_1-rmse:0.16056\n",
      "[384]\tvalidation_0-rmse:0.16866\tvalidation_1-rmse:0.16056\n",
      "[385]\tvalidation_0-rmse:0.16866\tvalidation_1-rmse:0.16055\n",
      "[386]\tvalidation_0-rmse:0.16864\tvalidation_1-rmse:0.16051\n",
      "[387]\tvalidation_0-rmse:0.16864\tvalidation_1-rmse:0.16050\n",
      "[388]\tvalidation_0-rmse:0.16862\tvalidation_1-rmse:0.16046\n",
      "[389]\tvalidation_0-rmse:0.16862\tvalidation_1-rmse:0.16045\n",
      "[390]\tvalidation_0-rmse:0.16861\tvalidation_1-rmse:0.16044\n",
      "[391]\tvalidation_0-rmse:0.16860\tvalidation_1-rmse:0.16044\n",
      "[392]\tvalidation_0-rmse:0.16859\tvalidation_1-rmse:0.16044\n",
      "[393]\tvalidation_0-rmse:0.16859\tvalidation_1-rmse:0.16041\n",
      "[394]\tvalidation_0-rmse:0.16856\tvalidation_1-rmse:0.16039\n",
      "[395]\tvalidation_0-rmse:0.16855\tvalidation_1-rmse:0.16045\n",
      "[396]\tvalidation_0-rmse:0.16854\tvalidation_1-rmse:0.16040\n",
      "[397]\tvalidation_0-rmse:0.16737\tvalidation_1-rmse:0.15921\n",
      "[398]\tvalidation_0-rmse:0.16737\tvalidation_1-rmse:0.15920\n",
      "[399]\tvalidation_0-rmse:0.16733\tvalidation_1-rmse:0.15913\n",
      "[400]\tvalidation_0-rmse:0.16732\tvalidation_1-rmse:0.15912\n",
      "[401]\tvalidation_0-rmse:0.16730\tvalidation_1-rmse:0.15909\n",
      "[402]\tvalidation_0-rmse:0.16723\tvalidation_1-rmse:0.15891\n",
      "[403]\tvalidation_0-rmse:0.16722\tvalidation_1-rmse:0.15889\n",
      "[404]\tvalidation_0-rmse:0.16719\tvalidation_1-rmse:0.15884\n",
      "[405]\tvalidation_0-rmse:0.16717\tvalidation_1-rmse:0.15885\n",
      "[406]\tvalidation_0-rmse:0.16716\tvalidation_1-rmse:0.15885\n",
      "[407]\tvalidation_0-rmse:0.16715\tvalidation_1-rmse:0.15885\n",
      "[408]\tvalidation_0-rmse:0.16714\tvalidation_1-rmse:0.15883\n",
      "[409]\tvalidation_0-rmse:0.16713\tvalidation_1-rmse:0.15883\n",
      "[410]\tvalidation_0-rmse:0.16712\tvalidation_1-rmse:0.15883\n",
      "[411]\tvalidation_0-rmse:0.16711\tvalidation_1-rmse:0.15881\n",
      "[412]\tvalidation_0-rmse:0.16710\tvalidation_1-rmse:0.15868\n",
      "[413]\tvalidation_0-rmse:0.16709\tvalidation_1-rmse:0.15908\n",
      "[414]\tvalidation_0-rmse:0.16708\tvalidation_1-rmse:0.15908\n",
      "[415]\tvalidation_0-rmse:0.16707\tvalidation_1-rmse:0.15913\n",
      "[416]\tvalidation_0-rmse:0.16706\tvalidation_1-rmse:0.15911\n",
      "[417]\tvalidation_0-rmse:0.16704\tvalidation_1-rmse:0.15901\n",
      "[418]\tvalidation_0-rmse:0.16703\tvalidation_1-rmse:0.15907\n",
      "[419]\tvalidation_0-rmse:0.16702\tvalidation_1-rmse:0.15908\n",
      "[420]\tvalidation_0-rmse:0.16699\tvalidation_1-rmse:0.15914\n",
      "[421]\tvalidation_0-rmse:0.16698\tvalidation_1-rmse:0.15910\n",
      "[422]\tvalidation_0-rmse:0.16697\tvalidation_1-rmse:0.15905\n",
      "[423]\tvalidation_0-rmse:0.16695\tvalidation_1-rmse:0.15907\n",
      "[424]\tvalidation_0-rmse:0.16695\tvalidation_1-rmse:0.15906\n",
      "[425]\tvalidation_0-rmse:0.16694\tvalidation_1-rmse:0.15907\n",
      "[426]\tvalidation_0-rmse:0.16693\tvalidation_1-rmse:0.15906\n",
      "[427]\tvalidation_0-rmse:0.16692\tvalidation_1-rmse:0.15905\n"
     ]
    },
    {
     "name": "stdout",
     "output_type": "stream",
     "text": [
      "[428]\tvalidation_0-rmse:0.16692\tvalidation_1-rmse:0.15906\n",
      "[429]\tvalidation_0-rmse:0.16689\tvalidation_1-rmse:0.15903\n",
      "[430]\tvalidation_0-rmse:0.16688\tvalidation_1-rmse:0.15899\n",
      "[431]\tvalidation_0-rmse:0.16687\tvalidation_1-rmse:0.15898\n",
      "[432]\tvalidation_0-rmse:0.16686\tvalidation_1-rmse:0.15899\n",
      "[433]\tvalidation_0-rmse:0.16684\tvalidation_1-rmse:0.15901\n",
      "[434]\tvalidation_0-rmse:0.16682\tvalidation_1-rmse:0.15901\n",
      "[435]\tvalidation_0-rmse:0.16675\tvalidation_1-rmse:0.15902\n",
      "[436]\tvalidation_0-rmse:0.16674\tvalidation_1-rmse:0.15902\n",
      "[437]\tvalidation_0-rmse:0.16674\tvalidation_1-rmse:0.15903\n",
      "[438]\tvalidation_0-rmse:0.16674\tvalidation_1-rmse:0.15903\n",
      "[439]\tvalidation_0-rmse:0.16670\tvalidation_1-rmse:0.15894\n",
      "[440]\tvalidation_0-rmse:0.16667\tvalidation_1-rmse:0.15899\n",
      "[441]\tvalidation_0-rmse:0.16666\tvalidation_1-rmse:0.15899\n",
      "[442]\tvalidation_0-rmse:0.16666\tvalidation_1-rmse:0.15899\n",
      "[443]\tvalidation_0-rmse:0.16665\tvalidation_1-rmse:0.15898\n",
      "[444]\tvalidation_0-rmse:0.16664\tvalidation_1-rmse:0.15898\n",
      "[445]\tvalidation_0-rmse:0.16663\tvalidation_1-rmse:0.15895\n",
      "[446]\tvalidation_0-rmse:0.16663\tvalidation_1-rmse:0.15891\n",
      "[447]\tvalidation_0-rmse:0.16662\tvalidation_1-rmse:0.15893\n",
      "[448]\tvalidation_0-rmse:0.16661\tvalidation_1-rmse:0.15887\n",
      "[449]\tvalidation_0-rmse:0.16660\tvalidation_1-rmse:0.15883\n",
      "[450]\tvalidation_0-rmse:0.16660\tvalidation_1-rmse:0.15884\n",
      "[451]\tvalidation_0-rmse:0.16658\tvalidation_1-rmse:0.15879\n",
      "[452]\tvalidation_0-rmse:0.16657\tvalidation_1-rmse:0.15877\n",
      "[453]\tvalidation_0-rmse:0.16656\tvalidation_1-rmse:0.15878\n",
      "[454]\tvalidation_0-rmse:0.16654\tvalidation_1-rmse:0.15888\n",
      "[455]\tvalidation_0-rmse:0.16654\tvalidation_1-rmse:0.15922\n",
      "[456]\tvalidation_0-rmse:0.16653\tvalidation_1-rmse:0.15920\n",
      "[457]\tvalidation_0-rmse:0.16652\tvalidation_1-rmse:0.15925\n",
      "[458]\tvalidation_0-rmse:0.16652\tvalidation_1-rmse:0.15925\n",
      "[459]\tvalidation_0-rmse:0.16650\tvalidation_1-rmse:0.15924\n",
      "[460]\tvalidation_0-rmse:0.16649\tvalidation_1-rmse:0.15923\n",
      "[461]\tvalidation_0-rmse:0.16649\tvalidation_1-rmse:0.15918\n",
      "[462]\tvalidation_0-rmse:0.16646\tvalidation_1-rmse:0.15913\n"
     ]
    },
    {
     "data": {
      "text/plain": [
       "XGBRegressor(base_score=0.5, booster='gbtree', colsample_bylevel=1,\n",
       "             colsample_bynode=1, colsample_bytree=1, gamma=0, gpu_id=-1,\n",
       "             importance_type='gain', interaction_constraints='',\n",
       "             learning_rate=0.300000012, max_delta_step=0, max_depth=2,\n",
       "             min_child_weight=1, missing=nan, monotone_constraints='()',\n",
       "             n_estimators=500, n_jobs=4, num_parallel_tree=1, random_state=0,\n",
       "             reg_alpha=0, reg_lambda=1, scale_pos_weight=1, subsample=1,\n",
       "             tree_method='exact', validate_parameters=1, verbosity=None)"
      ]
     },
     "execution_count": 85,
     "metadata": {},
     "output_type": "execute_result"
    }
   ],
   "source": [
    "xgboost_tree = xgb.XGBRegressor(n_estimators = 500, max_depth = 2)\n",
    "\n",
    "xgboost_tree.fit(X_train, np.log(1+y_train), \n",
    "                 eval_set = [(X_train, np.log(1+y_train)), (X_test, np.log(1+y_test))],\n",
    "                 eval_metric = \"rmse\",\n",
    "                 early_stopping_rounds = 50)"
   ]
  },
  {
   "cell_type": "code",
   "execution_count": 86,
   "metadata": {},
   "outputs": [
    {
     "data": {
      "text/plain": [
       "array([6.9674082e+03, 6.3979258e+03, 5.5371577e+03, ..., 4.7233820e-02,\n",
       "       5.7858281e+03, 7.3130713e+03], dtype=float32)"
      ]
     },
     "execution_count": 86,
     "metadata": {},
     "output_type": "execute_result"
    }
   ],
   "source": [
    "np.exp(xgboost_tree.predict(X_test))-1"
   ]
  },
  {
   "cell_type": "code",
   "execution_count": 88,
   "metadata": {},
   "outputs": [
    {
     "data": {
      "text/plain": [
       "array([5263, 5020, 4782, ...,    0, 7824, 8291])"
      ]
     },
     "execution_count": 88,
     "metadata": {},
     "output_type": "execute_result"
    }
   ],
   "source": [
    "y_test"
   ]
  },
  {
   "cell_type": "code",
   "execution_count": 93,
   "metadata": {},
   "outputs": [],
   "source": [
    "y_pred = np.exp(xgboost_tree.predict(X_test)) - 1"
   ]
  },
  {
   "cell_type": "code",
   "execution_count": 95,
   "metadata": {},
   "outputs": [],
   "source": [
    "final_df = df.loc[df[\"Date\"] >= date_threshold].reset_index(drop=True)"
   ]
  },
  {
   "cell_type": "code",
   "execution_count": 96,
   "metadata": {},
   "outputs": [],
   "source": [
    "final_df['Sales_prediction'] = y_pred"
   ]
  },
  {
   "cell_type": "code",
   "execution_count": 98,
   "metadata": {},
   "outputs": [],
   "source": [
    "final_df.to_csv('final_prediction', index=False)"
   ]
  },
  {
   "cell_type": "code",
   "execution_count": null,
   "metadata": {},
   "outputs": [],
   "source": []
  }
 ],
 "metadata": {
  "kernelspec": {
   "display_name": "Python 3",
   "language": "python",
   "name": "python3"
  },
  "language_info": {
   "codemirror_mode": {
    "name": "ipython",
    "version": 3
   },
   "file_extension": ".py",
   "mimetype": "text/x-python",
   "name": "python",
   "nbconvert_exporter": "python",
   "pygments_lexer": "ipython3",
   "version": "3.8.5"
  }
 },
 "nbformat": 4,
 "nbformat_minor": 2
}
